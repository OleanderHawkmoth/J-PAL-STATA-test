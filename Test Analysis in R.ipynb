{
 "cells": [
  {
   "cell_type": "markdown",
   "metadata": {},
   "source": [
    "# Section 1 : Data Cleaning"
   ]
  },
  {
   "cell_type": "markdown",
   "metadata": {},
   "source": [
    "### I am using the library readxl to read the xl files into R environment."
   ]
  },
  {
   "cell_type": "code",
   "execution_count": 1,
   "metadata": {
    "collapsed": false
   },
   "outputs": [
    {
     "name": "stderr",
     "output_type": "stream",
     "text": [
      "Warning message:\n",
      "\"package 'readxl' was built under R version 3.4.0\""
     ]
    }
   ],
   "source": [
    "library(readxl)"
   ]
  },
  {
   "cell_type": "markdown",
   "metadata": {},
   "source": [
    "### I am creating 2 dataframe to hold the data. One is data which holds the data for \"Data for Stata Test_2016.xlsx' and another one is townNames to hold data for 'Town Names for Stata Test_2016.xlsx'"
   ]
  },
  {
   "cell_type": "code",
   "execution_count": 2,
   "metadata": {
    "collapsed": false
   },
   "outputs": [],
   "source": [
    "data <- read_excel('Data for Stata Test_2016.xlsx',sheet= 'Data')\n",
    "townNames <- read_excel('Town Names for Stata Test_2016.xlsx',sheet = 'Sheet1')"
   ]
  },
  {
   "cell_type": "markdown",
   "metadata": {},
   "source": [
    "### I will have a look at structure and data types of both the data set."
   ]
  },
  {
   "cell_type": "code",
   "execution_count": 3,
   "metadata": {
    "collapsed": false
   },
   "outputs": [
    {
     "name": "stdout",
     "output_type": "stream",
     "text": [
      "Classes 'tbl_df', 'tbl' and 'data.frame':\t6970 obs. of  9 variables:\n",
      " $ town_id          : num  171 171 171 171 171 171 171 171 171 171 ...\n",
      " $ turnout_total    : num  413 618 377 367 265 325 384 310 342 366 ...\n",
      " $ turnout_male     : num  208 337 215 200 128 185 216 180 183 205 ...\n",
      " $ turnout_female   : num  205 281 162 167 137 140 168 130 159 161 ...\n",
      " $ registered_total : num  1389 1544 1280 1551 1128 ...\n",
      " $ registered_male  : num  769 859 695 850 609 556 477 512 604 225 ...\n",
      " $ registered_female: num  620 685 585 701 519 442 342 436 469 176 ...\n",
      " $ treatment        : num  1 0 0 0 1 0 0 1 1 1 ...\n",
      " $ treatment_phase  : num  1 1 1 1 1 1 1 1 1 1 ...\n"
     ]
    }
   ],
   "source": [
    "str(data)"
   ]
  },
  {
   "cell_type": "markdown",
   "metadata": {},
   "source": [
    "### I am checking the data once again by having a look at first few rows and last few rows."
   ]
  },
  {
   "cell_type": "code",
   "execution_count": 4,
   "metadata": {
    "collapsed": false
   },
   "outputs": [
    {
     "data": {
      "text/html": [
       "<table>\n",
       "<thead><tr><th scope=col>town_id</th><th scope=col>turnout_total</th><th scope=col>turnout_male</th><th scope=col>turnout_female</th><th scope=col>registered_total</th><th scope=col>registered_male</th><th scope=col>registered_female</th><th scope=col>treatment</th><th scope=col>treatment_phase</th></tr></thead>\n",
       "<tbody>\n",
       "\t<tr><td>171 </td><td>413 </td><td>208 </td><td>205 </td><td>1389</td><td>769 </td><td>620 </td><td>1   </td><td>1   </td></tr>\n",
       "\t<tr><td>171 </td><td>618 </td><td>337 </td><td>281 </td><td>1544</td><td>859 </td><td>685 </td><td>0   </td><td>1   </td></tr>\n",
       "\t<tr><td>171 </td><td>377 </td><td>215 </td><td>162 </td><td>1280</td><td>695 </td><td>585 </td><td>0   </td><td>1   </td></tr>\n",
       "\t<tr><td>171 </td><td>367 </td><td>200 </td><td>167 </td><td>1551</td><td>850 </td><td>701 </td><td>0   </td><td>1   </td></tr>\n",
       "\t<tr><td>171 </td><td>265 </td><td>128 </td><td>137 </td><td>1128</td><td>609 </td><td>519 </td><td>1   </td><td>1   </td></tr>\n",
       "\t<tr><td>171 </td><td>325 </td><td>185 </td><td>140 </td><td> 998</td><td>556 </td><td>442 </td><td>0   </td><td>1   </td></tr>\n",
       "\t<tr><td>171 </td><td>384 </td><td>216 </td><td>168 </td><td> 819</td><td>477 </td><td>342 </td><td>0   </td><td>1   </td></tr>\n",
       "\t<tr><td>171 </td><td>310 </td><td>180 </td><td>130 </td><td> 948</td><td>512 </td><td>436 </td><td>1   </td><td>1   </td></tr>\n",
       "\t<tr><td>171 </td><td>342 </td><td>183 </td><td>159 </td><td>1073</td><td>604 </td><td>469 </td><td>1   </td><td>1   </td></tr>\n",
       "\t<tr><td>171 </td><td>366 </td><td>205 </td><td>161 </td><td> 401</td><td>225 </td><td>176 </td><td>1   </td><td>1   </td></tr>\n",
       "</tbody>\n",
       "</table>\n"
      ],
      "text/latex": [
       "\\begin{tabular}{r|lllllllll}\n",
       " town\\_id & turnout\\_total & turnout\\_male & turnout\\_female & registered\\_total & registered\\_male & registered\\_female & treatment & treatment\\_phase\\\\\n",
       "\\hline\n",
       "\t 171  & 413  & 208  & 205  & 1389 & 769  & 620  & 1    & 1   \\\\\n",
       "\t 171  & 618  & 337  & 281  & 1544 & 859  & 685  & 0    & 1   \\\\\n",
       "\t 171  & 377  & 215  & 162  & 1280 & 695  & 585  & 0    & 1   \\\\\n",
       "\t 171  & 367  & 200  & 167  & 1551 & 850  & 701  & 0    & 1   \\\\\n",
       "\t 171  & 265  & 128  & 137  & 1128 & 609  & 519  & 1    & 1   \\\\\n",
       "\t 171  & 325  & 185  & 140  &  998 & 556  & 442  & 0    & 1   \\\\\n",
       "\t 171  & 384  & 216  & 168  &  819 & 477  & 342  & 0    & 1   \\\\\n",
       "\t 171  & 310  & 180  & 130  &  948 & 512  & 436  & 1    & 1   \\\\\n",
       "\t 171  & 342  & 183  & 159  & 1073 & 604  & 469  & 1    & 1   \\\\\n",
       "\t 171  & 366  & 205  & 161  &  401 & 225  & 176  & 1    & 1   \\\\\n",
       "\\end{tabular}\n"
      ],
      "text/markdown": [
       "\n",
       "town_id | turnout_total | turnout_male | turnout_female | registered_total | registered_male | registered_female | treatment | treatment_phase | \n",
       "|---|---|---|---|---|---|---|---|---|---|\n",
       "| 171  | 413  | 208  | 205  | 1389 | 769  | 620  | 1    | 1    | \n",
       "| 171  | 618  | 337  | 281  | 1544 | 859  | 685  | 0    | 1    | \n",
       "| 171  | 377  | 215  | 162  | 1280 | 695  | 585  | 0    | 1    | \n",
       "| 171  | 367  | 200  | 167  | 1551 | 850  | 701  | 0    | 1    | \n",
       "| 171  | 265  | 128  | 137  | 1128 | 609  | 519  | 1    | 1    | \n",
       "| 171  | 325  | 185  | 140  |  998 | 556  | 442  | 0    | 1    | \n",
       "| 171  | 384  | 216  | 168  |  819 | 477  | 342  | 0    | 1    | \n",
       "| 171  | 310  | 180  | 130  |  948 | 512  | 436  | 1    | 1    | \n",
       "| 171  | 342  | 183  | 159  | 1073 | 604  | 469  | 1    | 1    | \n",
       "| 171  | 366  | 205  | 161  |  401 | 225  | 176  | 1    | 1    | \n",
       "\n",
       "\n"
      ],
      "text/plain": [
       "   town_id turnout_total turnout_male turnout_female registered_total\n",
       "1  171     413           208          205            1389            \n",
       "2  171     618           337          281            1544            \n",
       "3  171     377           215          162            1280            \n",
       "4  171     367           200          167            1551            \n",
       "5  171     265           128          137            1128            \n",
       "6  171     325           185          140             998            \n",
       "7  171     384           216          168             819            \n",
       "8  171     310           180          130             948            \n",
       "9  171     342           183          159            1073            \n",
       "10 171     366           205          161             401            \n",
       "   registered_male registered_female treatment treatment_phase\n",
       "1  769             620               1         1              \n",
       "2  859             685               0         1              \n",
       "3  695             585               0         1              \n",
       "4  850             701               0         1              \n",
       "5  609             519               1         1              \n",
       "6  556             442               0         1              \n",
       "7  477             342               0         1              \n",
       "8  512             436               1         1              \n",
       "9  604             469               1         1              \n",
       "10 225             176               1         1              "
      ]
     },
     "metadata": {},
     "output_type": "display_data"
    }
   ],
   "source": [
    "head(data,10)"
   ]
  },
  {
   "cell_type": "code",
   "execution_count": 5,
   "metadata": {
    "collapsed": false
   },
   "outputs": [
    {
     "data": {
      "text/html": [
       "<table>\n",
       "<thead><tr><th scope=col>town_id</th><th scope=col>turnout_total</th><th scope=col>turnout_male</th><th scope=col>turnout_female</th><th scope=col>registered_total</th><th scope=col>registered_male</th><th scope=col>registered_female</th><th scope=col>treatment</th><th scope=col>treatment_phase</th></tr></thead>\n",
       "<tbody>\n",
       "\t<tr><td>239 </td><td>535 </td><td>271 </td><td>264 </td><td> 585</td><td>296 </td><td>289 </td><td>1   </td><td>1   </td></tr>\n",
       "\t<tr><td>239 </td><td>308 </td><td>177 </td><td>131 </td><td> 874</td><td>496 </td><td>378 </td><td>1   </td><td>1   </td></tr>\n",
       "\t<tr><td>239 </td><td>561 </td><td>291 </td><td>270 </td><td> 617</td><td>320 </td><td>297 </td><td>1   </td><td>1   </td></tr>\n",
       "\t<tr><td>239 </td><td>631 </td><td>373 </td><td>258 </td><td> 672</td><td>397 </td><td>275 </td><td>0   </td><td>1   </td></tr>\n",
       "\t<tr><td>239 </td><td>420 </td><td>222 </td><td>198 </td><td>1078</td><td>599 </td><td>479 </td><td>0   </td><td>1   </td></tr>\n",
       "\t<tr><td>239 </td><td>501 </td><td>264 </td><td>237 </td><td>1352</td><td>712 </td><td>640 </td><td>1   </td><td>1   </td></tr>\n",
       "\t<tr><td>239 </td><td>562 </td><td>285 </td><td>277 </td><td>1530</td><td>863 </td><td>667 </td><td>1   </td><td>1   </td></tr>\n",
       "\t<tr><td>239 </td><td>199 </td><td>108 </td><td> 91 </td><td> 380</td><td>213 </td><td>167 </td><td>1   </td><td>1   </td></tr>\n",
       "\t<tr><td>239 </td><td>347 </td><td>178 </td><td>169 </td><td> 407</td><td>212 </td><td>195 </td><td>0   </td><td>1   </td></tr>\n",
       "\t<tr><td>239 </td><td>453 </td><td>248 </td><td>205 </td><td> 942</td><td>534 </td><td>408 </td><td>0   </td><td>1   </td></tr>\n",
       "</tbody>\n",
       "</table>\n"
      ],
      "text/latex": [
       "\\begin{tabular}{r|lllllllll}\n",
       " town\\_id & turnout\\_total & turnout\\_male & turnout\\_female & registered\\_total & registered\\_male & registered\\_female & treatment & treatment\\_phase\\\\\n",
       "\\hline\n",
       "\t 239  & 535  & 271  & 264  &  585 & 296  & 289  & 1    & 1   \\\\\n",
       "\t 239  & 308  & 177  & 131  &  874 & 496  & 378  & 1    & 1   \\\\\n",
       "\t 239  & 561  & 291  & 270  &  617 & 320  & 297  & 1    & 1   \\\\\n",
       "\t 239  & 631  & 373  & 258  &  672 & 397  & 275  & 0    & 1   \\\\\n",
       "\t 239  & 420  & 222  & 198  & 1078 & 599  & 479  & 0    & 1   \\\\\n",
       "\t 239  & 501  & 264  & 237  & 1352 & 712  & 640  & 1    & 1   \\\\\n",
       "\t 239  & 562  & 285  & 277  & 1530 & 863  & 667  & 1    & 1   \\\\\n",
       "\t 239  & 199  & 108  &  91  &  380 & 213  & 167  & 1    & 1   \\\\\n",
       "\t 239  & 347  & 178  & 169  &  407 & 212  & 195  & 0    & 1   \\\\\n",
       "\t 239  & 453  & 248  & 205  &  942 & 534  & 408  & 0    & 1   \\\\\n",
       "\\end{tabular}\n"
      ],
      "text/markdown": [
       "\n",
       "town_id | turnout_total | turnout_male | turnout_female | registered_total | registered_male | registered_female | treatment | treatment_phase | \n",
       "|---|---|---|---|---|---|---|---|---|---|\n",
       "| 239  | 535  | 271  | 264  |  585 | 296  | 289  | 1    | 1    | \n",
       "| 239  | 308  | 177  | 131  |  874 | 496  | 378  | 1    | 1    | \n",
       "| 239  | 561  | 291  | 270  |  617 | 320  | 297  | 1    | 1    | \n",
       "| 239  | 631  | 373  | 258  |  672 | 397  | 275  | 0    | 1    | \n",
       "| 239  | 420  | 222  | 198  | 1078 | 599  | 479  | 0    | 1    | \n",
       "| 239  | 501  | 264  | 237  | 1352 | 712  | 640  | 1    | 1    | \n",
       "| 239  | 562  | 285  | 277  | 1530 | 863  | 667  | 1    | 1    | \n",
       "| 239  | 199  | 108  |  91  |  380 | 213  | 167  | 1    | 1    | \n",
       "| 239  | 347  | 178  | 169  |  407 | 212  | 195  | 0    | 1    | \n",
       "| 239  | 453  | 248  | 205  |  942 | 534  | 408  | 0    | 1    | \n",
       "\n",
       "\n"
      ],
      "text/plain": [
       "   town_id turnout_total turnout_male turnout_female registered_total\n",
       "1  239     535           271          264             585            \n",
       "2  239     308           177          131             874            \n",
       "3  239     561           291          270             617            \n",
       "4  239     631           373          258             672            \n",
       "5  239     420           222          198            1078            \n",
       "6  239     501           264          237            1352            \n",
       "7  239     562           285          277            1530            \n",
       "8  239     199           108           91             380            \n",
       "9  239     347           178          169             407            \n",
       "10 239     453           248          205             942            \n",
       "   registered_male registered_female treatment treatment_phase\n",
       "1  296             289               1         1              \n",
       "2  496             378               1         1              \n",
       "3  320             297               1         1              \n",
       "4  397             275               0         1              \n",
       "5  599             479               0         1              \n",
       "6  712             640               1         1              \n",
       "7  863             667               1         1              \n",
       "8  213             167               1         1              \n",
       "9  212             195               0         1              \n",
       "10 534             408               0         1              "
      ]
     },
     "metadata": {},
     "output_type": "display_data"
    }
   ],
   "source": [
    "tail(data,10)"
   ]
  },
  {
   "cell_type": "markdown",
   "metadata": {},
   "source": [
    "### The data seesm to be ok for  \"Data for Stata Test_2016.xlsx\" in R environment. Let me check the data for  \n",
    "### 'Town Names for Stata Test_2016.xlsx' . This is in townNames in R."
   ]
  },
  {
   "cell_type": "code",
   "execution_count": 6,
   "metadata": {
    "collapsed": false
   },
   "outputs": [
    {
     "name": "stdout",
     "output_type": "stream",
     "text": [
      "Classes 'tbl_df', 'tbl' and 'data.frame':\t28 obs. of  3 variables:\n",
      " $ Town ID  : num  171 172 173 175 176 177 190 191 192 193 ...\n",
      " $ Town Name: chr  \"Ara\" \"Buxar\" \"Sasaram\" \"Bodh Gaya\" ...\n",
      " $ district : chr  \"Bhojpur\" \"Buxar\" \"Rohtas\" \"Gaya\" ...\n"
     ]
    }
   ],
   "source": [
    "str(townNames)"
   ]
  },
  {
   "cell_type": "markdown",
   "metadata": {},
   "source": [
    "### Since there are only 28 rows, I will have a complete look at this in R environment."
   ]
  },
  {
   "cell_type": "code",
   "execution_count": 7,
   "metadata": {
    "collapsed": false
   },
   "outputs": [
    {
     "data": {
      "text/html": [
       "<table>\n",
       "<thead><tr><th scope=col>Town ID</th><th scope=col>Town Name</th><th scope=col>district</th></tr></thead>\n",
       "<tbody>\n",
       "\t<tr><td>171           </td><td>Ara           </td><td>Bhojpur       </td></tr>\n",
       "\t<tr><td>172           </td><td>Buxar         </td><td>Buxar         </td></tr>\n",
       "\t<tr><td>173           </td><td>Sasaram       </td><td>Rohtas        </td></tr>\n",
       "\t<tr><td>175           </td><td>Bodh Gaya     </td><td>Gaya          </td></tr>\n",
       "\t<tr><td>176           </td><td>Chhapra       </td><td>Saran         </td></tr>\n",
       "\t<tr><td>177           </td><td>Muzaffarpur   </td><td>Muzaffarpur   </td></tr>\n",
       "\t<tr><td>190           </td><td>Nawada        </td><td>Nawada        </td></tr>\n",
       "\t<tr><td>191           </td><td>Biharsharif   </td><td>Nalanda       </td></tr>\n",
       "\t<tr><td>192           </td><td>Aurangabad    </td><td>Aurangabad    </td></tr>\n",
       "\t<tr><td>193           </td><td>Munger        </td><td>Munger        </td></tr>\n",
       "\t<tr><td>195           </td><td>Jamalpur      </td><td>Munger        </td></tr>\n",
       "\t<tr><td>196           </td><td>Begusarai     </td><td>Begusarai     </td></tr>\n",
       "\t<tr><td>197           </td><td>Bhagalpur     </td><td>Bhagalpur     </td></tr>\n",
       "\t<tr><td>198           </td><td>Siwan         </td><td>Siwan         </td></tr>\n",
       "\t<tr><td>199           </td><td>Sitamarhi     </td><td>Sitamarhi     </td></tr>\n",
       "\t<tr><td>200           </td><td>Hajipur       </td><td>Vaishali      </td></tr>\n",
       "\t<tr><td>201           </td><td>Motihari      </td><td>East Champaran</td></tr>\n",
       "\t<tr><td>208           </td><td>Bettiah       </td><td>West Champaran</td></tr>\n",
       "\t<tr><td>210           </td><td>Darbhanga     </td><td>Darbhanga     </td></tr>\n",
       "\t<tr><td>211           </td><td>Saharsa       </td><td>Saharsa       </td></tr>\n",
       "\t<tr><td>212           </td><td>Purnia        </td><td>Purnia        </td></tr>\n",
       "\t<tr><td>213           </td><td>Kishanganj    </td><td>Kishanganj    </td></tr>\n",
       "\t<tr><td>235           </td><td>Katihar       </td><td>Katihar       </td></tr>\n",
       "\t<tr><td>236           </td><td>Manihari      </td><td>Katihar       </td></tr>\n",
       "\t<tr><td>237           </td><td>Araria        </td><td>Araria        </td></tr>\n",
       "\t<tr><td>238           </td><td>Madhepura     </td><td>Madhepura     </td></tr>\n",
       "\t<tr><td>239           </td><td>Samastipur    </td><td>Samastipur    </td></tr>\n",
       "\t<tr><td>250           </td><td>Patna         </td><td>Patna         </td></tr>\n",
       "</tbody>\n",
       "</table>\n"
      ],
      "text/latex": [
       "\\begin{tabular}{r|lll}\n",
       " Town ID & Town Name & district\\\\\n",
       "\\hline\n",
       "\t 171            & Ara            & Bhojpur       \\\\\n",
       "\t 172            & Buxar          & Buxar         \\\\\n",
       "\t 173            & Sasaram        & Rohtas        \\\\\n",
       "\t 175            & Bodh Gaya      & Gaya          \\\\\n",
       "\t 176            & Chhapra        & Saran         \\\\\n",
       "\t 177            & Muzaffarpur    & Muzaffarpur   \\\\\n",
       "\t 190            & Nawada         & Nawada        \\\\\n",
       "\t 191            & Biharsharif    & Nalanda       \\\\\n",
       "\t 192            & Aurangabad     & Aurangabad    \\\\\n",
       "\t 193            & Munger         & Munger        \\\\\n",
       "\t 195            & Jamalpur       & Munger        \\\\\n",
       "\t 196            & Begusarai      & Begusarai     \\\\\n",
       "\t 197            & Bhagalpur      & Bhagalpur     \\\\\n",
       "\t 198            & Siwan          & Siwan         \\\\\n",
       "\t 199            & Sitamarhi      & Sitamarhi     \\\\\n",
       "\t 200            & Hajipur        & Vaishali      \\\\\n",
       "\t 201            & Motihari       & East Champaran\\\\\n",
       "\t 208            & Bettiah        & West Champaran\\\\\n",
       "\t 210            & Darbhanga      & Darbhanga     \\\\\n",
       "\t 211            & Saharsa        & Saharsa       \\\\\n",
       "\t 212            & Purnia         & Purnia        \\\\\n",
       "\t 213            & Kishanganj     & Kishanganj    \\\\\n",
       "\t 235            & Katihar        & Katihar       \\\\\n",
       "\t 236            & Manihari       & Katihar       \\\\\n",
       "\t 237            & Araria         & Araria        \\\\\n",
       "\t 238            & Madhepura      & Madhepura     \\\\\n",
       "\t 239            & Samastipur     & Samastipur    \\\\\n",
       "\t 250            & Patna          & Patna         \\\\\n",
       "\\end{tabular}\n"
      ],
      "text/markdown": [
       "\n",
       "Town ID | Town Name | district | \n",
       "|---|---|---|---|---|---|---|---|---|---|---|---|---|---|---|---|---|---|---|---|---|---|---|---|---|---|---|---|\n",
       "| 171            | Ara            | Bhojpur        | \n",
       "| 172            | Buxar          | Buxar          | \n",
       "| 173            | Sasaram        | Rohtas         | \n",
       "| 175            | Bodh Gaya      | Gaya           | \n",
       "| 176            | Chhapra        | Saran          | \n",
       "| 177            | Muzaffarpur    | Muzaffarpur    | \n",
       "| 190            | Nawada         | Nawada         | \n",
       "| 191            | Biharsharif    | Nalanda        | \n",
       "| 192            | Aurangabad     | Aurangabad     | \n",
       "| 193            | Munger         | Munger         | \n",
       "| 195            | Jamalpur       | Munger         | \n",
       "| 196            | Begusarai      | Begusarai      | \n",
       "| 197            | Bhagalpur      | Bhagalpur      | \n",
       "| 198            | Siwan          | Siwan          | \n",
       "| 199            | Sitamarhi      | Sitamarhi      | \n",
       "| 200            | Hajipur        | Vaishali       | \n",
       "| 201            | Motihari       | East Champaran | \n",
       "| 208            | Bettiah        | West Champaran | \n",
       "| 210            | Darbhanga      | Darbhanga      | \n",
       "| 211            | Saharsa        | Saharsa        | \n",
       "| 212            | Purnia         | Purnia         | \n",
       "| 213            | Kishanganj     | Kishanganj     | \n",
       "| 235            | Katihar        | Katihar        | \n",
       "| 236            | Manihari       | Katihar        | \n",
       "| 237            | Araria         | Araria         | \n",
       "| 238            | Madhepura      | Madhepura      | \n",
       "| 239            | Samastipur     | Samastipur     | \n",
       "| 250            | Patna          | Patna          | \n",
       "\n",
       "\n"
      ],
      "text/plain": [
       "   Town ID Town Name   district      \n",
       "1  171     Ara         Bhojpur       \n",
       "2  172     Buxar       Buxar         \n",
       "3  173     Sasaram     Rohtas        \n",
       "4  175     Bodh Gaya   Gaya          \n",
       "5  176     Chhapra     Saran         \n",
       "6  177     Muzaffarpur Muzaffarpur   \n",
       "7  190     Nawada      Nawada        \n",
       "8  191     Biharsharif Nalanda       \n",
       "9  192     Aurangabad  Aurangabad    \n",
       "10 193     Munger      Munger        \n",
       "11 195     Jamalpur    Munger        \n",
       "12 196     Begusarai   Begusarai     \n",
       "13 197     Bhagalpur   Bhagalpur     \n",
       "14 198     Siwan       Siwan         \n",
       "15 199     Sitamarhi   Sitamarhi     \n",
       "16 200     Hajipur     Vaishali      \n",
       "17 201     Motihari    East Champaran\n",
       "18 208     Bettiah     West Champaran\n",
       "19 210     Darbhanga   Darbhanga     \n",
       "20 211     Saharsa     Saharsa       \n",
       "21 212     Purnia      Purnia        \n",
       "22 213     Kishanganj  Kishanganj    \n",
       "23 235     Katihar     Katihar       \n",
       "24 236     Manihari    Katihar       \n",
       "25 237     Araria      Araria        \n",
       "26 238     Madhepura   Madhepura     \n",
       "27 239     Samastipur  Samastipur    \n",
       "28 250     Patna       Patna         "
      ]
     },
     "metadata": {},
     "output_type": "display_data"
    }
   ],
   "source": [
    "townNames"
   ]
  },
  {
   "cell_type": "markdown",
   "metadata": {},
   "source": [
    "### This seems to be OK now. Now I will have a look at summary to have more idea about the data sets."
   ]
  },
  {
   "cell_type": "code",
   "execution_count": 8,
   "metadata": {
    "collapsed": false
   },
   "outputs": [
    {
     "data": {
      "text/plain": [
       "    town_id    turnout_total     turnout_male   turnout_female \n",
       " Min.   :171   Min.   :   0.0   Min.   :  0.0   Min.   :  0.0  \n",
       " 1st Qu.:190   1st Qu.: 353.0   1st Qu.:190.0   1st Qu.:161.0  \n",
       " Median :198   Median : 456.0   Median :247.0   Median :207.0  \n",
       " Mean   :201   Mean   : 464.9   Mean   :253.3   Mean   :211.6  \n",
       " 3rd Qu.:212   3rd Qu.: 564.0   3rd Qu.:308.0   3rd Qu.:257.0  \n",
       " Max.   :239   Max.   :1045.0   Max.   :597.0   Max.   :483.0  \n",
       " registered_total registered_male  registered_female   treatment     \n",
       " Min.   :-999.0   Min.   :-999.0   Min.   :-999.0    Min.   :0.0000  \n",
       " 1st Qu.: 592.0   1st Qu.: 321.0   1st Qu.: 268.0    1st Qu.:0.0000  \n",
       " Median : 870.5   Median : 479.0   Median : 394.0    Median :0.0000  \n",
       " Mean   : 973.8   Mean   : 531.9   Mean   : 438.7    Mean   :0.4973  \n",
       " 3rd Qu.:1331.8   3rd Qu.: 730.0   3rd Qu.: 600.8    3rd Qu.:1.0000  \n",
       " Max.   :1999.0   Max.   :1194.0   Max.   : 991.0    Max.   :1.0000  \n",
       " treatment_phase\n",
       " Min.   :1.000  \n",
       " 1st Qu.:1.000  \n",
       " Median :1.000  \n",
       " Mean   :1.483  \n",
       " 3rd Qu.:2.000  \n",
       " Max.   :2.000  "
      ]
     },
     "metadata": {},
     "output_type": "display_data"
    }
   ],
   "source": [
    "summary(data)"
   ]
  },
  {
   "cell_type": "markdown",
   "metadata": {},
   "source": [
    "### Data seems to be OK now except for min values of -999 which represents missing values as per the document. I will revisit this again later."
   ]
  },
  {
   "cell_type": "code",
   "execution_count": 9,
   "metadata": {
    "collapsed": false
   },
   "outputs": [
    {
     "data": {
      "text/plain": [
       "    Town ID       Town Name           district        \n",
       " Min.   :171.0   Length:28          Length:28         \n",
       " 1st Qu.:190.8   Class :character   Class :character  \n",
       " Median :198.5   Mode  :character   Mode  :character  \n",
       " Mean   :203.0                                        \n",
       " 3rd Qu.:212.2                                        \n",
       " Max.   :250.0                                        "
      ]
     },
     "metadata": {},
     "output_type": "display_data"
    }
   ],
   "source": [
    "summary(townNames)"
   ]
  },
  {
   "cell_type": "markdown",
   "metadata": {},
   "source": [
    "### townNames(Town Names for Stata Test_2016.xlsx) data seems to be OK now."
   ]
  },
  {
   "cell_type": "markdown",
   "metadata": {},
   "source": [
    "### Now I will merge these files as per the instruction. I will use two packages 'dplyr' and 'tidyr' for this purpose. I will rename the new Dataframe as newData."
   ]
  },
  {
   "cell_type": "code",
   "execution_count": 10,
   "metadata": {
    "collapsed": false
   },
   "outputs": [
    {
     "name": "stderr",
     "output_type": "stream",
     "text": [
      "Warning message:\n",
      "\"package 'dplyr' was built under R version 3.4.0\"\n",
      "Attaching package: 'dplyr'\n",
      "\n",
      "The following objects are masked from 'package:stats':\n",
      "\n",
      "    filter, lag\n",
      "\n",
      "The following objects are masked from 'package:base':\n",
      "\n",
      "    intersect, setdiff, setequal, union\n",
      "\n",
      "Warning message:\n",
      "\"package 'tidyr' was built under R version 3.4.0\""
     ]
    }
   ],
   "source": [
    "library(dplyr);library(tidyr)"
   ]
  },
  {
   "cell_type": "markdown",
   "metadata": {},
   "source": [
    "### I will use town_id from both the dataframes as a key for join."
   ]
  },
  {
   "cell_type": "code",
   "execution_count": 11,
   "metadata": {
    "collapsed": false
   },
   "outputs": [
    {
     "ename": "ERROR",
     "evalue": "Error in inner_join_impl(x, y, by$x, by$y, suffix$x, suffix$y): 'town_id' column not found in rhs, cannot join\n",
     "output_type": "error",
     "traceback": [
      "Error in inner_join_impl(x, y, by$x, by$y, suffix$x, suffix$y): 'town_id' column not found in rhs, cannot join\nTraceback:\n",
      "1. inner_join(data, townNames, by = \"town_id\")",
      "2. inner_join.tbl_df(data, townNames, by = \"town_id\")",
      "3. inner_join_impl(x, y, by$x, by$y, suffix$x, suffix$y)"
     ]
    }
   ],
   "source": [
    "newData <- inner_join(data, townNames, by = \"town_id\")"
   ]
  },
  {
   "cell_type": "markdown",
   "metadata": {},
   "source": [
    "### I got an error in the earlier case because the name \"town_id' differs in townNames. In townNames the name is 'Town ID'. We can check this now."
   ]
  },
  {
   "cell_type": "code",
   "execution_count": 12,
   "metadata": {
    "collapsed": false
   },
   "outputs": [
    {
     "data": {
      "text/html": [
       "<ol class=list-inline>\n",
       "\t<li>'town_id'</li>\n",
       "\t<li>'turnout_total'</li>\n",
       "\t<li>'turnout_male'</li>\n",
       "\t<li>'turnout_female'</li>\n",
       "\t<li>'registered_total'</li>\n",
       "\t<li>'registered_male'</li>\n",
       "\t<li>'registered_female'</li>\n",
       "\t<li>'treatment'</li>\n",
       "\t<li>'treatment_phase'</li>\n",
       "</ol>\n"
      ],
      "text/latex": [
       "\\begin{enumerate*}\n",
       "\\item 'town\\_id'\n",
       "\\item 'turnout\\_total'\n",
       "\\item 'turnout\\_male'\n",
       "\\item 'turnout\\_female'\n",
       "\\item 'registered\\_total'\n",
       "\\item 'registered\\_male'\n",
       "\\item 'registered\\_female'\n",
       "\\item 'treatment'\n",
       "\\item 'treatment\\_phase'\n",
       "\\end{enumerate*}\n"
      ],
      "text/markdown": [
       "1. 'town_id'\n",
       "2. 'turnout_total'\n",
       "3. 'turnout_male'\n",
       "4. 'turnout_female'\n",
       "5. 'registered_total'\n",
       "6. 'registered_male'\n",
       "7. 'registered_female'\n",
       "8. 'treatment'\n",
       "9. 'treatment_phase'\n",
       "\n",
       "\n"
      ],
      "text/plain": [
       "[1] \"town_id\"           \"turnout_total\"     \"turnout_male\"     \n",
       "[4] \"turnout_female\"    \"registered_total\"  \"registered_male\"  \n",
       "[7] \"registered_female\" \"treatment\"         \"treatment_phase\"  "
      ]
     },
     "metadata": {},
     "output_type": "display_data"
    }
   ],
   "source": [
    "names(data)"
   ]
  },
  {
   "cell_type": "code",
   "execution_count": 13,
   "metadata": {
    "collapsed": false
   },
   "outputs": [
    {
     "data": {
      "text/html": [
       "<ol class=list-inline>\n",
       "\t<li>'Town ID'</li>\n",
       "\t<li>'Town Name'</li>\n",
       "\t<li>'district'</li>\n",
       "</ol>\n"
      ],
      "text/latex": [
       "\\begin{enumerate*}\n",
       "\\item 'Town ID'\n",
       "\\item 'Town Name'\n",
       "\\item 'district'\n",
       "\\end{enumerate*}\n"
      ],
      "text/markdown": [
       "1. 'Town ID'\n",
       "2. 'Town Name'\n",
       "3. 'district'\n",
       "\n",
       "\n"
      ],
      "text/plain": [
       "[1] \"Town ID\"   \"Town Name\" \"district\" "
      ]
     },
     "metadata": {},
     "output_type": "display_data"
    }
   ],
   "source": [
    "names(townNames)"
   ]
  },
  {
   "cell_type": "markdown",
   "metadata": {},
   "source": [
    "### To facilitate join, I will change the column name of townNames now."
   ]
  },
  {
   "cell_type": "code",
   "execution_count": 14,
   "metadata": {
    "collapsed": true
   },
   "outputs": [],
   "source": [
    "names(townNames) <- c('town_id','town_name','district')"
   ]
  },
  {
   "cell_type": "code",
   "execution_count": 15,
   "metadata": {
    "collapsed": false
   },
   "outputs": [
    {
     "data": {
      "text/html": [
       "<ol class=list-inline>\n",
       "\t<li>'town_id'</li>\n",
       "\t<li>'town_name'</li>\n",
       "\t<li>'district'</li>\n",
       "</ol>\n"
      ],
      "text/latex": [
       "\\begin{enumerate*}\n",
       "\\item 'town\\_id'\n",
       "\\item 'town\\_name'\n",
       "\\item 'district'\n",
       "\\end{enumerate*}\n"
      ],
      "text/markdown": [
       "1. 'town_id'\n",
       "2. 'town_name'\n",
       "3. 'district'\n",
       "\n",
       "\n"
      ],
      "text/plain": [
       "[1] \"town_id\"   \"town_name\" \"district\" "
      ]
     },
     "metadata": {},
     "output_type": "display_data"
    }
   ],
   "source": [
    "names(townNames)"
   ]
  },
  {
   "cell_type": "markdown",
   "metadata": {},
   "source": [
    "### Now the join will work."
   ]
  },
  {
   "cell_type": "code",
   "execution_count": 16,
   "metadata": {
    "collapsed": true
   },
   "outputs": [],
   "source": [
    "newData <- inner_join(data, townNames, by = \"town_id\")"
   ]
  },
  {
   "cell_type": "markdown",
   "metadata": {},
   "source": [
    "### Let us look at the structure and summary of combined data."
   ]
  },
  {
   "cell_type": "code",
   "execution_count": 17,
   "metadata": {
    "collapsed": false
   },
   "outputs": [
    {
     "name": "stdout",
     "output_type": "stream",
     "text": [
      "Classes 'tbl_df', 'tbl' and 'data.frame':\t6970 obs. of  11 variables:\n",
      " $ town_id          : num  171 171 171 171 171 171 171 171 171 171 ...\n",
      " $ turnout_total    : num  413 618 377 367 265 325 384 310 342 366 ...\n",
      " $ turnout_male     : num  208 337 215 200 128 185 216 180 183 205 ...\n",
      " $ turnout_female   : num  205 281 162 167 137 140 168 130 159 161 ...\n",
      " $ registered_total : num  1389 1544 1280 1551 1128 ...\n",
      " $ registered_male  : num  769 859 695 850 609 556 477 512 604 225 ...\n",
      " $ registered_female: num  620 685 585 701 519 442 342 436 469 176 ...\n",
      " $ treatment        : num  1 0 0 0 1 0 0 1 1 1 ...\n",
      " $ treatment_phase  : num  1 1 1 1 1 1 1 1 1 1 ...\n",
      " $ town_name        : chr  \"Ara\" \"Ara\" \"Ara\" \"Ara\" ...\n",
      " $ district         : chr  \"Bhojpur\" \"Bhojpur\" \"Bhojpur\" \"Bhojpur\" ...\n"
     ]
    }
   ],
   "source": [
    "str(newData)"
   ]
  },
  {
   "cell_type": "code",
   "execution_count": 18,
   "metadata": {
    "collapsed": false
   },
   "outputs": [
    {
     "data": {
      "text/plain": [
       "    town_id    turnout_total     turnout_male   turnout_female \n",
       " Min.   :171   Min.   :   0.0   Min.   :  0.0   Min.   :  0.0  \n",
       " 1st Qu.:190   1st Qu.: 353.0   1st Qu.:190.0   1st Qu.:161.0  \n",
       " Median :198   Median : 456.0   Median :247.0   Median :207.0  \n",
       " Mean   :201   Mean   : 464.9   Mean   :253.3   Mean   :211.6  \n",
       " 3rd Qu.:212   3rd Qu.: 564.0   3rd Qu.:308.0   3rd Qu.:257.0  \n",
       " Max.   :239   Max.   :1045.0   Max.   :597.0   Max.   :483.0  \n",
       " registered_total registered_male  registered_female   treatment     \n",
       " Min.   :-999.0   Min.   :-999.0   Min.   :-999.0    Min.   :0.0000  \n",
       " 1st Qu.: 592.0   1st Qu.: 321.0   1st Qu.: 268.0    1st Qu.:0.0000  \n",
       " Median : 870.5   Median : 479.0   Median : 394.0    Median :0.0000  \n",
       " Mean   : 973.8   Mean   : 531.9   Mean   : 438.7    Mean   :0.4973  \n",
       " 3rd Qu.:1331.8   3rd Qu.: 730.0   3rd Qu.: 600.8    3rd Qu.:1.0000  \n",
       " Max.   :1999.0   Max.   :1194.0   Max.   : 991.0    Max.   :1.0000  \n",
       " treatment_phase  town_name           district        \n",
       " Min.   :1.000   Length:6970        Length:6970       \n",
       " 1st Qu.:1.000   Class :character   Class :character  \n",
       " Median :1.000   Mode  :character   Mode  :character  \n",
       " Mean   :1.483                                        \n",
       " 3rd Qu.:2.000                                        \n",
       " Max.   :2.000                                        "
      ]
     },
     "metadata": {},
     "output_type": "display_data"
    }
   ],
   "source": [
    "summary(newData)"
   ]
  },
  {
   "cell_type": "markdown",
   "metadata": {},
   "source": [
    "### The data seems to be OK now. Some restructing of columns may be required. I will do it later."
   ]
  },
  {
   "cell_type": "markdown",
   "metadata": {},
   "source": [
    "### Now let us have a look at the district data. It is a string data. I will have to convert that to numeric. But before doing that I will have to check how many unique values are there in district. Accordingly I will allocate unique numbers to each unique district. I will use the table command of R to find unique values."
   ]
  },
  {
   "cell_type": "code",
   "execution_count": 19,
   "metadata": {
    "collapsed": false
   },
   "outputs": [
    {
     "data": {
      "text/plain": [
       "\n",
       "        Araria     Aurangabad      Begusarai      Bhagalpur        Bhojpur \n",
       "           260            218            248            245            270 \n",
       "         Buxar      Darbhanga East Champaran           Gaya        Katihar \n",
       "           319            251            241            288            549 \n",
       "    Kishanganj      Madhepura         Munger    Muzaffarpur        Nalanda \n",
       "           290            243            452            279            302 \n",
       "        Nawada         Purnia         Rohtas        Saharsa     Samastipur \n",
       "           256            233            253            239            260 \n",
       "         Saran      Sitamarhi          Siwan       Vaishali West Champaran \n",
       "           274            247            237            222            294 "
      ]
     },
     "metadata": {},
     "output_type": "display_data"
    }
   ],
   "source": [
    "table(newData$district)"
   ]
  },
  {
   "cell_type": "markdown",
   "metadata": {},
   "source": [
    "### Let me store the output of the table command to a R dataframe so that I can process it easily and do the sanity check as well."
   ]
  },
  {
   "cell_type": "code",
   "execution_count": 20,
   "metadata": {
    "collapsed": true
   },
   "outputs": [],
   "source": [
    "districtTable <- data.frame(table(newData$district))"
   ]
  },
  {
   "cell_type": "code",
   "execution_count": 21,
   "metadata": {
    "collapsed": false
   },
   "outputs": [
    {
     "data": {
      "text/html": [
       "<table>\n",
       "<thead><tr><th scope=col>Var1</th><th scope=col>Freq</th></tr></thead>\n",
       "<tbody>\n",
       "\t<tr><td>Araria        </td><td>260           </td></tr>\n",
       "\t<tr><td>Aurangabad    </td><td>218           </td></tr>\n",
       "\t<tr><td>Begusarai     </td><td>248           </td></tr>\n",
       "\t<tr><td>Bhagalpur     </td><td>245           </td></tr>\n",
       "\t<tr><td>Bhojpur       </td><td>270           </td></tr>\n",
       "\t<tr><td>Buxar         </td><td>319           </td></tr>\n",
       "\t<tr><td>Darbhanga     </td><td>251           </td></tr>\n",
       "\t<tr><td>East Champaran</td><td>241           </td></tr>\n",
       "\t<tr><td>Gaya          </td><td>288           </td></tr>\n",
       "\t<tr><td>Katihar       </td><td>549           </td></tr>\n",
       "\t<tr><td>Kishanganj    </td><td>290           </td></tr>\n",
       "\t<tr><td>Madhepura     </td><td>243           </td></tr>\n",
       "\t<tr><td>Munger        </td><td>452           </td></tr>\n",
       "\t<tr><td>Muzaffarpur   </td><td>279           </td></tr>\n",
       "\t<tr><td>Nalanda       </td><td>302           </td></tr>\n",
       "\t<tr><td>Nawada        </td><td>256           </td></tr>\n",
       "\t<tr><td>Purnia        </td><td>233           </td></tr>\n",
       "\t<tr><td>Rohtas        </td><td>253           </td></tr>\n",
       "\t<tr><td>Saharsa       </td><td>239           </td></tr>\n",
       "\t<tr><td>Samastipur    </td><td>260           </td></tr>\n",
       "\t<tr><td>Saran         </td><td>274           </td></tr>\n",
       "\t<tr><td>Sitamarhi     </td><td>247           </td></tr>\n",
       "\t<tr><td>Siwan         </td><td>237           </td></tr>\n",
       "\t<tr><td>Vaishali      </td><td>222           </td></tr>\n",
       "\t<tr><td>West Champaran</td><td>294           </td></tr>\n",
       "</tbody>\n",
       "</table>\n"
      ],
      "text/latex": [
       "\\begin{tabular}{r|ll}\n",
       " Var1 & Freq\\\\\n",
       "\\hline\n",
       "\t Araria         & 260           \\\\\n",
       "\t Aurangabad     & 218           \\\\\n",
       "\t Begusarai      & 248           \\\\\n",
       "\t Bhagalpur      & 245           \\\\\n",
       "\t Bhojpur        & 270           \\\\\n",
       "\t Buxar          & 319           \\\\\n",
       "\t Darbhanga      & 251           \\\\\n",
       "\t East Champaran & 241           \\\\\n",
       "\t Gaya           & 288           \\\\\n",
       "\t Katihar        & 549           \\\\\n",
       "\t Kishanganj     & 290           \\\\\n",
       "\t Madhepura      & 243           \\\\\n",
       "\t Munger         & 452           \\\\\n",
       "\t Muzaffarpur    & 279           \\\\\n",
       "\t Nalanda        & 302           \\\\\n",
       "\t Nawada         & 256           \\\\\n",
       "\t Purnia         & 233           \\\\\n",
       "\t Rohtas         & 253           \\\\\n",
       "\t Saharsa        & 239           \\\\\n",
       "\t Samastipur     & 260           \\\\\n",
       "\t Saran          & 274           \\\\\n",
       "\t Sitamarhi      & 247           \\\\\n",
       "\t Siwan          & 237           \\\\\n",
       "\t Vaishali       & 222           \\\\\n",
       "\t West Champaran & 294           \\\\\n",
       "\\end{tabular}\n"
      ],
      "text/markdown": [
       "\n",
       "Var1 | Freq | \n",
       "|---|---|---|---|---|---|---|---|---|---|---|---|---|---|---|---|---|---|---|---|---|---|---|---|---|\n",
       "| Araria         | 260            | \n",
       "| Aurangabad     | 218            | \n",
       "| Begusarai      | 248            | \n",
       "| Bhagalpur      | 245            | \n",
       "| Bhojpur        | 270            | \n",
       "| Buxar          | 319            | \n",
       "| Darbhanga      | 251            | \n",
       "| East Champaran | 241            | \n",
       "| Gaya           | 288            | \n",
       "| Katihar        | 549            | \n",
       "| Kishanganj     | 290            | \n",
       "| Madhepura      | 243            | \n",
       "| Munger         | 452            | \n",
       "| Muzaffarpur    | 279            | \n",
       "| Nalanda        | 302            | \n",
       "| Nawada         | 256            | \n",
       "| Purnia         | 233            | \n",
       "| Rohtas         | 253            | \n",
       "| Saharsa        | 239            | \n",
       "| Samastipur     | 260            | \n",
       "| Saran          | 274            | \n",
       "| Sitamarhi      | 247            | \n",
       "| Siwan          | 237            | \n",
       "| Vaishali       | 222            | \n",
       "| West Champaran | 294            | \n",
       "\n",
       "\n"
      ],
      "text/plain": [
       "   Var1           Freq\n",
       "1  Araria         260 \n",
       "2  Aurangabad     218 \n",
       "3  Begusarai      248 \n",
       "4  Bhagalpur      245 \n",
       "5  Bhojpur        270 \n",
       "6  Buxar          319 \n",
       "7  Darbhanga      251 \n",
       "8  East Champaran 241 \n",
       "9  Gaya           288 \n",
       "10 Katihar        549 \n",
       "11 Kishanganj     290 \n",
       "12 Madhepura      243 \n",
       "13 Munger         452 \n",
       "14 Muzaffarpur    279 \n",
       "15 Nalanda        302 \n",
       "16 Nawada         256 \n",
       "17 Purnia         233 \n",
       "18 Rohtas         253 \n",
       "19 Saharsa        239 \n",
       "20 Samastipur     260 \n",
       "21 Saran          274 \n",
       "22 Sitamarhi      247 \n",
       "23 Siwan          237 \n",
       "24 Vaishali       222 \n",
       "25 West Champaran 294 "
      ]
     },
     "metadata": {},
     "output_type": "display_data"
    }
   ],
   "source": [
    "districtTable"
   ]
  },
  {
   "cell_type": "markdown",
   "metadata": {},
   "source": [
    "### Let me do a sanity check again by taking the sum of the Freq column."
   ]
  },
  {
   "cell_type": "code",
   "execution_count": 22,
   "metadata": {
    "collapsed": false
   },
   "outputs": [
    {
     "data": {
      "text/html": [
       "6970"
      ],
      "text/latex": [
       "6970"
      ],
      "text/markdown": [
       "6970"
      ],
      "text/plain": [
       "[1] 6970"
      ]
     },
     "metadata": {},
     "output_type": "display_data"
    }
   ],
   "source": [
    "sum(districtTable$Freq)"
   ]
  },
  {
   "cell_type": "markdown",
   "metadata": {},
   "source": [
    "### Now everything seems to be OK. I will create a numeric code now for districts and append that to newData as district column and remove the old district data to make district data numeric. The following set of commands will do it. I will creat runnimg numbers as district code."
   ]
  },
  {
   "cell_type": "code",
   "execution_count": 23,
   "metadata": {
    "collapsed": true
   },
   "outputs": [],
   "source": [
    "seqDistrict <- seq(nrow(districtTable)) "
   ]
  },
  {
   "cell_type": "code",
   "execution_count": 24,
   "metadata": {
    "collapsed": false
   },
   "outputs": [
    {
     "data": {
      "text/html": [
       "<ol class=list-inline>\n",
       "\t<li>1</li>\n",
       "\t<li>2</li>\n",
       "\t<li>3</li>\n",
       "\t<li>4</li>\n",
       "\t<li>5</li>\n",
       "\t<li>6</li>\n",
       "\t<li>7</li>\n",
       "\t<li>8</li>\n",
       "\t<li>9</li>\n",
       "\t<li>10</li>\n",
       "\t<li>11</li>\n",
       "\t<li>12</li>\n",
       "\t<li>13</li>\n",
       "\t<li>14</li>\n",
       "\t<li>15</li>\n",
       "\t<li>16</li>\n",
       "\t<li>17</li>\n",
       "\t<li>18</li>\n",
       "\t<li>19</li>\n",
       "\t<li>20</li>\n",
       "\t<li>21</li>\n",
       "\t<li>22</li>\n",
       "\t<li>23</li>\n",
       "\t<li>24</li>\n",
       "\t<li>25</li>\n",
       "</ol>\n"
      ],
      "text/latex": [
       "\\begin{enumerate*}\n",
       "\\item 1\n",
       "\\item 2\n",
       "\\item 3\n",
       "\\item 4\n",
       "\\item 5\n",
       "\\item 6\n",
       "\\item 7\n",
       "\\item 8\n",
       "\\item 9\n",
       "\\item 10\n",
       "\\item 11\n",
       "\\item 12\n",
       "\\item 13\n",
       "\\item 14\n",
       "\\item 15\n",
       "\\item 16\n",
       "\\item 17\n",
       "\\item 18\n",
       "\\item 19\n",
       "\\item 20\n",
       "\\item 21\n",
       "\\item 22\n",
       "\\item 23\n",
       "\\item 24\n",
       "\\item 25\n",
       "\\end{enumerate*}\n"
      ],
      "text/markdown": [
       "1. 1\n",
       "2. 2\n",
       "3. 3\n",
       "4. 4\n",
       "5. 5\n",
       "6. 6\n",
       "7. 7\n",
       "8. 8\n",
       "9. 9\n",
       "10. 10\n",
       "11. 11\n",
       "12. 12\n",
       "13. 13\n",
       "14. 14\n",
       "15. 15\n",
       "16. 16\n",
       "17. 17\n",
       "18. 18\n",
       "19. 19\n",
       "20. 20\n",
       "21. 21\n",
       "22. 22\n",
       "23. 23\n",
       "24. 24\n",
       "25. 25\n",
       "\n",
       "\n"
      ],
      "text/plain": [
       " [1]  1  2  3  4  5  6  7  8  9 10 11 12 13 14 15 16 17 18 19 20 21 22 23 24 25"
      ]
     },
     "metadata": {},
     "output_type": "display_data"
    }
   ],
   "source": [
    "seqDistrict"
   ]
  },
  {
   "cell_type": "code",
   "execution_count": 25,
   "metadata": {
    "collapsed": true
   },
   "outputs": [],
   "source": [
    "districtTable$districtCode <- seqDistrict"
   ]
  },
  {
   "cell_type": "code",
   "execution_count": 26,
   "metadata": {
    "collapsed": false
   },
   "outputs": [
    {
     "data": {
      "text/html": [
       "<table>\n",
       "<thead><tr><th scope=col>Var1</th><th scope=col>Freq</th><th scope=col>districtCode</th></tr></thead>\n",
       "<tbody>\n",
       "\t<tr><td>Araria        </td><td>260           </td><td> 1            </td></tr>\n",
       "\t<tr><td>Aurangabad    </td><td>218           </td><td> 2            </td></tr>\n",
       "\t<tr><td>Begusarai     </td><td>248           </td><td> 3            </td></tr>\n",
       "\t<tr><td>Bhagalpur     </td><td>245           </td><td> 4            </td></tr>\n",
       "\t<tr><td>Bhojpur       </td><td>270           </td><td> 5            </td></tr>\n",
       "\t<tr><td>Buxar         </td><td>319           </td><td> 6            </td></tr>\n",
       "\t<tr><td>Darbhanga     </td><td>251           </td><td> 7            </td></tr>\n",
       "\t<tr><td>East Champaran</td><td>241           </td><td> 8            </td></tr>\n",
       "\t<tr><td>Gaya          </td><td>288           </td><td> 9            </td></tr>\n",
       "\t<tr><td>Katihar       </td><td>549           </td><td>10            </td></tr>\n",
       "\t<tr><td>Kishanganj    </td><td>290           </td><td>11            </td></tr>\n",
       "\t<tr><td>Madhepura     </td><td>243           </td><td>12            </td></tr>\n",
       "\t<tr><td>Munger        </td><td>452           </td><td>13            </td></tr>\n",
       "\t<tr><td>Muzaffarpur   </td><td>279           </td><td>14            </td></tr>\n",
       "\t<tr><td>Nalanda       </td><td>302           </td><td>15            </td></tr>\n",
       "\t<tr><td>Nawada        </td><td>256           </td><td>16            </td></tr>\n",
       "\t<tr><td>Purnia        </td><td>233           </td><td>17            </td></tr>\n",
       "\t<tr><td>Rohtas        </td><td>253           </td><td>18            </td></tr>\n",
       "\t<tr><td>Saharsa       </td><td>239           </td><td>19            </td></tr>\n",
       "\t<tr><td>Samastipur    </td><td>260           </td><td>20            </td></tr>\n",
       "\t<tr><td>Saran         </td><td>274           </td><td>21            </td></tr>\n",
       "\t<tr><td>Sitamarhi     </td><td>247           </td><td>22            </td></tr>\n",
       "\t<tr><td>Siwan         </td><td>237           </td><td>23            </td></tr>\n",
       "\t<tr><td>Vaishali      </td><td>222           </td><td>24            </td></tr>\n",
       "\t<tr><td>West Champaran</td><td>294           </td><td>25            </td></tr>\n",
       "</tbody>\n",
       "</table>\n"
      ],
      "text/latex": [
       "\\begin{tabular}{r|lll}\n",
       " Var1 & Freq & districtCode\\\\\n",
       "\\hline\n",
       "\t Araria         & 260            &  1            \\\\\n",
       "\t Aurangabad     & 218            &  2            \\\\\n",
       "\t Begusarai      & 248            &  3            \\\\\n",
       "\t Bhagalpur      & 245            &  4            \\\\\n",
       "\t Bhojpur        & 270            &  5            \\\\\n",
       "\t Buxar          & 319            &  6            \\\\\n",
       "\t Darbhanga      & 251            &  7            \\\\\n",
       "\t East Champaran & 241            &  8            \\\\\n",
       "\t Gaya           & 288            &  9            \\\\\n",
       "\t Katihar        & 549            & 10            \\\\\n",
       "\t Kishanganj     & 290            & 11            \\\\\n",
       "\t Madhepura      & 243            & 12            \\\\\n",
       "\t Munger         & 452            & 13            \\\\\n",
       "\t Muzaffarpur    & 279            & 14            \\\\\n",
       "\t Nalanda        & 302            & 15            \\\\\n",
       "\t Nawada         & 256            & 16            \\\\\n",
       "\t Purnia         & 233            & 17            \\\\\n",
       "\t Rohtas         & 253            & 18            \\\\\n",
       "\t Saharsa        & 239            & 19            \\\\\n",
       "\t Samastipur     & 260            & 20            \\\\\n",
       "\t Saran          & 274            & 21            \\\\\n",
       "\t Sitamarhi      & 247            & 22            \\\\\n",
       "\t Siwan          & 237            & 23            \\\\\n",
       "\t Vaishali       & 222            & 24            \\\\\n",
       "\t West Champaran & 294            & 25            \\\\\n",
       "\\end{tabular}\n"
      ],
      "text/markdown": [
       "\n",
       "Var1 | Freq | districtCode | \n",
       "|---|---|---|---|---|---|---|---|---|---|---|---|---|---|---|---|---|---|---|---|---|---|---|---|---|\n",
       "| Araria         | 260            |  1             | \n",
       "| Aurangabad     | 218            |  2             | \n",
       "| Begusarai      | 248            |  3             | \n",
       "| Bhagalpur      | 245            |  4             | \n",
       "| Bhojpur        | 270            |  5             | \n",
       "| Buxar          | 319            |  6             | \n",
       "| Darbhanga      | 251            |  7             | \n",
       "| East Champaran | 241            |  8             | \n",
       "| Gaya           | 288            |  9             | \n",
       "| Katihar        | 549            | 10             | \n",
       "| Kishanganj     | 290            | 11             | \n",
       "| Madhepura      | 243            | 12             | \n",
       "| Munger         | 452            | 13             | \n",
       "| Muzaffarpur    | 279            | 14             | \n",
       "| Nalanda        | 302            | 15             | \n",
       "| Nawada         | 256            | 16             | \n",
       "| Purnia         | 233            | 17             | \n",
       "| Rohtas         | 253            | 18             | \n",
       "| Saharsa        | 239            | 19             | \n",
       "| Samastipur     | 260            | 20             | \n",
       "| Saran          | 274            | 21             | \n",
       "| Sitamarhi      | 247            | 22             | \n",
       "| Siwan          | 237            | 23             | \n",
       "| Vaishali       | 222            | 24             | \n",
       "| West Champaran | 294            | 25             | \n",
       "\n",
       "\n"
      ],
      "text/plain": [
       "   Var1           Freq districtCode\n",
       "1  Araria         260   1          \n",
       "2  Aurangabad     218   2          \n",
       "3  Begusarai      248   3          \n",
       "4  Bhagalpur      245   4          \n",
       "5  Bhojpur        270   5          \n",
       "6  Buxar          319   6          \n",
       "7  Darbhanga      251   7          \n",
       "8  East Champaran 241   8          \n",
       "9  Gaya           288   9          \n",
       "10 Katihar        549  10          \n",
       "11 Kishanganj     290  11          \n",
       "12 Madhepura      243  12          \n",
       "13 Munger         452  13          \n",
       "14 Muzaffarpur    279  14          \n",
       "15 Nalanda        302  15          \n",
       "16 Nawada         256  16          \n",
       "17 Purnia         233  17          \n",
       "18 Rohtas         253  18          \n",
       "19 Saharsa        239  19          \n",
       "20 Samastipur     260  20          \n",
       "21 Saran          274  21          \n",
       "22 Sitamarhi      247  22          \n",
       "23 Siwan          237  23          \n",
       "24 Vaishali       222  24          \n",
       "25 West Champaran 294  25          "
      ]
     },
     "metadata": {},
     "output_type": "display_data"
    }
   ],
   "source": [
    "districtTable"
   ]
  },
  {
   "cell_type": "code",
   "execution_count": 27,
   "metadata": {
    "collapsed": false
   },
   "outputs": [
    {
     "data": {
      "text/html": [
       "<table>\n",
       "<thead><tr><th scope=col>district</th><th scope=col>districtCode</th></tr></thead>\n",
       "<tbody>\n",
       "\t<tr><td>Araria        </td><td> 1            </td></tr>\n",
       "\t<tr><td>Aurangabad    </td><td> 2            </td></tr>\n",
       "\t<tr><td>Begusarai     </td><td> 3            </td></tr>\n",
       "\t<tr><td>Bhagalpur     </td><td> 4            </td></tr>\n",
       "\t<tr><td>Bhojpur       </td><td> 5            </td></tr>\n",
       "\t<tr><td>Buxar         </td><td> 6            </td></tr>\n",
       "\t<tr><td>Darbhanga     </td><td> 7            </td></tr>\n",
       "\t<tr><td>East Champaran</td><td> 8            </td></tr>\n",
       "\t<tr><td>Gaya          </td><td> 9            </td></tr>\n",
       "\t<tr><td>Katihar       </td><td>10            </td></tr>\n",
       "\t<tr><td>Kishanganj    </td><td>11            </td></tr>\n",
       "\t<tr><td>Madhepura     </td><td>12            </td></tr>\n",
       "\t<tr><td>Munger        </td><td>13            </td></tr>\n",
       "\t<tr><td>Muzaffarpur   </td><td>14            </td></tr>\n",
       "\t<tr><td>Nalanda       </td><td>15            </td></tr>\n",
       "\t<tr><td>Nawada        </td><td>16            </td></tr>\n",
       "\t<tr><td>Purnia        </td><td>17            </td></tr>\n",
       "\t<tr><td>Rohtas        </td><td>18            </td></tr>\n",
       "\t<tr><td>Saharsa       </td><td>19            </td></tr>\n",
       "\t<tr><td>Samastipur    </td><td>20            </td></tr>\n",
       "\t<tr><td>Saran         </td><td>21            </td></tr>\n",
       "\t<tr><td>Sitamarhi     </td><td>22            </td></tr>\n",
       "\t<tr><td>Siwan         </td><td>23            </td></tr>\n",
       "\t<tr><td>Vaishali      </td><td>24            </td></tr>\n",
       "\t<tr><td>West Champaran</td><td>25            </td></tr>\n",
       "</tbody>\n",
       "</table>\n"
      ],
      "text/latex": [
       "\\begin{tabular}{r|ll}\n",
       " district & districtCode\\\\\n",
       "\\hline\n",
       "\t Araria         &  1            \\\\\n",
       "\t Aurangabad     &  2            \\\\\n",
       "\t Begusarai      &  3            \\\\\n",
       "\t Bhagalpur      &  4            \\\\\n",
       "\t Bhojpur        &  5            \\\\\n",
       "\t Buxar          &  6            \\\\\n",
       "\t Darbhanga      &  7            \\\\\n",
       "\t East Champaran &  8            \\\\\n",
       "\t Gaya           &  9            \\\\\n",
       "\t Katihar        & 10            \\\\\n",
       "\t Kishanganj     & 11            \\\\\n",
       "\t Madhepura      & 12            \\\\\n",
       "\t Munger         & 13            \\\\\n",
       "\t Muzaffarpur    & 14            \\\\\n",
       "\t Nalanda        & 15            \\\\\n",
       "\t Nawada         & 16            \\\\\n",
       "\t Purnia         & 17            \\\\\n",
       "\t Rohtas         & 18            \\\\\n",
       "\t Saharsa        & 19            \\\\\n",
       "\t Samastipur     & 20            \\\\\n",
       "\t Saran          & 21            \\\\\n",
       "\t Sitamarhi      & 22            \\\\\n",
       "\t Siwan          & 23            \\\\\n",
       "\t Vaishali       & 24            \\\\\n",
       "\t West Champaran & 25            \\\\\n",
       "\\end{tabular}\n"
      ],
      "text/markdown": [
       "\n",
       "district | districtCode | \n",
       "|---|---|---|---|---|---|---|---|---|---|---|---|---|---|---|---|---|---|---|---|---|---|---|---|---|\n",
       "| Araria         |  1             | \n",
       "| Aurangabad     |  2             | \n",
       "| Begusarai      |  3             | \n",
       "| Bhagalpur      |  4             | \n",
       "| Bhojpur        |  5             | \n",
       "| Buxar          |  6             | \n",
       "| Darbhanga      |  7             | \n",
       "| East Champaran |  8             | \n",
       "| Gaya           |  9             | \n",
       "| Katihar        | 10             | \n",
       "| Kishanganj     | 11             | \n",
       "| Madhepura      | 12             | \n",
       "| Munger         | 13             | \n",
       "| Muzaffarpur    | 14             | \n",
       "| Nalanda        | 15             | \n",
       "| Nawada         | 16             | \n",
       "| Purnia         | 17             | \n",
       "| Rohtas         | 18             | \n",
       "| Saharsa        | 19             | \n",
       "| Samastipur     | 20             | \n",
       "| Saran          | 21             | \n",
       "| Sitamarhi      | 22             | \n",
       "| Siwan          | 23             | \n",
       "| Vaishali       | 24             | \n",
       "| West Champaran | 25             | \n",
       "\n",
       "\n"
      ],
      "text/plain": [
       "   district       districtCode\n",
       "1  Araria          1          \n",
       "2  Aurangabad      2          \n",
       "3  Begusarai       3          \n",
       "4  Bhagalpur       4          \n",
       "5  Bhojpur         5          \n",
       "6  Buxar           6          \n",
       "7  Darbhanga       7          \n",
       "8  East Champaran  8          \n",
       "9  Gaya            9          \n",
       "10 Katihar        10          \n",
       "11 Kishanganj     11          \n",
       "12 Madhepura      12          \n",
       "13 Munger         13          \n",
       "14 Muzaffarpur    14          \n",
       "15 Nalanda        15          \n",
       "16 Nawada         16          \n",
       "17 Purnia         17          \n",
       "18 Rohtas         18          \n",
       "19 Saharsa        19          \n",
       "20 Samastipur     20          \n",
       "21 Saran          21          \n",
       "22 Sitamarhi      22          \n",
       "23 Siwan          23          \n",
       "24 Vaishali       24          \n",
       "25 West Champaran 25          "
      ]
     },
     "metadata": {},
     "output_type": "display_data"
    }
   ],
   "source": [
    "names(districtTable) <- c('district','Freq','districtCode')\n",
    "districtTable$Freq <- NULL\n",
    "districtTable"
   ]
  },
  {
   "cell_type": "code",
   "execution_count": 28,
   "metadata": {
    "collapsed": false
   },
   "outputs": [
    {
     "name": "stderr",
     "output_type": "stream",
     "text": [
      "Warning message in inner_join_impl(x, y, by$x, by$y, suffix$x, suffix$y):\n",
      "\"joining character vector and factor, coercing into character vector\""
     ]
    }
   ],
   "source": [
    "newData1 <- inner_join(newData,districtTable, by='district')"
   ]
  },
  {
   "cell_type": "markdown",
   "metadata": {},
   "source": [
    "### To avoid any kind of dataloss or issues, I created newdata1 after join."
   ]
  },
  {
   "cell_type": "code",
   "execution_count": 29,
   "metadata": {
    "collapsed": false
   },
   "outputs": [
    {
     "name": "stdout",
     "output_type": "stream",
     "text": [
      "Classes 'tbl_df', 'tbl' and 'data.frame':\t6970 obs. of  12 variables:\n",
      " $ town_id          : num  171 171 171 171 171 171 171 171 171 171 ...\n",
      " $ turnout_total    : num  413 618 377 367 265 325 384 310 342 366 ...\n",
      " $ turnout_male     : num  208 337 215 200 128 185 216 180 183 205 ...\n",
      " $ turnout_female   : num  205 281 162 167 137 140 168 130 159 161 ...\n",
      " $ registered_total : num  1389 1544 1280 1551 1128 ...\n",
      " $ registered_male  : num  769 859 695 850 609 556 477 512 604 225 ...\n",
      " $ registered_female: num  620 685 585 701 519 442 342 436 469 176 ...\n",
      " $ treatment        : num  1 0 0 0 1 0 0 1 1 1 ...\n",
      " $ treatment_phase  : num  1 1 1 1 1 1 1 1 1 1 ...\n",
      " $ town_name        : chr  \"Ara\" \"Ara\" \"Ara\" \"Ara\" ...\n",
      " $ district         : chr  \"Bhojpur\" \"Bhojpur\" \"Bhojpur\" \"Bhojpur\" ...\n",
      " $ districtCode     : int  5 5 5 5 5 5 5 5 5 5 ...\n"
     ]
    }
   ],
   "source": [
    "str(newData1)"
   ]
  },
  {
   "cell_type": "markdown",
   "metadata": {},
   "source": [
    "### Let me remove district now since districtCode will serve the purpose."
   ]
  },
  {
   "cell_type": "code",
   "execution_count": 30,
   "metadata": {
    "collapsed": true
   },
   "outputs": [],
   "source": [
    "newData1$district = NULL"
   ]
  },
  {
   "cell_type": "code",
   "execution_count": 31,
   "metadata": {
    "collapsed": false
   },
   "outputs": [
    {
     "name": "stdout",
     "output_type": "stream",
     "text": [
      "Classes 'tbl_df', 'tbl' and 'data.frame':\t6970 obs. of  11 variables:\n",
      " $ town_id          : num  171 171 171 171 171 171 171 171 171 171 ...\n",
      " $ turnout_total    : num  413 618 377 367 265 325 384 310 342 366 ...\n",
      " $ turnout_male     : num  208 337 215 200 128 185 216 180 183 205 ...\n",
      " $ turnout_female   : num  205 281 162 167 137 140 168 130 159 161 ...\n",
      " $ registered_total : num  1389 1544 1280 1551 1128 ...\n",
      " $ registered_male  : num  769 859 695 850 609 556 477 512 604 225 ...\n",
      " $ registered_female: num  620 685 585 701 519 442 342 436 469 176 ...\n",
      " $ treatment        : num  1 0 0 0 1 0 0 1 1 1 ...\n",
      " $ treatment_phase  : num  1 1 1 1 1 1 1 1 1 1 ...\n",
      " $ town_name        : chr  \"Ara\" \"Ara\" \"Ara\" \"Ara\" ...\n",
      " $ districtCode     : int  5 5 5 5 5 5 5 5 5 5 ...\n"
     ]
    }
   ],
   "source": [
    "str(newData1)"
   ]
  },
  {
   "cell_type": "markdown",
   "metadata": {},
   "source": [
    "### Now inorder to create unique id for each observation with first 3 digits as town_id, I will do the following. I will create running numbers based on no of times each town_id is there and prefix this number by town_id, character 'A'. The running numbers also will be zero padded on the left so that each id will be 7 characters long(town_id + 'A' + zeropadded running number).\n",
    "\n",
    "### Please note that we can have no 'A' padding(black space) also. I have added 'A' for my convenience.\n",
    "\n",
    "### ( In the earlier steps districtcode also could have been created similarly in one step. But I followed littler longer process for better understanding.)"
   ]
  },
  {
   "cell_type": "code",
   "execution_count": 32,
   "metadata": {
    "collapsed": true
   },
   "outputs": [],
   "source": [
    "newData1$unique_id <- with(newData1,ave(town_id,town_id,FUN=seq))"
   ]
  },
  {
   "cell_type": "code",
   "execution_count": 33,
   "metadata": {
    "collapsed": false
   },
   "outputs": [
    {
     "name": "stderr",
     "output_type": "stream",
     "text": [
      "Warning message:\n",
      "\"package 'stringr' was built under R version 3.4.0\""
     ]
    }
   ],
   "source": [
    "library(stringr)\n",
    "newData1$unique_id <- str_pad(newData1$unique_id,3,pad=\"0\")\n",
    "newData1$unique_id <- paste(newData1$town_id,newData1$unique_id,sep=\"A\")"
   ]
  },
  {
   "cell_type": "code",
   "execution_count": 34,
   "metadata": {
    "collapsed": false
   },
   "outputs": [
    {
     "name": "stdout",
     "output_type": "stream",
     "text": [
      "Classes 'tbl_df', 'tbl' and 'data.frame':\t6970 obs. of  12 variables:\n",
      " $ town_id          : num  171 171 171 171 171 171 171 171 171 171 ...\n",
      " $ turnout_total    : num  413 618 377 367 265 325 384 310 342 366 ...\n",
      " $ turnout_male     : num  208 337 215 200 128 185 216 180 183 205 ...\n",
      " $ turnout_female   : num  205 281 162 167 137 140 168 130 159 161 ...\n",
      " $ registered_total : num  1389 1544 1280 1551 1128 ...\n",
      " $ registered_male  : num  769 859 695 850 609 556 477 512 604 225 ...\n",
      " $ registered_female: num  620 685 585 701 519 442 342 436 469 176 ...\n",
      " $ treatment        : num  1 0 0 0 1 0 0 1 1 1 ...\n",
      " $ treatment_phase  : num  1 1 1 1 1 1 1 1 1 1 ...\n",
      " $ town_name        : chr  \"Ara\" \"Ara\" \"Ara\" \"Ara\" ...\n",
      " $ districtCode     : int  5 5 5 5 5 5 5 5 5 5 ...\n",
      " $ unique_id        : chr  \"171A001\" \"171A002\" \"171A003\" \"171A004\" ...\n"
     ]
    }
   ],
   "source": [
    "str(newData1)"
   ]
  },
  {
   "cell_type": "code",
   "execution_count": 35,
   "metadata": {
    "collapsed": false
   },
   "outputs": [
    {
     "data": {
      "text/html": [
       "<table>\n",
       "<thead><tr><th scope=col>town_id</th><th scope=col>turnout_total</th><th scope=col>turnout_male</th><th scope=col>turnout_female</th><th scope=col>registered_total</th><th scope=col>registered_male</th><th scope=col>registered_female</th><th scope=col>treatment</th><th scope=col>treatment_phase</th><th scope=col>town_name</th><th scope=col>districtCode</th><th scope=col>unique_id</th></tr></thead>\n",
       "<tbody>\n",
       "\t<tr><td>171    </td><td>413    </td><td>208    </td><td>205    </td><td>1389   </td><td>769    </td><td>620    </td><td>1      </td><td>1      </td><td>Ara    </td><td>5      </td><td>171A001</td></tr>\n",
       "\t<tr><td>171    </td><td>618    </td><td>337    </td><td>281    </td><td>1544   </td><td>859    </td><td>685    </td><td>0      </td><td>1      </td><td>Ara    </td><td>5      </td><td>171A002</td></tr>\n",
       "\t<tr><td>171    </td><td>377    </td><td>215    </td><td>162    </td><td>1280   </td><td>695    </td><td>585    </td><td>0      </td><td>1      </td><td>Ara    </td><td>5      </td><td>171A003</td></tr>\n",
       "\t<tr><td>171    </td><td>367    </td><td>200    </td><td>167    </td><td>1551   </td><td>850    </td><td>701    </td><td>0      </td><td>1      </td><td>Ara    </td><td>5      </td><td>171A004</td></tr>\n",
       "\t<tr><td>171    </td><td>265    </td><td>128    </td><td>137    </td><td>1128   </td><td>609    </td><td>519    </td><td>1      </td><td>1      </td><td>Ara    </td><td>5      </td><td>171A005</td></tr>\n",
       "\t<tr><td>171    </td><td>325    </td><td>185    </td><td>140    </td><td> 998   </td><td>556    </td><td>442    </td><td>0      </td><td>1      </td><td>Ara    </td><td>5      </td><td>171A006</td></tr>\n",
       "</tbody>\n",
       "</table>\n"
      ],
      "text/latex": [
       "\\begin{tabular}{r|llllllllllll}\n",
       " town\\_id & turnout\\_total & turnout\\_male & turnout\\_female & registered\\_total & registered\\_male & registered\\_female & treatment & treatment\\_phase & town\\_name & districtCode & unique\\_id\\\\\n",
       "\\hline\n",
       "\t 171     & 413     & 208     & 205     & 1389    & 769     & 620     & 1       & 1       & Ara     & 5       & 171A001\\\\\n",
       "\t 171     & 618     & 337     & 281     & 1544    & 859     & 685     & 0       & 1       & Ara     & 5       & 171A002\\\\\n",
       "\t 171     & 377     & 215     & 162     & 1280    & 695     & 585     & 0       & 1       & Ara     & 5       & 171A003\\\\\n",
       "\t 171     & 367     & 200     & 167     & 1551    & 850     & 701     & 0       & 1       & Ara     & 5       & 171A004\\\\\n",
       "\t 171     & 265     & 128     & 137     & 1128    & 609     & 519     & 1       & 1       & Ara     & 5       & 171A005\\\\\n",
       "\t 171     & 325     & 185     & 140     &  998    & 556     & 442     & 0       & 1       & Ara     & 5       & 171A006\\\\\n",
       "\\end{tabular}\n"
      ],
      "text/markdown": [
       "\n",
       "town_id | turnout_total | turnout_male | turnout_female | registered_total | registered_male | registered_female | treatment | treatment_phase | town_name | districtCode | unique_id | \n",
       "|---|---|---|---|---|---|\n",
       "| 171     | 413     | 208     | 205     | 1389    | 769     | 620     | 1       | 1       | Ara     | 5       | 171A001 | \n",
       "| 171     | 618     | 337     | 281     | 1544    | 859     | 685     | 0       | 1       | Ara     | 5       | 171A002 | \n",
       "| 171     | 377     | 215     | 162     | 1280    | 695     | 585     | 0       | 1       | Ara     | 5       | 171A003 | \n",
       "| 171     | 367     | 200     | 167     | 1551    | 850     | 701     | 0       | 1       | Ara     | 5       | 171A004 | \n",
       "| 171     | 265     | 128     | 137     | 1128    | 609     | 519     | 1       | 1       | Ara     | 5       | 171A005 | \n",
       "| 171     | 325     | 185     | 140     |  998    | 556     | 442     | 0       | 1       | Ara     | 5       | 171A006 | \n",
       "\n",
       "\n"
      ],
      "text/plain": [
       "  town_id turnout_total turnout_male turnout_female registered_total\n",
       "1 171     413           208          205            1389            \n",
       "2 171     618           337          281            1544            \n",
       "3 171     377           215          162            1280            \n",
       "4 171     367           200          167            1551            \n",
       "5 171     265           128          137            1128            \n",
       "6 171     325           185          140             998            \n",
       "  registered_male registered_female treatment treatment_phase town_name\n",
       "1 769             620               1         1               Ara      \n",
       "2 859             685               0         1               Ara      \n",
       "3 695             585               0         1               Ara      \n",
       "4 850             701               0         1               Ara      \n",
       "5 609             519               1         1               Ara      \n",
       "6 556             442               0         1               Ara      \n",
       "  districtCode unique_id\n",
       "1 5            171A001  \n",
       "2 5            171A002  \n",
       "3 5            171A003  \n",
       "4 5            171A004  \n",
       "5 5            171A005  \n",
       "6 5            171A006  "
      ]
     },
     "metadata": {},
     "output_type": "display_data"
    }
   ],
   "source": [
    "head(newData1)"
   ]
  },
  {
   "cell_type": "code",
   "execution_count": 36,
   "metadata": {
    "collapsed": false
   },
   "outputs": [
    {
     "data": {
      "text/html": [
       "<table>\n",
       "<thead><tr><th scope=col>town_id</th><th scope=col>turnout_total</th><th scope=col>turnout_male</th><th scope=col>turnout_female</th><th scope=col>registered_total</th><th scope=col>registered_male</th><th scope=col>registered_female</th><th scope=col>treatment</th><th scope=col>treatment_phase</th><th scope=col>town_name</th><th scope=col>districtCode</th><th scope=col>unique_id</th></tr></thead>\n",
       "<tbody>\n",
       "\t<tr><td>239       </td><td>420       </td><td>222       </td><td>198       </td><td>1078      </td><td>599       </td><td>479       </td><td>0         </td><td>1         </td><td>Samastipur</td><td>20        </td><td>239A255   </td></tr>\n",
       "\t<tr><td>239       </td><td>501       </td><td>264       </td><td>237       </td><td>1352      </td><td>712       </td><td>640       </td><td>1         </td><td>1         </td><td>Samastipur</td><td>20        </td><td>239A256   </td></tr>\n",
       "\t<tr><td>239       </td><td>562       </td><td>285       </td><td>277       </td><td>1530      </td><td>863       </td><td>667       </td><td>1         </td><td>1         </td><td>Samastipur</td><td>20        </td><td>239A257   </td></tr>\n",
       "\t<tr><td>239       </td><td>199       </td><td>108       </td><td> 91       </td><td> 380      </td><td>213       </td><td>167       </td><td>1         </td><td>1         </td><td>Samastipur</td><td>20        </td><td>239A258   </td></tr>\n",
       "\t<tr><td>239       </td><td>347       </td><td>178       </td><td>169       </td><td> 407      </td><td>212       </td><td>195       </td><td>0         </td><td>1         </td><td>Samastipur</td><td>20        </td><td>239A259   </td></tr>\n",
       "\t<tr><td>239       </td><td>453       </td><td>248       </td><td>205       </td><td> 942      </td><td>534       </td><td>408       </td><td>0         </td><td>1         </td><td>Samastipur</td><td>20        </td><td>239A260   </td></tr>\n",
       "</tbody>\n",
       "</table>\n"
      ],
      "text/latex": [
       "\\begin{tabular}{r|llllllllllll}\n",
       " town\\_id & turnout\\_total & turnout\\_male & turnout\\_female & registered\\_total & registered\\_male & registered\\_female & treatment & treatment\\_phase & town\\_name & districtCode & unique\\_id\\\\\n",
       "\\hline\n",
       "\t 239        & 420        & 222        & 198        & 1078       & 599        & 479        & 0          & 1          & Samastipur & 20         & 239A255   \\\\\n",
       "\t 239        & 501        & 264        & 237        & 1352       & 712        & 640        & 1          & 1          & Samastipur & 20         & 239A256   \\\\\n",
       "\t 239        & 562        & 285        & 277        & 1530       & 863        & 667        & 1          & 1          & Samastipur & 20         & 239A257   \\\\\n",
       "\t 239        & 199        & 108        &  91        &  380       & 213        & 167        & 1          & 1          & Samastipur & 20         & 239A258   \\\\\n",
       "\t 239        & 347        & 178        & 169        &  407       & 212        & 195        & 0          & 1          & Samastipur & 20         & 239A259   \\\\\n",
       "\t 239        & 453        & 248        & 205        &  942       & 534        & 408        & 0          & 1          & Samastipur & 20         & 239A260   \\\\\n",
       "\\end{tabular}\n"
      ],
      "text/markdown": [
       "\n",
       "town_id | turnout_total | turnout_male | turnout_female | registered_total | registered_male | registered_female | treatment | treatment_phase | town_name | districtCode | unique_id | \n",
       "|---|---|---|---|---|---|\n",
       "| 239        | 420        | 222        | 198        | 1078       | 599        | 479        | 0          | 1          | Samastipur | 20         | 239A255    | \n",
       "| 239        | 501        | 264        | 237        | 1352       | 712        | 640        | 1          | 1          | Samastipur | 20         | 239A256    | \n",
       "| 239        | 562        | 285        | 277        | 1530       | 863        | 667        | 1          | 1          | Samastipur | 20         | 239A257    | \n",
       "| 239        | 199        | 108        |  91        |  380       | 213        | 167        | 1          | 1          | Samastipur | 20         | 239A258    | \n",
       "| 239        | 347        | 178        | 169        |  407       | 212        | 195        | 0          | 1          | Samastipur | 20         | 239A259    | \n",
       "| 239        | 453        | 248        | 205        |  942       | 534        | 408        | 0          | 1          | Samastipur | 20         | 239A260    | \n",
       "\n",
       "\n"
      ],
      "text/plain": [
       "  town_id turnout_total turnout_male turnout_female registered_total\n",
       "1 239     420           222          198            1078            \n",
       "2 239     501           264          237            1352            \n",
       "3 239     562           285          277            1530            \n",
       "4 239     199           108           91             380            \n",
       "5 239     347           178          169             407            \n",
       "6 239     453           248          205             942            \n",
       "  registered_male registered_female treatment treatment_phase town_name \n",
       "1 599             479               0         1               Samastipur\n",
       "2 712             640               1         1               Samastipur\n",
       "3 863             667               1         1               Samastipur\n",
       "4 213             167               1         1               Samastipur\n",
       "5 212             195               0         1               Samastipur\n",
       "6 534             408               0         1               Samastipur\n",
       "  districtCode unique_id\n",
       "1 20           239A255  \n",
       "2 20           239A256  \n",
       "3 20           239A257  \n",
       "4 20           239A258  \n",
       "5 20           239A259  \n",
       "6 20           239A260  "
      ]
     },
     "metadata": {},
     "output_type": "display_data"
    }
   ],
   "source": [
    "tail(newData1)"
   ]
  },
  {
   "cell_type": "markdown",
   "metadata": {},
   "source": [
    "### Let me look at the summary data again to see if there is any missing data."
   ]
  },
  {
   "cell_type": "code",
   "execution_count": 37,
   "metadata": {
    "collapsed": false
   },
   "outputs": [
    {
     "data": {
      "text/plain": [
       "    town_id    turnout_total     turnout_male   turnout_female \n",
       " Min.   :171   Min.   :   0.0   Min.   :  0.0   Min.   :  0.0  \n",
       " 1st Qu.:190   1st Qu.: 353.0   1st Qu.:190.0   1st Qu.:161.0  \n",
       " Median :198   Median : 456.0   Median :247.0   Median :207.0  \n",
       " Mean   :201   Mean   : 464.9   Mean   :253.3   Mean   :211.6  \n",
       " 3rd Qu.:212   3rd Qu.: 564.0   3rd Qu.:308.0   3rd Qu.:257.0  \n",
       " Max.   :239   Max.   :1045.0   Max.   :597.0   Max.   :483.0  \n",
       " registered_total registered_male  registered_female   treatment     \n",
       " Min.   :-999.0   Min.   :-999.0   Min.   :-999.0    Min.   :0.0000  \n",
       " 1st Qu.: 592.0   1st Qu.: 321.0   1st Qu.: 268.0    1st Qu.:0.0000  \n",
       " Median : 870.5   Median : 479.0   Median : 394.0    Median :0.0000  \n",
       " Mean   : 973.8   Mean   : 531.9   Mean   : 438.7    Mean   :0.4973  \n",
       " 3rd Qu.:1331.8   3rd Qu.: 730.0   3rd Qu.: 600.8    3rd Qu.:1.0000  \n",
       " Max.   :1999.0   Max.   :1194.0   Max.   : 991.0    Max.   :1.0000  \n",
       " treatment_phase  town_name          districtCode    unique_id        \n",
       " Min.   :1.000   Length:6970        Min.   : 1.00   Length:6970       \n",
       " 1st Qu.:1.000   Class :character   1st Qu.: 7.00   Class :character  \n",
       " Median :1.000   Mode  :character   Median :13.00   Mode  :character  \n",
       " Mean   :1.483                      Mean   :12.85                     \n",
       " 3rd Qu.:2.000                      3rd Qu.:19.00                     \n",
       " Max.   :2.000                      Max.   :25.00                     "
      ]
     },
     "metadata": {},
     "output_type": "display_data"
    }
   ],
   "source": [
    "summary(newData1)"
   ]
  },
  {
   "cell_type": "markdown",
   "metadata": {},
   "source": [
    "### AS metioned in the document if we have -999 in registered data, then it indicates missing value. Let us see how may rows we have like that."
   ]
  },
  {
   "cell_type": "code",
   "execution_count": 38,
   "metadata": {
    "collapsed": true
   },
   "outputs": [],
   "source": [
    "missingNewData <- subset(newData1,registered_total == -999)"
   ]
  },
  {
   "cell_type": "code",
   "execution_count": 39,
   "metadata": {
    "collapsed": false
   },
   "outputs": [
    {
     "data": {
      "text/html": [
       "<table>\n",
       "<thead><tr><th scope=col>town_id</th><th scope=col>turnout_total</th><th scope=col>turnout_male</th><th scope=col>turnout_female</th><th scope=col>registered_total</th><th scope=col>registered_male</th><th scope=col>registered_female</th><th scope=col>treatment</th><th scope=col>treatment_phase</th><th scope=col>town_name</th><th scope=col>districtCode</th><th scope=col>unique_id</th></tr></thead>\n",
       "<tbody>\n",
       "\t<tr><td>173        </td><td>220        </td><td>120        </td><td>100        </td><td>-999       </td><td>-999       </td><td>-999       </td><td>1          </td><td>2          </td><td>Sasaram    </td><td>18         </td><td>173A168    </td></tr>\n",
       "\t<tr><td>175        </td><td>557        </td><td>291        </td><td>266        </td><td>-999       </td><td>-999       </td><td>-999       </td><td>0          </td><td>2          </td><td>Bodh Gaya  </td><td> 9         </td><td>175A234    </td></tr>\n",
       "\t<tr><td>175        </td><td>477        </td><td>267        </td><td>210        </td><td>-999       </td><td>-999       </td><td>-999       </td><td>0          </td><td>2          </td><td>Bodh Gaya  </td><td> 9         </td><td>175A242    </td></tr>\n",
       "\t<tr><td>177        </td><td>275        </td><td>162        </td><td>113        </td><td>-999       </td><td>-999       </td><td>-999       </td><td>1          </td><td>1          </td><td>Muzaffarpur</td><td>14         </td><td>177A250    </td></tr>\n",
       "\t<tr><td>195        </td><td>559        </td><td>304        </td><td>255        </td><td>-999       </td><td>-999       </td><td>-999       </td><td>0          </td><td>1          </td><td>Jamalpur   </td><td>13         </td><td>195A094    </td></tr>\n",
       "\t<tr><td>195        </td><td>579        </td><td>318        </td><td>261        </td><td>-999       </td><td>-999       </td><td>-999       </td><td>1          </td><td>1          </td><td>Jamalpur   </td><td>13         </td><td>195A117    </td></tr>\n",
       "\t<tr><td>198        </td><td>195        </td><td>104        </td><td> 91        </td><td>-999       </td><td>-999       </td><td>-999       </td><td>0          </td><td>2          </td><td>Siwan      </td><td>23         </td><td>198A136    </td></tr>\n",
       "\t<tr><td>200        </td><td>498        </td><td>276        </td><td>222        </td><td>-999       </td><td>-999       </td><td>-999       </td><td>1          </td><td>1          </td><td>Hajipur    </td><td>24         </td><td>200A192    </td></tr>\n",
       "\t<tr><td>211        </td><td>435        </td><td>244        </td><td>191        </td><td>-999       </td><td>-999       </td><td>-999       </td><td>0          </td><td>2          </td><td>Saharsa    </td><td>19         </td><td>211A016    </td></tr>\n",
       "\t<tr><td>211        </td><td>466        </td><td>260        </td><td>206        </td><td>-999       </td><td>-999       </td><td>-999       </td><td>0          </td><td>2          </td><td>Saharsa    </td><td>19         </td><td>211A136    </td></tr>\n",
       "\t<tr><td>213        </td><td>572        </td><td>338        </td><td>234        </td><td>-999       </td><td>-999       </td><td>-999       </td><td>0          </td><td>2          </td><td>Kishanganj </td><td>11         </td><td>213A008    </td></tr>\n",
       "\t<tr><td>213        </td><td>399        </td><td>226        </td><td>173        </td><td>-999       </td><td>-999       </td><td>-999       </td><td>0          </td><td>1          </td><td>Kishanganj </td><td>11         </td><td>213A087    </td></tr>\n",
       "\t<tr><td>235        </td><td>421        </td><td>226        </td><td>195        </td><td>-999       </td><td>-999       </td><td>-999       </td><td>1          </td><td>1          </td><td>Katihar    </td><td>10         </td><td>235A164    </td></tr>\n",
       "\t<tr><td>236        </td><td>472        </td><td>242        </td><td>230        </td><td>-999       </td><td>-999       </td><td>-999       </td><td>1          </td><td>2          </td><td>Manihari   </td><td>10         </td><td>236A015    </td></tr>\n",
       "\t<tr><td>236        </td><td>318        </td><td>156        </td><td>162        </td><td>-999       </td><td>-999       </td><td>-999       </td><td>1          </td><td>1          </td><td>Manihari   </td><td>10         </td><td>236A053    </td></tr>\n",
       "\t<tr><td>236        </td><td>461        </td><td>239        </td><td>222        </td><td>-999       </td><td>-999       </td><td>-999       </td><td>1          </td><td>1          </td><td>Manihari   </td><td>10         </td><td>236A290    </td></tr>\n",
       "\t<tr><td>237        </td><td>655        </td><td>353        </td><td>302        </td><td>-999       </td><td>-999       </td><td>-999       </td><td>0          </td><td>1          </td><td>Araria     </td><td> 1         </td><td>237A124    </td></tr>\n",
       "\t<tr><td>238        </td><td>344        </td><td>173        </td><td>171        </td><td>-999       </td><td>-999       </td><td>-999       </td><td>0          </td><td>2          </td><td>Madhepura  </td><td>12         </td><td>238A035    </td></tr>\n",
       "\t<tr><td>238        </td><td>355        </td><td>192        </td><td>163        </td><td>-999       </td><td>-999       </td><td>-999       </td><td>1          </td><td>2          </td><td>Madhepura  </td><td>12         </td><td>238A143    </td></tr>\n",
       "\t<tr><td>238        </td><td>319        </td><td>173        </td><td>146        </td><td>-999       </td><td>-999       </td><td>-999       </td><td>0          </td><td>2          </td><td>Madhepura  </td><td>12         </td><td>238A195    </td></tr>\n",
       "</tbody>\n",
       "</table>\n"
      ],
      "text/latex": [
       "\\begin{tabular}{r|llllllllllll}\n",
       " town\\_id & turnout\\_total & turnout\\_male & turnout\\_female & registered\\_total & registered\\_male & registered\\_female & treatment & treatment\\_phase & town\\_name & districtCode & unique\\_id\\\\\n",
       "\\hline\n",
       "\t 173         & 220         & 120         & 100         & -999        & -999        & -999        & 1           & 2           & Sasaram     & 18          & 173A168    \\\\\n",
       "\t 175         & 557         & 291         & 266         & -999        & -999        & -999        & 0           & 2           & Bodh Gaya   &  9          & 175A234    \\\\\n",
       "\t 175         & 477         & 267         & 210         & -999        & -999        & -999        & 0           & 2           & Bodh Gaya   &  9          & 175A242    \\\\\n",
       "\t 177         & 275         & 162         & 113         & -999        & -999        & -999        & 1           & 1           & Muzaffarpur & 14          & 177A250    \\\\\n",
       "\t 195         & 559         & 304         & 255         & -999        & -999        & -999        & 0           & 1           & Jamalpur    & 13          & 195A094    \\\\\n",
       "\t 195         & 579         & 318         & 261         & -999        & -999        & -999        & 1           & 1           & Jamalpur    & 13          & 195A117    \\\\\n",
       "\t 198         & 195         & 104         &  91         & -999        & -999        & -999        & 0           & 2           & Siwan       & 23          & 198A136    \\\\\n",
       "\t 200         & 498         & 276         & 222         & -999        & -999        & -999        & 1           & 1           & Hajipur     & 24          & 200A192    \\\\\n",
       "\t 211         & 435         & 244         & 191         & -999        & -999        & -999        & 0           & 2           & Saharsa     & 19          & 211A016    \\\\\n",
       "\t 211         & 466         & 260         & 206         & -999        & -999        & -999        & 0           & 2           & Saharsa     & 19          & 211A136    \\\\\n",
       "\t 213         & 572         & 338         & 234         & -999        & -999        & -999        & 0           & 2           & Kishanganj  & 11          & 213A008    \\\\\n",
       "\t 213         & 399         & 226         & 173         & -999        & -999        & -999        & 0           & 1           & Kishanganj  & 11          & 213A087    \\\\\n",
       "\t 235         & 421         & 226         & 195         & -999        & -999        & -999        & 1           & 1           & Katihar     & 10          & 235A164    \\\\\n",
       "\t 236         & 472         & 242         & 230         & -999        & -999        & -999        & 1           & 2           & Manihari    & 10          & 236A015    \\\\\n",
       "\t 236         & 318         & 156         & 162         & -999        & -999        & -999        & 1           & 1           & Manihari    & 10          & 236A053    \\\\\n",
       "\t 236         & 461         & 239         & 222         & -999        & -999        & -999        & 1           & 1           & Manihari    & 10          & 236A290    \\\\\n",
       "\t 237         & 655         & 353         & 302         & -999        & -999        & -999        & 0           & 1           & Araria      &  1          & 237A124    \\\\\n",
       "\t 238         & 344         & 173         & 171         & -999        & -999        & -999        & 0           & 2           & Madhepura   & 12          & 238A035    \\\\\n",
       "\t 238         & 355         & 192         & 163         & -999        & -999        & -999        & 1           & 2           & Madhepura   & 12          & 238A143    \\\\\n",
       "\t 238         & 319         & 173         & 146         & -999        & -999        & -999        & 0           & 2           & Madhepura   & 12          & 238A195    \\\\\n",
       "\\end{tabular}\n"
      ],
      "text/markdown": [
       "\n",
       "town_id | turnout_total | turnout_male | turnout_female | registered_total | registered_male | registered_female | treatment | treatment_phase | town_name | districtCode | unique_id | \n",
       "|---|---|---|---|---|---|---|---|---|---|---|---|---|---|---|---|---|---|---|---|\n",
       "| 173         | 220         | 120         | 100         | -999        | -999        | -999        | 1           | 2           | Sasaram     | 18          | 173A168     | \n",
       "| 175         | 557         | 291         | 266         | -999        | -999        | -999        | 0           | 2           | Bodh Gaya   |  9          | 175A234     | \n",
       "| 175         | 477         | 267         | 210         | -999        | -999        | -999        | 0           | 2           | Bodh Gaya   |  9          | 175A242     | \n",
       "| 177         | 275         | 162         | 113         | -999        | -999        | -999        | 1           | 1           | Muzaffarpur | 14          | 177A250     | \n",
       "| 195         | 559         | 304         | 255         | -999        | -999        | -999        | 0           | 1           | Jamalpur    | 13          | 195A094     | \n",
       "| 195         | 579         | 318         | 261         | -999        | -999        | -999        | 1           | 1           | Jamalpur    | 13          | 195A117     | \n",
       "| 198         | 195         | 104         |  91         | -999        | -999        | -999        | 0           | 2           | Siwan       | 23          | 198A136     | \n",
       "| 200         | 498         | 276         | 222         | -999        | -999        | -999        | 1           | 1           | Hajipur     | 24          | 200A192     | \n",
       "| 211         | 435         | 244         | 191         | -999        | -999        | -999        | 0           | 2           | Saharsa     | 19          | 211A016     | \n",
       "| 211         | 466         | 260         | 206         | -999        | -999        | -999        | 0           | 2           | Saharsa     | 19          | 211A136     | \n",
       "| 213         | 572         | 338         | 234         | -999        | -999        | -999        | 0           | 2           | Kishanganj  | 11          | 213A008     | \n",
       "| 213         | 399         | 226         | 173         | -999        | -999        | -999        | 0           | 1           | Kishanganj  | 11          | 213A087     | \n",
       "| 235         | 421         | 226         | 195         | -999        | -999        | -999        | 1           | 1           | Katihar     | 10          | 235A164     | \n",
       "| 236         | 472         | 242         | 230         | -999        | -999        | -999        | 1           | 2           | Manihari    | 10          | 236A015     | \n",
       "| 236         | 318         | 156         | 162         | -999        | -999        | -999        | 1           | 1           | Manihari    | 10          | 236A053     | \n",
       "| 236         | 461         | 239         | 222         | -999        | -999        | -999        | 1           | 1           | Manihari    | 10          | 236A290     | \n",
       "| 237         | 655         | 353         | 302         | -999        | -999        | -999        | 0           | 1           | Araria      |  1          | 237A124     | \n",
       "| 238         | 344         | 173         | 171         | -999        | -999        | -999        | 0           | 2           | Madhepura   | 12          | 238A035     | \n",
       "| 238         | 355         | 192         | 163         | -999        | -999        | -999        | 1           | 2           | Madhepura   | 12          | 238A143     | \n",
       "| 238         | 319         | 173         | 146         | -999        | -999        | -999        | 0           | 2           | Madhepura   | 12          | 238A195     | \n",
       "\n",
       "\n"
      ],
      "text/plain": [
       "   town_id turnout_total turnout_male turnout_female registered_total\n",
       "1  173     220           120          100            -999            \n",
       "2  175     557           291          266            -999            \n",
       "3  175     477           267          210            -999            \n",
       "4  177     275           162          113            -999            \n",
       "5  195     559           304          255            -999            \n",
       "6  195     579           318          261            -999            \n",
       "7  198     195           104           91            -999            \n",
       "8  200     498           276          222            -999            \n",
       "9  211     435           244          191            -999            \n",
       "10 211     466           260          206            -999            \n",
       "11 213     572           338          234            -999            \n",
       "12 213     399           226          173            -999            \n",
       "13 235     421           226          195            -999            \n",
       "14 236     472           242          230            -999            \n",
       "15 236     318           156          162            -999            \n",
       "16 236     461           239          222            -999            \n",
       "17 237     655           353          302            -999            \n",
       "18 238     344           173          171            -999            \n",
       "19 238     355           192          163            -999            \n",
       "20 238     319           173          146            -999            \n",
       "   registered_male registered_female treatment treatment_phase town_name  \n",
       "1  -999            -999              1         2               Sasaram    \n",
       "2  -999            -999              0         2               Bodh Gaya  \n",
       "3  -999            -999              0         2               Bodh Gaya  \n",
       "4  -999            -999              1         1               Muzaffarpur\n",
       "5  -999            -999              0         1               Jamalpur   \n",
       "6  -999            -999              1         1               Jamalpur   \n",
       "7  -999            -999              0         2               Siwan      \n",
       "8  -999            -999              1         1               Hajipur    \n",
       "9  -999            -999              0         2               Saharsa    \n",
       "10 -999            -999              0         2               Saharsa    \n",
       "11 -999            -999              0         2               Kishanganj \n",
       "12 -999            -999              0         1               Kishanganj \n",
       "13 -999            -999              1         1               Katihar    \n",
       "14 -999            -999              1         2               Manihari   \n",
       "15 -999            -999              1         1               Manihari   \n",
       "16 -999            -999              1         1               Manihari   \n",
       "17 -999            -999              0         1               Araria     \n",
       "18 -999            -999              0         2               Madhepura  \n",
       "19 -999            -999              1         2               Madhepura  \n",
       "20 -999            -999              0         2               Madhepura  \n",
       "   districtCode unique_id\n",
       "1  18           173A168  \n",
       "2   9           175A234  \n",
       "3   9           175A242  \n",
       "4  14           177A250  \n",
       "5  13           195A094  \n",
       "6  13           195A117  \n",
       "7  23           198A136  \n",
       "8  24           200A192  \n",
       "9  19           211A016  \n",
       "10 19           211A136  \n",
       "11 11           213A008  \n",
       "12 11           213A087  \n",
       "13 10           235A164  \n",
       "14 10           236A015  \n",
       "15 10           236A053  \n",
       "16 10           236A290  \n",
       "17  1           237A124  \n",
       "18 12           238A035  \n",
       "19 12           238A143  \n",
       "20 12           238A195  "
      ]
     },
     "metadata": {},
     "output_type": "display_data"
    }
   ],
   "source": [
    "missingNewData"
   ]
  },
  {
   "cell_type": "code",
   "execution_count": 40,
   "metadata": {
    "collapsed": false
   },
   "outputs": [
    {
     "data": {
      "text/html": [
       "20"
      ],
      "text/latex": [
       "20"
      ],
      "text/markdown": [
       "20"
      ],
      "text/plain": [
       "[1] 20"
      ]
     },
     "metadata": {},
     "output_type": "display_data"
    }
   ],
   "source": [
    "nrow(missingNewData)"
   ]
  },
  {
   "cell_type": "code",
   "execution_count": 41,
   "metadata": {
    "collapsed": false
   },
   "outputs": [
    {
     "data": {
      "text/html": [
       "0.286944045911047"
      ],
      "text/latex": [
       "0.286944045911047"
      ],
      "text/markdown": [
       "0.286944045911047"
      ],
      "text/plain": [
       "[1] 0.286944"
      ]
     },
     "metadata": {},
     "output_type": "display_data"
    }
   ],
   "source": [
    "20*100/6970"
   ]
  },
  {
   "cell_type": "markdown",
   "metadata": {},
   "source": [
    "### Out of 6970 rows data is missing for 20 rows. That is around (20/6970) * 100 = 0.28 percentage. If we remove the data our analysis may not suffer. Hence I am removing these rows in the new data set. I am naming the newdata set as newData2 now."
   ]
  },
  {
   "cell_type": "code",
   "execution_count": 42,
   "metadata": {
    "collapsed": true
   },
   "outputs": [],
   "source": [
    "newData2 <- subset(newData1,registered_total != -999)"
   ]
  },
  {
   "cell_type": "code",
   "execution_count": 43,
   "metadata": {
    "collapsed": false
   },
   "outputs": [
    {
     "name": "stdout",
     "output_type": "stream",
     "text": [
      "Classes 'tbl_df', 'tbl' and 'data.frame':\t6950 obs. of  12 variables:\n",
      " $ town_id          : num  171 171 171 171 171 171 171 171 171 171 ...\n",
      " $ turnout_total    : num  413 618 377 367 265 325 384 310 342 366 ...\n",
      " $ turnout_male     : num  208 337 215 200 128 185 216 180 183 205 ...\n",
      " $ turnout_female   : num  205 281 162 167 137 140 168 130 159 161 ...\n",
      " $ registered_total : num  1389 1544 1280 1551 1128 ...\n",
      " $ registered_male  : num  769 859 695 850 609 556 477 512 604 225 ...\n",
      " $ registered_female: num  620 685 585 701 519 442 342 436 469 176 ...\n",
      " $ treatment        : num  1 0 0 0 1 0 0 1 1 1 ...\n",
      " $ treatment_phase  : num  1 1 1 1 1 1 1 1 1 1 ...\n",
      " $ town_name        : chr  \"Ara\" \"Ara\" \"Ara\" \"Ara\" ...\n",
      " $ districtCode     : int  5 5 5 5 5 5 5 5 5 5 ...\n",
      " $ unique_id        : chr  \"171A001\" \"171A002\" \"171A003\" \"171A004\" ...\n"
     ]
    }
   ],
   "source": [
    "str(newData2)"
   ]
  },
  {
   "cell_type": "code",
   "execution_count": 44,
   "metadata": {
    "collapsed": false
   },
   "outputs": [
    {
     "data": {
      "text/plain": [
       "    town_id      turnout_total   turnout_male   turnout_female \n",
       " Min.   :171.0   Min.   :   0   Min.   :  0.0   Min.   :  0.0  \n",
       " 1st Qu.:190.0   1st Qu.: 353   1st Qu.:190.0   1st Qu.:161.0  \n",
       " Median :198.0   Median : 456   Median :247.0   Median :207.0  \n",
       " Mean   :200.9   Mean   : 465   Mean   :253.4   Mean   :211.7  \n",
       " 3rd Qu.:212.0   3rd Qu.: 564   3rd Qu.:309.0   3rd Qu.:257.0  \n",
       " Max.   :239.0   Max.   :1045   Max.   :597.0   Max.   :483.0  \n",
       " registered_total registered_male  registered_female   treatment     \n",
       " Min.   :-998.0   Min.   :-998.0   Min.   :-998.0    Min.   :0.0000  \n",
       " 1st Qu.: 593.0   1st Qu.: 322.0   1st Qu.: 269.0    1st Qu.:0.0000  \n",
       " Median : 873.0   Median : 480.5   Median : 395.0    Median :0.0000  \n",
       " Mean   : 979.5   Mean   : 536.3   Mean   : 442.9    Mean   :0.4974  \n",
       " 3rd Qu.:1333.0   3rd Qu.: 731.0   3rd Qu.: 601.0    3rd Qu.:1.0000  \n",
       " Max.   :1999.0   Max.   :1194.0   Max.   : 991.0    Max.   :1.0000  \n",
       " treatment_phase  town_name          districtCode    unique_id        \n",
       " Min.   :1.000   Length:6950        Min.   : 1.00   Length:6950       \n",
       " 1st Qu.:1.000   Class :character   1st Qu.: 7.00   Class :character  \n",
       " Median :1.000   Mode  :character   Median :13.00   Mode  :character  \n",
       " Mean   :1.483                      Mean   :12.85                     \n",
       " 3rd Qu.:2.000                      3rd Qu.:19.00                     \n",
       " Max.   :2.000                      Max.   :25.00                     "
      ]
     },
     "metadata": {},
     "output_type": "display_data"
    }
   ],
   "source": [
    "summary(newData2)"
   ]
  },
  {
   "cell_type": "markdown",
   "metadata": {},
   "source": [
    "### Now I can see another value -998 in registered_total. It does not seem to be an appropriate value. If I consider that as missing value, I will have to again check how much data I will loose by removing them."
   ]
  },
  {
   "cell_type": "code",
   "execution_count": 45,
   "metadata": {
    "collapsed": false
   },
   "outputs": [],
   "source": [
    "missingNewData <- subset(newData2,registered_total == -998)"
   ]
  },
  {
   "cell_type": "code",
   "execution_count": 46,
   "metadata": {
    "collapsed": false
   },
   "outputs": [
    {
     "data": {
      "text/html": [
       "<table>\n",
       "<thead><tr><th scope=col>town_id</th><th scope=col>turnout_total</th><th scope=col>turnout_male</th><th scope=col>turnout_female</th><th scope=col>registered_total</th><th scope=col>registered_male</th><th scope=col>registered_female</th><th scope=col>treatment</th><th scope=col>treatment_phase</th><th scope=col>town_name</th><th scope=col>districtCode</th><th scope=col>unique_id</th></tr></thead>\n",
       "<tbody>\n",
       "\t<tr><td>173        </td><td>248        </td><td>122        </td><td>126        </td><td>-998       </td><td>-998       </td><td>-998       </td><td>1          </td><td>1          </td><td>Sasaram    </td><td>18         </td><td>173A089    </td></tr>\n",
       "\t<tr><td>177        </td><td>  1        </td><td>  0        </td><td>  1        </td><td>-998       </td><td>-998       </td><td>-998       </td><td>1          </td><td>2          </td><td>Muzaffarpur</td><td>14         </td><td>177A014    </td></tr>\n",
       "</tbody>\n",
       "</table>\n"
      ],
      "text/latex": [
       "\\begin{tabular}{r|llllllllllll}\n",
       " town\\_id & turnout\\_total & turnout\\_male & turnout\\_female & registered\\_total & registered\\_male & registered\\_female & treatment & treatment\\_phase & town\\_name & districtCode & unique\\_id\\\\\n",
       "\\hline\n",
       "\t 173         & 248         & 122         & 126         & -998        & -998        & -998        & 1           & 1           & Sasaram     & 18          & 173A089    \\\\\n",
       "\t 177         &   1         &   0         &   1         & -998        & -998        & -998        & 1           & 2           & Muzaffarpur & 14          & 177A014    \\\\\n",
       "\\end{tabular}\n"
      ],
      "text/markdown": [
       "\n",
       "town_id | turnout_total | turnout_male | turnout_female | registered_total | registered_male | registered_female | treatment | treatment_phase | town_name | districtCode | unique_id | \n",
       "|---|---|\n",
       "| 173         | 248         | 122         | 126         | -998        | -998        | -998        | 1           | 1           | Sasaram     | 18          | 173A089     | \n",
       "| 177         |   1         |   0         |   1         | -998        | -998        | -998        | 1           | 2           | Muzaffarpur | 14          | 177A014     | \n",
       "\n",
       "\n"
      ],
      "text/plain": [
       "  town_id turnout_total turnout_male turnout_female registered_total\n",
       "1 173     248           122          126            -998            \n",
       "2 177       1             0            1            -998            \n",
       "  registered_male registered_female treatment treatment_phase town_name  \n",
       "1 -998            -998              1         1               Sasaram    \n",
       "2 -998            -998              1         2               Muzaffarpur\n",
       "  districtCode unique_id\n",
       "1 18           173A089  \n",
       "2 14           177A014  "
      ]
     },
     "metadata": {},
     "output_type": "display_data"
    }
   ],
   "source": [
    "missingNewData"
   ]
  },
  {
   "cell_type": "markdown",
   "metadata": {},
   "source": [
    "### There are only two. Let me remove them and again check."
   ]
  },
  {
   "cell_type": "code",
   "execution_count": 47,
   "metadata": {
    "collapsed": true
   },
   "outputs": [],
   "source": [
    "newData2 <- subset(newData2,registered_total != -998)"
   ]
  },
  {
   "cell_type": "code",
   "execution_count": 48,
   "metadata": {
    "collapsed": false
   },
   "outputs": [
    {
     "name": "stdout",
     "output_type": "stream",
     "text": [
      "Classes 'tbl_df', 'tbl' and 'data.frame':\t6948 obs. of  12 variables:\n",
      " $ town_id          : num  171 171 171 171 171 171 171 171 171 171 ...\n",
      " $ turnout_total    : num  413 618 377 367 265 325 384 310 342 366 ...\n",
      " $ turnout_male     : num  208 337 215 200 128 185 216 180 183 205 ...\n",
      " $ turnout_female   : num  205 281 162 167 137 140 168 130 159 161 ...\n",
      " $ registered_total : num  1389 1544 1280 1551 1128 ...\n",
      " $ registered_male  : num  769 859 695 850 609 556 477 512 604 225 ...\n",
      " $ registered_female: num  620 685 585 701 519 442 342 436 469 176 ...\n",
      " $ treatment        : num  1 0 0 0 1 0 0 1 1 1 ...\n",
      " $ treatment_phase  : num  1 1 1 1 1 1 1 1 1 1 ...\n",
      " $ town_name        : chr  \"Ara\" \"Ara\" \"Ara\" \"Ara\" ...\n",
      " $ districtCode     : int  5 5 5 5 5 5 5 5 5 5 ...\n",
      " $ unique_id        : chr  \"171A001\" \"171A002\" \"171A003\" \"171A004\" ...\n"
     ]
    }
   ],
   "source": [
    "str(newData2)"
   ]
  },
  {
   "cell_type": "code",
   "execution_count": 49,
   "metadata": {
    "collapsed": false
   },
   "outputs": [
    {
     "data": {
      "text/plain": [
       "    town_id    turnout_total     turnout_male   turnout_female \n",
       " Min.   :171   Min.   :   0.0   Min.   :  0.0   Min.   :  0.0  \n",
       " 1st Qu.:190   1st Qu.: 353.0   1st Qu.:190.0   1st Qu.:161.0  \n",
       " Median :198   Median : 456.0   Median :247.0   Median :207.0  \n",
       " Mean   :201   Mean   : 465.1   Mean   :253.4   Mean   :211.7  \n",
       " 3rd Qu.:212   3rd Qu.: 564.0   3rd Qu.:309.0   3rd Qu.:257.0  \n",
       " Max.   :239   Max.   :1045.0   Max.   :597.0   Max.   :483.0  \n",
       " registered_total registered_male  registered_female   treatment     \n",
       " Min.   : 204.0   Min.   : 106.0   Min.   : 88.0     Min.   :0.0000  \n",
       " 1st Qu.: 593.0   1st Qu.: 322.0   1st Qu.:269.0     1st Qu.:0.0000  \n",
       " Median : 873.5   Median : 481.0   Median :395.0     Median :0.0000  \n",
       " Mean   : 980.1   Mean   : 536.8   Mean   :443.3     Mean   :0.4973  \n",
       " 3rd Qu.:1333.2   3rd Qu.: 731.0   3rd Qu.:601.0     3rd Qu.:1.0000  \n",
       " Max.   :1999.0   Max.   :1194.0   Max.   :991.0     Max.   :1.0000  \n",
       " treatment_phase  town_name          districtCode    unique_id        \n",
       " Min.   :1.000   Length:6948        Min.   : 1.00   Length:6948       \n",
       " 1st Qu.:1.000   Class :character   1st Qu.: 7.00   Class :character  \n",
       " Median :1.000   Mode  :character   Median :13.00   Mode  :character  \n",
       " Mean   :1.483                      Mean   :12.84                     \n",
       " 3rd Qu.:2.000                      3rd Qu.:19.00                     \n",
       " Max.   :2.000                      Max.   :25.00                     "
      ]
     },
     "metadata": {},
     "output_type": "display_data"
    }
   ],
   "source": [
    "summary(newData2)"
   ]
  },
  {
   "cell_type": "markdown",
   "metadata": {},
   "source": [
    "### I am considering 0 as valid value in other columns as well. Hence, I think there is no missing value now."
   ]
  },
  {
   "cell_type": "markdown",
   "metadata": {},
   "source": [
    "### Now I will create a Dummy variable for each value of Town ID. I will take the help of model.matrix command of R to do that."
   ]
  },
  {
   "cell_type": "code",
   "execution_count": 50,
   "metadata": {
    "collapsed": true
   },
   "outputs": [],
   "source": [
    "town_id <- factor(newData2$town_id)"
   ]
  },
  {
   "cell_type": "code",
   "execution_count": 51,
   "metadata": {
    "collapsed": false
   },
   "outputs": [
    {
     "name": "stdout",
     "output_type": "stream",
     "text": [
      " Factor w/ 27 levels \"171\",\"172\",\"173\",..: 1 1 1 1 1 1 1 1 1 1 ...\n"
     ]
    }
   ],
   "source": [
    "str(town_id)"
   ]
  },
  {
   "cell_type": "code",
   "execution_count": 52,
   "metadata": {
    "collapsed": true
   },
   "outputs": [],
   "source": [
    "xyz <- data.frame(model.matrix(~town_id + 0))"
   ]
  },
  {
   "cell_type": "code",
   "execution_count": 53,
   "metadata": {
    "collapsed": false
   },
   "outputs": [
    {
     "name": "stdout",
     "output_type": "stream",
     "text": [
      "'data.frame':\t6948 obs. of  27 variables:\n",
      " $ town_id171: num  1 1 1 1 1 1 1 1 1 1 ...\n",
      " $ town_id172: num  0 0 0 0 0 0 0 0 0 0 ...\n",
      " $ town_id173: num  0 0 0 0 0 0 0 0 0 0 ...\n",
      " $ town_id175: num  0 0 0 0 0 0 0 0 0 0 ...\n",
      " $ town_id176: num  0 0 0 0 0 0 0 0 0 0 ...\n",
      " $ town_id177: num  0 0 0 0 0 0 0 0 0 0 ...\n",
      " $ town_id190: num  0 0 0 0 0 0 0 0 0 0 ...\n",
      " $ town_id191: num  0 0 0 0 0 0 0 0 0 0 ...\n",
      " $ town_id192: num  0 0 0 0 0 0 0 0 0 0 ...\n",
      " $ town_id193: num  0 0 0 0 0 0 0 0 0 0 ...\n",
      " $ town_id195: num  0 0 0 0 0 0 0 0 0 0 ...\n",
      " $ town_id196: num  0 0 0 0 0 0 0 0 0 0 ...\n",
      " $ town_id197: num  0 0 0 0 0 0 0 0 0 0 ...\n",
      " $ town_id198: num  0 0 0 0 0 0 0 0 0 0 ...\n",
      " $ town_id199: num  0 0 0 0 0 0 0 0 0 0 ...\n",
      " $ town_id200: num  0 0 0 0 0 0 0 0 0 0 ...\n",
      " $ town_id201: num  0 0 0 0 0 0 0 0 0 0 ...\n",
      " $ town_id208: num  0 0 0 0 0 0 0 0 0 0 ...\n",
      " $ town_id210: num  0 0 0 0 0 0 0 0 0 0 ...\n",
      " $ town_id211: num  0 0 0 0 0 0 0 0 0 0 ...\n",
      " $ town_id212: num  0 0 0 0 0 0 0 0 0 0 ...\n",
      " $ town_id213: num  0 0 0 0 0 0 0 0 0 0 ...\n",
      " $ town_id235: num  0 0 0 0 0 0 0 0 0 0 ...\n",
      " $ town_id236: num  0 0 0 0 0 0 0 0 0 0 ...\n",
      " $ town_id237: num  0 0 0 0 0 0 0 0 0 0 ...\n",
      " $ town_id238: num  0 0 0 0 0 0 0 0 0 0 ...\n",
      " $ town_id239: num  0 0 0 0 0 0 0 0 0 0 ...\n"
     ]
    }
   ],
   "source": [
    "str(xyz)"
   ]
  },
  {
   "cell_type": "markdown",
   "metadata": {},
   "source": [
    "### I will create a new dataframe so that I do not loose my earlier data due to any mistake. The new dataframe will be newData3."
   ]
  },
  {
   "cell_type": "code",
   "execution_count": 54,
   "metadata": {
    "collapsed": true
   },
   "outputs": [],
   "source": [
    "newData3 <- cbind(xyz, newData2)"
   ]
  },
  {
   "cell_type": "code",
   "execution_count": 55,
   "metadata": {
    "collapsed": false
   },
   "outputs": [
    {
     "name": "stdout",
     "output_type": "stream",
     "text": [
      "'data.frame':\t6948 obs. of  39 variables:\n",
      " $ town_id171       : num  1 1 1 1 1 1 1 1 1 1 ...\n",
      " $ town_id172       : num  0 0 0 0 0 0 0 0 0 0 ...\n",
      " $ town_id173       : num  0 0 0 0 0 0 0 0 0 0 ...\n",
      " $ town_id175       : num  0 0 0 0 0 0 0 0 0 0 ...\n",
      " $ town_id176       : num  0 0 0 0 0 0 0 0 0 0 ...\n",
      " $ town_id177       : num  0 0 0 0 0 0 0 0 0 0 ...\n",
      " $ town_id190       : num  0 0 0 0 0 0 0 0 0 0 ...\n",
      " $ town_id191       : num  0 0 0 0 0 0 0 0 0 0 ...\n",
      " $ town_id192       : num  0 0 0 0 0 0 0 0 0 0 ...\n",
      " $ town_id193       : num  0 0 0 0 0 0 0 0 0 0 ...\n",
      " $ town_id195       : num  0 0 0 0 0 0 0 0 0 0 ...\n",
      " $ town_id196       : num  0 0 0 0 0 0 0 0 0 0 ...\n",
      " $ town_id197       : num  0 0 0 0 0 0 0 0 0 0 ...\n",
      " $ town_id198       : num  0 0 0 0 0 0 0 0 0 0 ...\n",
      " $ town_id199       : num  0 0 0 0 0 0 0 0 0 0 ...\n",
      " $ town_id200       : num  0 0 0 0 0 0 0 0 0 0 ...\n",
      " $ town_id201       : num  0 0 0 0 0 0 0 0 0 0 ...\n",
      " $ town_id208       : num  0 0 0 0 0 0 0 0 0 0 ...\n",
      " $ town_id210       : num  0 0 0 0 0 0 0 0 0 0 ...\n",
      " $ town_id211       : num  0 0 0 0 0 0 0 0 0 0 ...\n",
      " $ town_id212       : num  0 0 0 0 0 0 0 0 0 0 ...\n",
      " $ town_id213       : num  0 0 0 0 0 0 0 0 0 0 ...\n",
      " $ town_id235       : num  0 0 0 0 0 0 0 0 0 0 ...\n",
      " $ town_id236       : num  0 0 0 0 0 0 0 0 0 0 ...\n",
      " $ town_id237       : num  0 0 0 0 0 0 0 0 0 0 ...\n",
      " $ town_id238       : num  0 0 0 0 0 0 0 0 0 0 ...\n",
      " $ town_id239       : num  0 0 0 0 0 0 0 0 0 0 ...\n",
      " $ town_id          : num  171 171 171 171 171 171 171 171 171 171 ...\n",
      " $ turnout_total    : num  413 618 377 367 265 325 384 310 342 366 ...\n",
      " $ turnout_male     : num  208 337 215 200 128 185 216 180 183 205 ...\n",
      " $ turnout_female   : num  205 281 162 167 137 140 168 130 159 161 ...\n",
      " $ registered_total : num  1389 1544 1280 1551 1128 ...\n",
      " $ registered_male  : num  769 859 695 850 609 556 477 512 604 225 ...\n",
      " $ registered_female: num  620 685 585 701 519 442 342 436 469 176 ...\n",
      " $ treatment        : num  1 0 0 0 1 0 0 1 1 1 ...\n",
      " $ treatment_phase  : num  1 1 1 1 1 1 1 1 1 1 ...\n",
      " $ town_name        : chr  \"Ara\" \"Ara\" \"Ara\" \"Ara\" ...\n",
      " $ districtCode     : int  5 5 5 5 5 5 5 5 5 5 ...\n",
      " $ unique_id        : chr  \"171A001\" \"171A002\" \"171A003\" \"171A004\" ...\n"
     ]
    }
   ],
   "source": [
    "str(newData3)"
   ]
  },
  {
   "cell_type": "markdown",
   "metadata": {},
   "source": [
    "### We do not need town_id in the new dataframe. Hence I will drop that in newData3."
   ]
  },
  {
   "cell_type": "code",
   "execution_count": 56,
   "metadata": {
    "collapsed": true
   },
   "outputs": [],
   "source": [
    "newData3$town_id = NULL"
   ]
  },
  {
   "cell_type": "code",
   "execution_count": 57,
   "metadata": {
    "collapsed": false
   },
   "outputs": [
    {
     "name": "stdout",
     "output_type": "stream",
     "text": [
      "'data.frame':\t6948 obs. of  38 variables:\n",
      " $ town_id171       : num  1 1 1 1 1 1 1 1 1 1 ...\n",
      " $ town_id172       : num  0 0 0 0 0 0 0 0 0 0 ...\n",
      " $ town_id173       : num  0 0 0 0 0 0 0 0 0 0 ...\n",
      " $ town_id175       : num  0 0 0 0 0 0 0 0 0 0 ...\n",
      " $ town_id176       : num  0 0 0 0 0 0 0 0 0 0 ...\n",
      " $ town_id177       : num  0 0 0 0 0 0 0 0 0 0 ...\n",
      " $ town_id190       : num  0 0 0 0 0 0 0 0 0 0 ...\n",
      " $ town_id191       : num  0 0 0 0 0 0 0 0 0 0 ...\n",
      " $ town_id192       : num  0 0 0 0 0 0 0 0 0 0 ...\n",
      " $ town_id193       : num  0 0 0 0 0 0 0 0 0 0 ...\n",
      " $ town_id195       : num  0 0 0 0 0 0 0 0 0 0 ...\n",
      " $ town_id196       : num  0 0 0 0 0 0 0 0 0 0 ...\n",
      " $ town_id197       : num  0 0 0 0 0 0 0 0 0 0 ...\n",
      " $ town_id198       : num  0 0 0 0 0 0 0 0 0 0 ...\n",
      " $ town_id199       : num  0 0 0 0 0 0 0 0 0 0 ...\n",
      " $ town_id200       : num  0 0 0 0 0 0 0 0 0 0 ...\n",
      " $ town_id201       : num  0 0 0 0 0 0 0 0 0 0 ...\n",
      " $ town_id208       : num  0 0 0 0 0 0 0 0 0 0 ...\n",
      " $ town_id210       : num  0 0 0 0 0 0 0 0 0 0 ...\n",
      " $ town_id211       : num  0 0 0 0 0 0 0 0 0 0 ...\n",
      " $ town_id212       : num  0 0 0 0 0 0 0 0 0 0 ...\n",
      " $ town_id213       : num  0 0 0 0 0 0 0 0 0 0 ...\n",
      " $ town_id235       : num  0 0 0 0 0 0 0 0 0 0 ...\n",
      " $ town_id236       : num  0 0 0 0 0 0 0 0 0 0 ...\n",
      " $ town_id237       : num  0 0 0 0 0 0 0 0 0 0 ...\n",
      " $ town_id238       : num  0 0 0 0 0 0 0 0 0 0 ...\n",
      " $ town_id239       : num  0 0 0 0 0 0 0 0 0 0 ...\n",
      " $ turnout_total    : num  413 618 377 367 265 325 384 310 342 366 ...\n",
      " $ turnout_male     : num  208 337 215 200 128 185 216 180 183 205 ...\n",
      " $ turnout_female   : num  205 281 162 167 137 140 168 130 159 161 ...\n",
      " $ registered_total : num  1389 1544 1280 1551 1128 ...\n",
      " $ registered_male  : num  769 859 695 850 609 556 477 512 604 225 ...\n",
      " $ registered_female: num  620 685 585 701 519 442 342 436 469 176 ...\n",
      " $ treatment        : num  1 0 0 0 1 0 0 1 1 1 ...\n",
      " $ treatment_phase  : num  1 1 1 1 1 1 1 1 1 1 ...\n",
      " $ town_name        : chr  \"Ara\" \"Ara\" \"Ara\" \"Ara\" ...\n",
      " $ districtCode     : int  5 5 5 5 5 5 5 5 5 5 ...\n",
      " $ unique_id        : chr  \"171A001\" \"171A002\" \"171A003\" \"171A004\" ...\n"
     ]
    }
   ],
   "source": [
    "str(newData3)"
   ]
  },
  {
   "cell_type": "markdown",
   "metadata": {},
   "source": [
    "### Let is check the data as well."
   ]
  },
  {
   "cell_type": "code",
   "execution_count": 58,
   "metadata": {
    "collapsed": false
   },
   "outputs": [
    {
     "data": {
      "text/html": [
       "<table>\n",
       "<thead><tr><th scope=col>town_id171</th><th scope=col>town_id172</th><th scope=col>town_id173</th><th scope=col>town_id175</th><th scope=col>town_id176</th><th scope=col>town_id177</th><th scope=col>town_id190</th><th scope=col>town_id191</th><th scope=col>town_id192</th><th scope=col>town_id193</th><th scope=col>...</th><th scope=col>turnout_male</th><th scope=col>turnout_female</th><th scope=col>registered_total</th><th scope=col>registered_male</th><th scope=col>registered_female</th><th scope=col>treatment</th><th scope=col>treatment_phase</th><th scope=col>town_name</th><th scope=col>districtCode</th><th scope=col>unique_id</th></tr></thead>\n",
       "<tbody>\n",
       "\t<tr><td>1      </td><td>0      </td><td>0      </td><td>0      </td><td>0      </td><td>0      </td><td>0      </td><td>0      </td><td>0      </td><td>0      </td><td>...    </td><td>208    </td><td>205    </td><td>1389   </td><td>769    </td><td>620    </td><td>1      </td><td>1      </td><td>Ara    </td><td>5      </td><td>171A001</td></tr>\n",
       "\t<tr><td>1      </td><td>0      </td><td>0      </td><td>0      </td><td>0      </td><td>0      </td><td>0      </td><td>0      </td><td>0      </td><td>0      </td><td>...    </td><td>337    </td><td>281    </td><td>1544   </td><td>859    </td><td>685    </td><td>0      </td><td>1      </td><td>Ara    </td><td>5      </td><td>171A002</td></tr>\n",
       "\t<tr><td>1      </td><td>0      </td><td>0      </td><td>0      </td><td>0      </td><td>0      </td><td>0      </td><td>0      </td><td>0      </td><td>0      </td><td>...    </td><td>215    </td><td>162    </td><td>1280   </td><td>695    </td><td>585    </td><td>0      </td><td>1      </td><td>Ara    </td><td>5      </td><td>171A003</td></tr>\n",
       "\t<tr><td>1      </td><td>0      </td><td>0      </td><td>0      </td><td>0      </td><td>0      </td><td>0      </td><td>0      </td><td>0      </td><td>0      </td><td>...    </td><td>200    </td><td>167    </td><td>1551   </td><td>850    </td><td>701    </td><td>0      </td><td>1      </td><td>Ara    </td><td>5      </td><td>171A004</td></tr>\n",
       "\t<tr><td>1      </td><td>0      </td><td>0      </td><td>0      </td><td>0      </td><td>0      </td><td>0      </td><td>0      </td><td>0      </td><td>0      </td><td>...    </td><td>128    </td><td>137    </td><td>1128   </td><td>609    </td><td>519    </td><td>1      </td><td>1      </td><td>Ara    </td><td>5      </td><td>171A005</td></tr>\n",
       "\t<tr><td>1      </td><td>0      </td><td>0      </td><td>0      </td><td>0      </td><td>0      </td><td>0      </td><td>0      </td><td>0      </td><td>0      </td><td>...    </td><td>185    </td><td>140    </td><td> 998   </td><td>556    </td><td>442    </td><td>0      </td><td>1      </td><td>Ara    </td><td>5      </td><td>171A006</td></tr>\n",
       "</tbody>\n",
       "</table>\n"
      ],
      "text/latex": [
       "\\begin{tabular}{r|llllllllllllllllllllllllllllllllllllll}\n",
       " town\\_id171 & town\\_id172 & town\\_id173 & town\\_id175 & town\\_id176 & town\\_id177 & town\\_id190 & town\\_id191 & town\\_id192 & town\\_id193 & ... & turnout\\_male & turnout\\_female & registered\\_total & registered\\_male & registered\\_female & treatment & treatment\\_phase & town\\_name & districtCode & unique\\_id\\\\\n",
       "\\hline\n",
       "\t 1       & 0       & 0       & 0       & 0       & 0       & 0       & 0       & 0       & 0       & ...     & 208     & 205     & 1389    & 769     & 620     & 1       & 1       & Ara     & 5       & 171A001\\\\\n",
       "\t 1       & 0       & 0       & 0       & 0       & 0       & 0       & 0       & 0       & 0       & ...     & 337     & 281     & 1544    & 859     & 685     & 0       & 1       & Ara     & 5       & 171A002\\\\\n",
       "\t 1       & 0       & 0       & 0       & 0       & 0       & 0       & 0       & 0       & 0       & ...     & 215     & 162     & 1280    & 695     & 585     & 0       & 1       & Ara     & 5       & 171A003\\\\\n",
       "\t 1       & 0       & 0       & 0       & 0       & 0       & 0       & 0       & 0       & 0       & ...     & 200     & 167     & 1551    & 850     & 701     & 0       & 1       & Ara     & 5       & 171A004\\\\\n",
       "\t 1       & 0       & 0       & 0       & 0       & 0       & 0       & 0       & 0       & 0       & ...     & 128     & 137     & 1128    & 609     & 519     & 1       & 1       & Ara     & 5       & 171A005\\\\\n",
       "\t 1       & 0       & 0       & 0       & 0       & 0       & 0       & 0       & 0       & 0       & ...     & 185     & 140     &  998    & 556     & 442     & 0       & 1       & Ara     & 5       & 171A006\\\\\n",
       "\\end{tabular}\n"
      ],
      "text/markdown": [
       "\n",
       "town_id171 | town_id172 | town_id173 | town_id175 | town_id176 | town_id177 | town_id190 | town_id191 | town_id192 | town_id193 | ... | turnout_male | turnout_female | registered_total | registered_male | registered_female | treatment | treatment_phase | town_name | districtCode | unique_id | \n",
       "|---|---|---|---|---|---|\n",
       "| 1       | 0       | 0       | 0       | 0       | 0       | 0       | 0       | 0       | 0       | ...     | 208     | 205     | 1389    | 769     | 620     | 1       | 1       | Ara     | 5       | 171A001 | \n",
       "| 1       | 0       | 0       | 0       | 0       | 0       | 0       | 0       | 0       | 0       | ...     | 337     | 281     | 1544    | 859     | 685     | 0       | 1       | Ara     | 5       | 171A002 | \n",
       "| 1       | 0       | 0       | 0       | 0       | 0       | 0       | 0       | 0       | 0       | ...     | 215     | 162     | 1280    | 695     | 585     | 0       | 1       | Ara     | 5       | 171A003 | \n",
       "| 1       | 0       | 0       | 0       | 0       | 0       | 0       | 0       | 0       | 0       | ...     | 200     | 167     | 1551    | 850     | 701     | 0       | 1       | Ara     | 5       | 171A004 | \n",
       "| 1       | 0       | 0       | 0       | 0       | 0       | 0       | 0       | 0       | 0       | ...     | 128     | 137     | 1128    | 609     | 519     | 1       | 1       | Ara     | 5       | 171A005 | \n",
       "| 1       | 0       | 0       | 0       | 0       | 0       | 0       | 0       | 0       | 0       | ...     | 185     | 140     |  998    | 556     | 442     | 0       | 1       | Ara     | 5       | 171A006 | \n",
       "\n",
       "\n"
      ],
      "text/plain": [
       "  town_id171 town_id172 town_id173 town_id175 town_id176 town_id177 town_id190\n",
       "1 1          0          0          0          0          0          0         \n",
       "2 1          0          0          0          0          0          0         \n",
       "3 1          0          0          0          0          0          0         \n",
       "4 1          0          0          0          0          0          0         \n",
       "5 1          0          0          0          0          0          0         \n",
       "6 1          0          0          0          0          0          0         \n",
       "  town_id191 town_id192 town_id193 ... turnout_male turnout_female\n",
       "1 0          0          0          ... 208          205           \n",
       "2 0          0          0          ... 337          281           \n",
       "3 0          0          0          ... 215          162           \n",
       "4 0          0          0          ... 200          167           \n",
       "5 0          0          0          ... 128          137           \n",
       "6 0          0          0          ... 185          140           \n",
       "  registered_total registered_male registered_female treatment treatment_phase\n",
       "1 1389             769             620               1         1              \n",
       "2 1544             859             685               0         1              \n",
       "3 1280             695             585               0         1              \n",
       "4 1551             850             701               0         1              \n",
       "5 1128             609             519               1         1              \n",
       "6  998             556             442               0         1              \n",
       "  town_name districtCode unique_id\n",
       "1 Ara       5            171A001  \n",
       "2 Ara       5            171A002  \n",
       "3 Ara       5            171A003  \n",
       "4 Ara       5            171A004  \n",
       "5 Ara       5            171A005  \n",
       "6 Ara       5            171A006  "
      ]
     },
     "metadata": {},
     "output_type": "display_data"
    }
   ],
   "source": [
    "head(newData3)"
   ]
  },
  {
   "cell_type": "code",
   "execution_count": 59,
   "metadata": {
    "collapsed": false
   },
   "outputs": [
    {
     "data": {
      "text/html": [
       "<table>\n",
       "<thead><tr><th></th><th scope=col>town_id171</th><th scope=col>town_id172</th><th scope=col>town_id173</th><th scope=col>town_id175</th><th scope=col>town_id176</th><th scope=col>town_id177</th><th scope=col>town_id190</th><th scope=col>town_id191</th><th scope=col>town_id192</th><th scope=col>town_id193</th><th scope=col>...</th><th scope=col>turnout_male</th><th scope=col>turnout_female</th><th scope=col>registered_total</th><th scope=col>registered_male</th><th scope=col>registered_female</th><th scope=col>treatment</th><th scope=col>treatment_phase</th><th scope=col>town_name</th><th scope=col>districtCode</th><th scope=col>unique_id</th></tr></thead>\n",
       "<tbody>\n",
       "\t<tr><th scope=row>6943</th><td>0         </td><td>0         </td><td>0         </td><td>0         </td><td>0         </td><td>0         </td><td>0         </td><td>0         </td><td>0         </td><td>0         </td><td>...       </td><td>222       </td><td>198       </td><td>1078      </td><td>599       </td><td>479       </td><td>0         </td><td>1         </td><td>Samastipur</td><td>20        </td><td>239A255   </td></tr>\n",
       "\t<tr><th scope=row>6944</th><td>0         </td><td>0         </td><td>0         </td><td>0         </td><td>0         </td><td>0         </td><td>0         </td><td>0         </td><td>0         </td><td>0         </td><td>...       </td><td>264       </td><td>237       </td><td>1352      </td><td>712       </td><td>640       </td><td>1         </td><td>1         </td><td>Samastipur</td><td>20        </td><td>239A256   </td></tr>\n",
       "\t<tr><th scope=row>6945</th><td>0         </td><td>0         </td><td>0         </td><td>0         </td><td>0         </td><td>0         </td><td>0         </td><td>0         </td><td>0         </td><td>0         </td><td>...       </td><td>285       </td><td>277       </td><td>1530      </td><td>863       </td><td>667       </td><td>1         </td><td>1         </td><td>Samastipur</td><td>20        </td><td>239A257   </td></tr>\n",
       "\t<tr><th scope=row>6946</th><td>0         </td><td>0         </td><td>0         </td><td>0         </td><td>0         </td><td>0         </td><td>0         </td><td>0         </td><td>0         </td><td>0         </td><td>...       </td><td>108       </td><td> 91       </td><td> 380      </td><td>213       </td><td>167       </td><td>1         </td><td>1         </td><td>Samastipur</td><td>20        </td><td>239A258   </td></tr>\n",
       "\t<tr><th scope=row>6947</th><td>0         </td><td>0         </td><td>0         </td><td>0         </td><td>0         </td><td>0         </td><td>0         </td><td>0         </td><td>0         </td><td>0         </td><td>...       </td><td>178       </td><td>169       </td><td> 407      </td><td>212       </td><td>195       </td><td>0         </td><td>1         </td><td>Samastipur</td><td>20        </td><td>239A259   </td></tr>\n",
       "\t<tr><th scope=row>6948</th><td>0         </td><td>0         </td><td>0         </td><td>0         </td><td>0         </td><td>0         </td><td>0         </td><td>0         </td><td>0         </td><td>0         </td><td>...       </td><td>248       </td><td>205       </td><td> 942      </td><td>534       </td><td>408       </td><td>0         </td><td>1         </td><td>Samastipur</td><td>20        </td><td>239A260   </td></tr>\n",
       "</tbody>\n",
       "</table>\n"
      ],
      "text/latex": [
       "\\begin{tabular}{r|llllllllllllllllllllllllllllllllllllll}\n",
       "  & town\\_id171 & town\\_id172 & town\\_id173 & town\\_id175 & town\\_id176 & town\\_id177 & town\\_id190 & town\\_id191 & town\\_id192 & town\\_id193 & ... & turnout\\_male & turnout\\_female & registered\\_total & registered\\_male & registered\\_female & treatment & treatment\\_phase & town\\_name & districtCode & unique\\_id\\\\\n",
       "\\hline\n",
       "\t6943 & 0          & 0          & 0          & 0          & 0          & 0          & 0          & 0          & 0          & 0          & ...        & 222        & 198        & 1078       & 599        & 479        & 0          & 1          & Samastipur & 20         & 239A255   \\\\\n",
       "\t6944 & 0          & 0          & 0          & 0          & 0          & 0          & 0          & 0          & 0          & 0          & ...        & 264        & 237        & 1352       & 712        & 640        & 1          & 1          & Samastipur & 20         & 239A256   \\\\\n",
       "\t6945 & 0          & 0          & 0          & 0          & 0          & 0          & 0          & 0          & 0          & 0          & ...        & 285        & 277        & 1530       & 863        & 667        & 1          & 1          & Samastipur & 20         & 239A257   \\\\\n",
       "\t6946 & 0          & 0          & 0          & 0          & 0          & 0          & 0          & 0          & 0          & 0          & ...        & 108        &  91        &  380       & 213        & 167        & 1          & 1          & Samastipur & 20         & 239A258   \\\\\n",
       "\t6947 & 0          & 0          & 0          & 0          & 0          & 0          & 0          & 0          & 0          & 0          & ...        & 178        & 169        &  407       & 212        & 195        & 0          & 1          & Samastipur & 20         & 239A259   \\\\\n",
       "\t6948 & 0          & 0          & 0          & 0          & 0          & 0          & 0          & 0          & 0          & 0          & ...        & 248        & 205        &  942       & 534        & 408        & 0          & 1          & Samastipur & 20         & 239A260   \\\\\n",
       "\\end{tabular}\n"
      ],
      "text/markdown": [
       "\n",
       "| <!--/--> | town_id171 | town_id172 | town_id173 | town_id175 | town_id176 | town_id177 | town_id190 | town_id191 | town_id192 | town_id193 | ... | turnout_male | turnout_female | registered_total | registered_male | registered_female | treatment | treatment_phase | town_name | districtCode | unique_id | \n",
       "|---|---|---|---|---|---|\n",
       "| 6943 | 0          | 0          | 0          | 0          | 0          | 0          | 0          | 0          | 0          | 0          | ...        | 222        | 198        | 1078       | 599        | 479        | 0          | 1          | Samastipur | 20         | 239A255    | \n",
       "| 6944 | 0          | 0          | 0          | 0          | 0          | 0          | 0          | 0          | 0          | 0          | ...        | 264        | 237        | 1352       | 712        | 640        | 1          | 1          | Samastipur | 20         | 239A256    | \n",
       "| 6945 | 0          | 0          | 0          | 0          | 0          | 0          | 0          | 0          | 0          | 0          | ...        | 285        | 277        | 1530       | 863        | 667        | 1          | 1          | Samastipur | 20         | 239A257    | \n",
       "| 6946 | 0          | 0          | 0          | 0          | 0          | 0          | 0          | 0          | 0          | 0          | ...        | 108        |  91        |  380       | 213        | 167        | 1          | 1          | Samastipur | 20         | 239A258    | \n",
       "| 6947 | 0          | 0          | 0          | 0          | 0          | 0          | 0          | 0          | 0          | 0          | ...        | 178        | 169        |  407       | 212        | 195        | 0          | 1          | Samastipur | 20         | 239A259    | \n",
       "| 6948 | 0          | 0          | 0          | 0          | 0          | 0          | 0          | 0          | 0          | 0          | ...        | 248        | 205        |  942       | 534        | 408        | 0          | 1          | Samastipur | 20         | 239A260    | \n",
       "\n",
       "\n"
      ],
      "text/plain": [
       "     town_id171 town_id172 town_id173 town_id175 town_id176 town_id177\n",
       "6943 0          0          0          0          0          0         \n",
       "6944 0          0          0          0          0          0         \n",
       "6945 0          0          0          0          0          0         \n",
       "6946 0          0          0          0          0          0         \n",
       "6947 0          0          0          0          0          0         \n",
       "6948 0          0          0          0          0          0         \n",
       "     town_id190 town_id191 town_id192 town_id193 ... turnout_male\n",
       "6943 0          0          0          0          ... 222         \n",
       "6944 0          0          0          0          ... 264         \n",
       "6945 0          0          0          0          ... 285         \n",
       "6946 0          0          0          0          ... 108         \n",
       "6947 0          0          0          0          ... 178         \n",
       "6948 0          0          0          0          ... 248         \n",
       "     turnout_female registered_total registered_male registered_female\n",
       "6943 198            1078             599             479              \n",
       "6944 237            1352             712             640              \n",
       "6945 277            1530             863             667              \n",
       "6946  91             380             213             167              \n",
       "6947 169             407             212             195              \n",
       "6948 205             942             534             408              \n",
       "     treatment treatment_phase town_name  districtCode unique_id\n",
       "6943 0         1               Samastipur 20           239A255  \n",
       "6944 1         1               Samastipur 20           239A256  \n",
       "6945 1         1               Samastipur 20           239A257  \n",
       "6946 1         1               Samastipur 20           239A258  \n",
       "6947 0         1               Samastipur 20           239A259  \n",
       "6948 0         1               Samastipur 20           239A260  "
      ]
     },
     "metadata": {},
     "output_type": "display_data"
    }
   ],
   "source": [
    "tail(newData3)"
   ]
  },
  {
   "cell_type": "code",
   "execution_count": 60,
   "metadata": {
    "collapsed": true
   },
   "outputs": [],
   "source": [
    "library(stringr)"
   ]
  },
  {
   "cell_type": "code",
   "execution_count": 61,
   "metadata": {
    "collapsed": false
   },
   "outputs": [
    {
     "name": "stderr",
     "output_type": "stream",
     "text": [
      "Warning message:\n",
      "\"package 'sjmisc' was built under R version 3.4.0\"\n",
      "Attaching package: 'sjmisc'\n",
      "\n",
      "The following object is masked from 'package:tidyr':\n",
      "\n",
      "    replace_na\n",
      "\n"
     ]
    }
   ],
   "source": [
    "library(sjmisc)"
   ]
  },
  {
   "cell_type": "code",
   "execution_count": 62,
   "metadata": {
    "collapsed": true
   },
   "outputs": [],
   "source": [
    "cols <- names(newData3)"
   ]
  },
  {
   "cell_type": "code",
   "execution_count": 63,
   "metadata": {
    "collapsed": false
   },
   "outputs": [
    {
     "data": {
      "text/html": [
       "<ol class=list-inline>\n",
       "\t<li>'town_id171'</li>\n",
       "\t<li>'town_id172'</li>\n",
       "\t<li>'town_id173'</li>\n",
       "\t<li>'town_id175'</li>\n",
       "\t<li>'town_id176'</li>\n",
       "\t<li>'town_id177'</li>\n",
       "\t<li>'town_id190'</li>\n",
       "\t<li>'town_id191'</li>\n",
       "\t<li>'town_id192'</li>\n",
       "\t<li>'town_id193'</li>\n",
       "\t<li>'town_id195'</li>\n",
       "\t<li>'town_id196'</li>\n",
       "\t<li>'town_id197'</li>\n",
       "\t<li>'town_id198'</li>\n",
       "\t<li>'town_id199'</li>\n",
       "\t<li>'town_id200'</li>\n",
       "\t<li>'town_id201'</li>\n",
       "\t<li>'town_id208'</li>\n",
       "\t<li>'town_id210'</li>\n",
       "\t<li>'town_id211'</li>\n",
       "\t<li>'town_id212'</li>\n",
       "\t<li>'town_id213'</li>\n",
       "\t<li>'town_id235'</li>\n",
       "\t<li>'town_id236'</li>\n",
       "\t<li>'town_id237'</li>\n",
       "\t<li>'town_id238'</li>\n",
       "\t<li>'town_id239'</li>\n",
       "\t<li>'turnout_total'</li>\n",
       "\t<li>'turnout_male'</li>\n",
       "\t<li>'turnout_female'</li>\n",
       "\t<li>'registered_total'</li>\n",
       "\t<li>'registered_male'</li>\n",
       "\t<li>'registered_female'</li>\n",
       "\t<li>'treatment'</li>\n",
       "\t<li>'treatment_phase'</li>\n",
       "\t<li>'town_name'</li>\n",
       "\t<li>'districtCode'</li>\n",
       "\t<li>'unique_id'</li>\n",
       "</ol>\n"
      ],
      "text/latex": [
       "\\begin{enumerate*}\n",
       "\\item 'town\\_id171'\n",
       "\\item 'town\\_id172'\n",
       "\\item 'town\\_id173'\n",
       "\\item 'town\\_id175'\n",
       "\\item 'town\\_id176'\n",
       "\\item 'town\\_id177'\n",
       "\\item 'town\\_id190'\n",
       "\\item 'town\\_id191'\n",
       "\\item 'town\\_id192'\n",
       "\\item 'town\\_id193'\n",
       "\\item 'town\\_id195'\n",
       "\\item 'town\\_id196'\n",
       "\\item 'town\\_id197'\n",
       "\\item 'town\\_id198'\n",
       "\\item 'town\\_id199'\n",
       "\\item 'town\\_id200'\n",
       "\\item 'town\\_id201'\n",
       "\\item 'town\\_id208'\n",
       "\\item 'town\\_id210'\n",
       "\\item 'town\\_id211'\n",
       "\\item 'town\\_id212'\n",
       "\\item 'town\\_id213'\n",
       "\\item 'town\\_id235'\n",
       "\\item 'town\\_id236'\n",
       "\\item 'town\\_id237'\n",
       "\\item 'town\\_id238'\n",
       "\\item 'town\\_id239'\n",
       "\\item 'turnout\\_total'\n",
       "\\item 'turnout\\_male'\n",
       "\\item 'turnout\\_female'\n",
       "\\item 'registered\\_total'\n",
       "\\item 'registered\\_male'\n",
       "\\item 'registered\\_female'\n",
       "\\item 'treatment'\n",
       "\\item 'treatment\\_phase'\n",
       "\\item 'town\\_name'\n",
       "\\item 'districtCode'\n",
       "\\item 'unique\\_id'\n",
       "\\end{enumerate*}\n"
      ],
      "text/markdown": [
       "1. 'town_id171'\n",
       "2. 'town_id172'\n",
       "3. 'town_id173'\n",
       "4. 'town_id175'\n",
       "5. 'town_id176'\n",
       "6. 'town_id177'\n",
       "7. 'town_id190'\n",
       "8. 'town_id191'\n",
       "9. 'town_id192'\n",
       "10. 'town_id193'\n",
       "11. 'town_id195'\n",
       "12. 'town_id196'\n",
       "13. 'town_id197'\n",
       "14. 'town_id198'\n",
       "15. 'town_id199'\n",
       "16. 'town_id200'\n",
       "17. 'town_id201'\n",
       "18. 'town_id208'\n",
       "19. 'town_id210'\n",
       "20. 'town_id211'\n",
       "21. 'town_id212'\n",
       "22. 'town_id213'\n",
       "23. 'town_id235'\n",
       "24. 'town_id236'\n",
       "25. 'town_id237'\n",
       "26. 'town_id238'\n",
       "27. 'town_id239'\n",
       "28. 'turnout_total'\n",
       "29. 'turnout_male'\n",
       "30. 'turnout_female'\n",
       "31. 'registered_total'\n",
       "32. 'registered_male'\n",
       "33. 'registered_female'\n",
       "34. 'treatment'\n",
       "35. 'treatment_phase'\n",
       "36. 'town_name'\n",
       "37. 'districtCode'\n",
       "38. 'unique_id'\n",
       "\n",
       "\n"
      ],
      "text/plain": [
       " [1] \"town_id171\"        \"town_id172\"        \"town_id173\"       \n",
       " [4] \"town_id175\"        \"town_id176\"        \"town_id177\"       \n",
       " [7] \"town_id190\"        \"town_id191\"        \"town_id192\"       \n",
       "[10] \"town_id193\"        \"town_id195\"        \"town_id196\"       \n",
       "[13] \"town_id197\"        \"town_id198\"        \"town_id199\"       \n",
       "[16] \"town_id200\"        \"town_id201\"        \"town_id208\"       \n",
       "[19] \"town_id210\"        \"town_id211\"        \"town_id212\"       \n",
       "[22] \"town_id213\"        \"town_id235\"        \"town_id236\"       \n",
       "[25] \"town_id237\"        \"town_id238\"        \"town_id239\"       \n",
       "[28] \"turnout_total\"     \"turnout_male\"      \"turnout_female\"   \n",
       "[31] \"registered_total\"  \"registered_male\"   \"registered_female\"\n",
       "[34] \"treatment\"         \"treatment_phase\"   \"town_name\"        \n",
       "[37] \"districtCode\"      \"unique_id\"        "
      ]
     },
     "metadata": {},
     "output_type": "display_data"
    }
   ],
   "source": [
    "cols"
   ]
  },
  {
   "cell_type": "code",
   "execution_count": 64,
   "metadata": {
    "collapsed": true
   },
   "outputs": [],
   "source": [
    "indexID <- grep('town|district|id',cols)"
   ]
  },
  {
   "cell_type": "code",
   "execution_count": 65,
   "metadata": {
    "collapsed": false
   },
   "outputs": [
    {
     "data": {
      "text/html": [
       "<ol class=list-inline>\n",
       "\t<li>1</li>\n",
       "\t<li>2</li>\n",
       "\t<li>3</li>\n",
       "\t<li>4</li>\n",
       "\t<li>5</li>\n",
       "\t<li>6</li>\n",
       "\t<li>7</li>\n",
       "\t<li>8</li>\n",
       "\t<li>9</li>\n",
       "\t<li>10</li>\n",
       "\t<li>11</li>\n",
       "\t<li>12</li>\n",
       "\t<li>13</li>\n",
       "\t<li>14</li>\n",
       "\t<li>15</li>\n",
       "\t<li>16</li>\n",
       "\t<li>17</li>\n",
       "\t<li>18</li>\n",
       "\t<li>19</li>\n",
       "\t<li>20</li>\n",
       "\t<li>21</li>\n",
       "\t<li>22</li>\n",
       "\t<li>23</li>\n",
       "\t<li>24</li>\n",
       "\t<li>25</li>\n",
       "\t<li>26</li>\n",
       "\t<li>27</li>\n",
       "\t<li>36</li>\n",
       "\t<li>37</li>\n",
       "\t<li>38</li>\n",
       "</ol>\n"
      ],
      "text/latex": [
       "\\begin{enumerate*}\n",
       "\\item 1\n",
       "\\item 2\n",
       "\\item 3\n",
       "\\item 4\n",
       "\\item 5\n",
       "\\item 6\n",
       "\\item 7\n",
       "\\item 8\n",
       "\\item 9\n",
       "\\item 10\n",
       "\\item 11\n",
       "\\item 12\n",
       "\\item 13\n",
       "\\item 14\n",
       "\\item 15\n",
       "\\item 16\n",
       "\\item 17\n",
       "\\item 18\n",
       "\\item 19\n",
       "\\item 20\n",
       "\\item 21\n",
       "\\item 22\n",
       "\\item 23\n",
       "\\item 24\n",
       "\\item 25\n",
       "\\item 26\n",
       "\\item 27\n",
       "\\item 36\n",
       "\\item 37\n",
       "\\item 38\n",
       "\\end{enumerate*}\n"
      ],
      "text/markdown": [
       "1. 1\n",
       "2. 2\n",
       "3. 3\n",
       "4. 4\n",
       "5. 5\n",
       "6. 6\n",
       "7. 7\n",
       "8. 8\n",
       "9. 9\n",
       "10. 10\n",
       "11. 11\n",
       "12. 12\n",
       "13. 13\n",
       "14. 14\n",
       "15. 15\n",
       "16. 16\n",
       "17. 17\n",
       "18. 18\n",
       "19. 19\n",
       "20. 20\n",
       "21. 21\n",
       "22. 22\n",
       "23. 23\n",
       "24. 24\n",
       "25. 25\n",
       "26. 26\n",
       "27. 27\n",
       "28. 36\n",
       "29. 37\n",
       "30. 38\n",
       "\n",
       "\n"
      ],
      "text/plain": [
       " [1]  1  2  3  4  5  6  7  8  9 10 11 12 13 14 15 16 17 18 19 20 21 22 23 24 25\n",
       "[26] 26 27 36 37 38"
      ]
     },
     "metadata": {},
     "output_type": "display_data"
    }
   ],
   "source": [
    "indexID"
   ]
  },
  {
   "cell_type": "code",
   "execution_count": 66,
   "metadata": {
    "collapsed": true
   },
   "outputs": [],
   "source": [
    "cols[indexID] = 'ID Variable'"
   ]
  },
  {
   "cell_type": "code",
   "execution_count": 67,
   "metadata": {
    "collapsed": false
   },
   "outputs": [
    {
     "data": {
      "text/html": [
       "<ol class=list-inline>\n",
       "\t<li>'ID Variable'</li>\n",
       "\t<li>'ID Variable'</li>\n",
       "\t<li>'ID Variable'</li>\n",
       "\t<li>'ID Variable'</li>\n",
       "\t<li>'ID Variable'</li>\n",
       "\t<li>'ID Variable'</li>\n",
       "\t<li>'ID Variable'</li>\n",
       "\t<li>'ID Variable'</li>\n",
       "\t<li>'ID Variable'</li>\n",
       "\t<li>'ID Variable'</li>\n",
       "\t<li>'ID Variable'</li>\n",
       "\t<li>'ID Variable'</li>\n",
       "\t<li>'ID Variable'</li>\n",
       "\t<li>'ID Variable'</li>\n",
       "\t<li>'ID Variable'</li>\n",
       "\t<li>'ID Variable'</li>\n",
       "\t<li>'ID Variable'</li>\n",
       "\t<li>'ID Variable'</li>\n",
       "\t<li>'ID Variable'</li>\n",
       "\t<li>'ID Variable'</li>\n",
       "\t<li>'ID Variable'</li>\n",
       "\t<li>'ID Variable'</li>\n",
       "\t<li>'ID Variable'</li>\n",
       "\t<li>'ID Variable'</li>\n",
       "\t<li>'ID Variable'</li>\n",
       "\t<li>'ID Variable'</li>\n",
       "\t<li>'ID Variable'</li>\n",
       "\t<li>'turnout_total'</li>\n",
       "\t<li>'turnout_male'</li>\n",
       "\t<li>'turnout_female'</li>\n",
       "\t<li>'registered_total'</li>\n",
       "\t<li>'registered_male'</li>\n",
       "\t<li>'registered_female'</li>\n",
       "\t<li>'treatment'</li>\n",
       "\t<li>'treatment_phase'</li>\n",
       "\t<li>'ID Variable'</li>\n",
       "\t<li>'ID Variable'</li>\n",
       "\t<li>'ID Variable'</li>\n",
       "</ol>\n"
      ],
      "text/latex": [
       "\\begin{enumerate*}\n",
       "\\item 'ID Variable'\n",
       "\\item 'ID Variable'\n",
       "\\item 'ID Variable'\n",
       "\\item 'ID Variable'\n",
       "\\item 'ID Variable'\n",
       "\\item 'ID Variable'\n",
       "\\item 'ID Variable'\n",
       "\\item 'ID Variable'\n",
       "\\item 'ID Variable'\n",
       "\\item 'ID Variable'\n",
       "\\item 'ID Variable'\n",
       "\\item 'ID Variable'\n",
       "\\item 'ID Variable'\n",
       "\\item 'ID Variable'\n",
       "\\item 'ID Variable'\n",
       "\\item 'ID Variable'\n",
       "\\item 'ID Variable'\n",
       "\\item 'ID Variable'\n",
       "\\item 'ID Variable'\n",
       "\\item 'ID Variable'\n",
       "\\item 'ID Variable'\n",
       "\\item 'ID Variable'\n",
       "\\item 'ID Variable'\n",
       "\\item 'ID Variable'\n",
       "\\item 'ID Variable'\n",
       "\\item 'ID Variable'\n",
       "\\item 'ID Variable'\n",
       "\\item 'turnout\\_total'\n",
       "\\item 'turnout\\_male'\n",
       "\\item 'turnout\\_female'\n",
       "\\item 'registered\\_total'\n",
       "\\item 'registered\\_male'\n",
       "\\item 'registered\\_female'\n",
       "\\item 'treatment'\n",
       "\\item 'treatment\\_phase'\n",
       "\\item 'ID Variable'\n",
       "\\item 'ID Variable'\n",
       "\\item 'ID Variable'\n",
       "\\end{enumerate*}\n"
      ],
      "text/markdown": [
       "1. 'ID Variable'\n",
       "2. 'ID Variable'\n",
       "3. 'ID Variable'\n",
       "4. 'ID Variable'\n",
       "5. 'ID Variable'\n",
       "6. 'ID Variable'\n",
       "7. 'ID Variable'\n",
       "8. 'ID Variable'\n",
       "9. 'ID Variable'\n",
       "10. 'ID Variable'\n",
       "11. 'ID Variable'\n",
       "12. 'ID Variable'\n",
       "13. 'ID Variable'\n",
       "14. 'ID Variable'\n",
       "15. 'ID Variable'\n",
       "16. 'ID Variable'\n",
       "17. 'ID Variable'\n",
       "18. 'ID Variable'\n",
       "19. 'ID Variable'\n",
       "20. 'ID Variable'\n",
       "21. 'ID Variable'\n",
       "22. 'ID Variable'\n",
       "23. 'ID Variable'\n",
       "24. 'ID Variable'\n",
       "25. 'ID Variable'\n",
       "26. 'ID Variable'\n",
       "27. 'ID Variable'\n",
       "28. 'turnout_total'\n",
       "29. 'turnout_male'\n",
       "30. 'turnout_female'\n",
       "31. 'registered_total'\n",
       "32. 'registered_male'\n",
       "33. 'registered_female'\n",
       "34. 'treatment'\n",
       "35. 'treatment_phase'\n",
       "36. 'ID Variable'\n",
       "37. 'ID Variable'\n",
       "38. 'ID Variable'\n",
       "\n",
       "\n"
      ],
      "text/plain": [
       " [1] \"ID Variable\"       \"ID Variable\"       \"ID Variable\"      \n",
       " [4] \"ID Variable\"       \"ID Variable\"       \"ID Variable\"      \n",
       " [7] \"ID Variable\"       \"ID Variable\"       \"ID Variable\"      \n",
       "[10] \"ID Variable\"       \"ID Variable\"       \"ID Variable\"      \n",
       "[13] \"ID Variable\"       \"ID Variable\"       \"ID Variable\"      \n",
       "[16] \"ID Variable\"       \"ID Variable\"       \"ID Variable\"      \n",
       "[19] \"ID Variable\"       \"ID Variable\"       \"ID Variable\"      \n",
       "[22] \"ID Variable\"       \"ID Variable\"       \"ID Variable\"      \n",
       "[25] \"ID Variable\"       \"ID Variable\"       \"ID Variable\"      \n",
       "[28] \"turnout_total\"     \"turnout_male\"      \"turnout_female\"   \n",
       "[31] \"registered_total\"  \"registered_male\"   \"registered_female\"\n",
       "[34] \"treatment\"         \"treatment_phase\"   \"ID Variable\"      \n",
       "[37] \"ID Variable\"       \"ID Variable\"      "
      ]
     },
     "metadata": {},
     "output_type": "display_data"
    }
   ],
   "source": [
    "cols"
   ]
  },
  {
   "cell_type": "code",
   "execution_count": 68,
   "metadata": {
    "collapsed": true
   },
   "outputs": [],
   "source": [
    "indexElectoral <- grep('turnout|registered',cols)"
   ]
  },
  {
   "cell_type": "code",
   "execution_count": 69,
   "metadata": {
    "collapsed": false
   },
   "outputs": [
    {
     "data": {
      "text/html": [
       "<ol class=list-inline>\n",
       "\t<li>28</li>\n",
       "\t<li>29</li>\n",
       "\t<li>30</li>\n",
       "\t<li>31</li>\n",
       "\t<li>32</li>\n",
       "\t<li>33</li>\n",
       "</ol>\n"
      ],
      "text/latex": [
       "\\begin{enumerate*}\n",
       "\\item 28\n",
       "\\item 29\n",
       "\\item 30\n",
       "\\item 31\n",
       "\\item 32\n",
       "\\item 33\n",
       "\\end{enumerate*}\n"
      ],
      "text/markdown": [
       "1. 28\n",
       "2. 29\n",
       "3. 30\n",
       "4. 31\n",
       "5. 32\n",
       "6. 33\n",
       "\n",
       "\n"
      ],
      "text/plain": [
       "[1] 28 29 30 31 32 33"
      ]
     },
     "metadata": {},
     "output_type": "display_data"
    }
   ],
   "source": [
    "indexElectoral"
   ]
  },
  {
   "cell_type": "code",
   "execution_count": 70,
   "metadata": {
    "collapsed": true
   },
   "outputs": [],
   "source": [
    "cols[indexElectoral] <- 'Electoral data'"
   ]
  },
  {
   "cell_type": "code",
   "execution_count": 71,
   "metadata": {
    "collapsed": false
   },
   "outputs": [
    {
     "data": {
      "text/html": [
       "<ol class=list-inline>\n",
       "\t<li>'ID Variable'</li>\n",
       "\t<li>'ID Variable'</li>\n",
       "\t<li>'ID Variable'</li>\n",
       "\t<li>'ID Variable'</li>\n",
       "\t<li>'ID Variable'</li>\n",
       "\t<li>'ID Variable'</li>\n",
       "\t<li>'ID Variable'</li>\n",
       "\t<li>'ID Variable'</li>\n",
       "\t<li>'ID Variable'</li>\n",
       "\t<li>'ID Variable'</li>\n",
       "\t<li>'ID Variable'</li>\n",
       "\t<li>'ID Variable'</li>\n",
       "\t<li>'ID Variable'</li>\n",
       "\t<li>'ID Variable'</li>\n",
       "\t<li>'ID Variable'</li>\n",
       "\t<li>'ID Variable'</li>\n",
       "\t<li>'ID Variable'</li>\n",
       "\t<li>'ID Variable'</li>\n",
       "\t<li>'ID Variable'</li>\n",
       "\t<li>'ID Variable'</li>\n",
       "\t<li>'ID Variable'</li>\n",
       "\t<li>'ID Variable'</li>\n",
       "\t<li>'ID Variable'</li>\n",
       "\t<li>'ID Variable'</li>\n",
       "\t<li>'ID Variable'</li>\n",
       "\t<li>'ID Variable'</li>\n",
       "\t<li>'ID Variable'</li>\n",
       "\t<li>'Electoral data'</li>\n",
       "\t<li>'Electoral data'</li>\n",
       "\t<li>'Electoral data'</li>\n",
       "\t<li>'Electoral data'</li>\n",
       "\t<li>'Electoral data'</li>\n",
       "\t<li>'Electoral data'</li>\n",
       "\t<li>'treatment'</li>\n",
       "\t<li>'treatment_phase'</li>\n",
       "\t<li>'ID Variable'</li>\n",
       "\t<li>'ID Variable'</li>\n",
       "\t<li>'ID Variable'</li>\n",
       "</ol>\n"
      ],
      "text/latex": [
       "\\begin{enumerate*}\n",
       "\\item 'ID Variable'\n",
       "\\item 'ID Variable'\n",
       "\\item 'ID Variable'\n",
       "\\item 'ID Variable'\n",
       "\\item 'ID Variable'\n",
       "\\item 'ID Variable'\n",
       "\\item 'ID Variable'\n",
       "\\item 'ID Variable'\n",
       "\\item 'ID Variable'\n",
       "\\item 'ID Variable'\n",
       "\\item 'ID Variable'\n",
       "\\item 'ID Variable'\n",
       "\\item 'ID Variable'\n",
       "\\item 'ID Variable'\n",
       "\\item 'ID Variable'\n",
       "\\item 'ID Variable'\n",
       "\\item 'ID Variable'\n",
       "\\item 'ID Variable'\n",
       "\\item 'ID Variable'\n",
       "\\item 'ID Variable'\n",
       "\\item 'ID Variable'\n",
       "\\item 'ID Variable'\n",
       "\\item 'ID Variable'\n",
       "\\item 'ID Variable'\n",
       "\\item 'ID Variable'\n",
       "\\item 'ID Variable'\n",
       "\\item 'ID Variable'\n",
       "\\item 'Electoral data'\n",
       "\\item 'Electoral data'\n",
       "\\item 'Electoral data'\n",
       "\\item 'Electoral data'\n",
       "\\item 'Electoral data'\n",
       "\\item 'Electoral data'\n",
       "\\item 'treatment'\n",
       "\\item 'treatment\\_phase'\n",
       "\\item 'ID Variable'\n",
       "\\item 'ID Variable'\n",
       "\\item 'ID Variable'\n",
       "\\end{enumerate*}\n"
      ],
      "text/markdown": [
       "1. 'ID Variable'\n",
       "2. 'ID Variable'\n",
       "3. 'ID Variable'\n",
       "4. 'ID Variable'\n",
       "5. 'ID Variable'\n",
       "6. 'ID Variable'\n",
       "7. 'ID Variable'\n",
       "8. 'ID Variable'\n",
       "9. 'ID Variable'\n",
       "10. 'ID Variable'\n",
       "11. 'ID Variable'\n",
       "12. 'ID Variable'\n",
       "13. 'ID Variable'\n",
       "14. 'ID Variable'\n",
       "15. 'ID Variable'\n",
       "16. 'ID Variable'\n",
       "17. 'ID Variable'\n",
       "18. 'ID Variable'\n",
       "19. 'ID Variable'\n",
       "20. 'ID Variable'\n",
       "21. 'ID Variable'\n",
       "22. 'ID Variable'\n",
       "23. 'ID Variable'\n",
       "24. 'ID Variable'\n",
       "25. 'ID Variable'\n",
       "26. 'ID Variable'\n",
       "27. 'ID Variable'\n",
       "28. 'Electoral data'\n",
       "29. 'Electoral data'\n",
       "30. 'Electoral data'\n",
       "31. 'Electoral data'\n",
       "32. 'Electoral data'\n",
       "33. 'Electoral data'\n",
       "34. 'treatment'\n",
       "35. 'treatment_phase'\n",
       "36. 'ID Variable'\n",
       "37. 'ID Variable'\n",
       "38. 'ID Variable'\n",
       "\n",
       "\n"
      ],
      "text/plain": [
       " [1] \"ID Variable\"     \"ID Variable\"     \"ID Variable\"     \"ID Variable\"    \n",
       " [5] \"ID Variable\"     \"ID Variable\"     \"ID Variable\"     \"ID Variable\"    \n",
       " [9] \"ID Variable\"     \"ID Variable\"     \"ID Variable\"     \"ID Variable\"    \n",
       "[13] \"ID Variable\"     \"ID Variable\"     \"ID Variable\"     \"ID Variable\"    \n",
       "[17] \"ID Variable\"     \"ID Variable\"     \"ID Variable\"     \"ID Variable\"    \n",
       "[21] \"ID Variable\"     \"ID Variable\"     \"ID Variable\"     \"ID Variable\"    \n",
       "[25] \"ID Variable\"     \"ID Variable\"     \"ID Variable\"     \"Electoral data\" \n",
       "[29] \"Electoral data\"  \"Electoral data\"  \"Electoral data\"  \"Electoral data\" \n",
       "[33] \"Electoral data\"  \"treatment\"       \"treatment_phase\" \"ID Variable\"    \n",
       "[37] \"ID Variable\"     \"ID Variable\"    "
      ]
     },
     "metadata": {},
     "output_type": "display_data"
    }
   ],
   "source": [
    "cols"
   ]
  },
  {
   "cell_type": "code",
   "execution_count": 72,
   "metadata": {
    "collapsed": true
   },
   "outputs": [],
   "source": [
    "indexTreat <- grep('treat',cols)"
   ]
  },
  {
   "cell_type": "code",
   "execution_count": 73,
   "metadata": {
    "collapsed": false
   },
   "outputs": [
    {
     "data": {
      "text/html": [
       "<ol class=list-inline>\n",
       "\t<li>34</li>\n",
       "\t<li>35</li>\n",
       "</ol>\n"
      ],
      "text/latex": [
       "\\begin{enumerate*}\n",
       "\\item 34\n",
       "\\item 35\n",
       "\\end{enumerate*}\n"
      ],
      "text/markdown": [
       "1. 34\n",
       "2. 35\n",
       "\n",
       "\n"
      ],
      "text/plain": [
       "[1] 34 35"
      ]
     },
     "metadata": {},
     "output_type": "display_data"
    }
   ],
   "source": [
    "indexTreat"
   ]
  },
  {
   "cell_type": "code",
   "execution_count": 74,
   "metadata": {
    "collapsed": true
   },
   "outputs": [],
   "source": [
    "cols[indexTreat] <- 'Intervention'"
   ]
  },
  {
   "cell_type": "code",
   "execution_count": 75,
   "metadata": {
    "collapsed": false
   },
   "outputs": [
    {
     "data": {
      "text/html": [
       "<ol class=list-inline>\n",
       "\t<li>'ID Variable'</li>\n",
       "\t<li>'ID Variable'</li>\n",
       "\t<li>'ID Variable'</li>\n",
       "\t<li>'ID Variable'</li>\n",
       "\t<li>'ID Variable'</li>\n",
       "\t<li>'ID Variable'</li>\n",
       "\t<li>'ID Variable'</li>\n",
       "\t<li>'ID Variable'</li>\n",
       "\t<li>'ID Variable'</li>\n",
       "\t<li>'ID Variable'</li>\n",
       "\t<li>'ID Variable'</li>\n",
       "\t<li>'ID Variable'</li>\n",
       "\t<li>'ID Variable'</li>\n",
       "\t<li>'ID Variable'</li>\n",
       "\t<li>'ID Variable'</li>\n",
       "\t<li>'ID Variable'</li>\n",
       "\t<li>'ID Variable'</li>\n",
       "\t<li>'ID Variable'</li>\n",
       "\t<li>'ID Variable'</li>\n",
       "\t<li>'ID Variable'</li>\n",
       "\t<li>'ID Variable'</li>\n",
       "\t<li>'ID Variable'</li>\n",
       "\t<li>'ID Variable'</li>\n",
       "\t<li>'ID Variable'</li>\n",
       "\t<li>'ID Variable'</li>\n",
       "\t<li>'ID Variable'</li>\n",
       "\t<li>'ID Variable'</li>\n",
       "\t<li>'Electoral data'</li>\n",
       "\t<li>'Electoral data'</li>\n",
       "\t<li>'Electoral data'</li>\n",
       "\t<li>'Electoral data'</li>\n",
       "\t<li>'Electoral data'</li>\n",
       "\t<li>'Electoral data'</li>\n",
       "\t<li>'Intervention'</li>\n",
       "\t<li>'Intervention'</li>\n",
       "\t<li>'ID Variable'</li>\n",
       "\t<li>'ID Variable'</li>\n",
       "\t<li>'ID Variable'</li>\n",
       "</ol>\n"
      ],
      "text/latex": [
       "\\begin{enumerate*}\n",
       "\\item 'ID Variable'\n",
       "\\item 'ID Variable'\n",
       "\\item 'ID Variable'\n",
       "\\item 'ID Variable'\n",
       "\\item 'ID Variable'\n",
       "\\item 'ID Variable'\n",
       "\\item 'ID Variable'\n",
       "\\item 'ID Variable'\n",
       "\\item 'ID Variable'\n",
       "\\item 'ID Variable'\n",
       "\\item 'ID Variable'\n",
       "\\item 'ID Variable'\n",
       "\\item 'ID Variable'\n",
       "\\item 'ID Variable'\n",
       "\\item 'ID Variable'\n",
       "\\item 'ID Variable'\n",
       "\\item 'ID Variable'\n",
       "\\item 'ID Variable'\n",
       "\\item 'ID Variable'\n",
       "\\item 'ID Variable'\n",
       "\\item 'ID Variable'\n",
       "\\item 'ID Variable'\n",
       "\\item 'ID Variable'\n",
       "\\item 'ID Variable'\n",
       "\\item 'ID Variable'\n",
       "\\item 'ID Variable'\n",
       "\\item 'ID Variable'\n",
       "\\item 'Electoral data'\n",
       "\\item 'Electoral data'\n",
       "\\item 'Electoral data'\n",
       "\\item 'Electoral data'\n",
       "\\item 'Electoral data'\n",
       "\\item 'Electoral data'\n",
       "\\item 'Intervention'\n",
       "\\item 'Intervention'\n",
       "\\item 'ID Variable'\n",
       "\\item 'ID Variable'\n",
       "\\item 'ID Variable'\n",
       "\\end{enumerate*}\n"
      ],
      "text/markdown": [
       "1. 'ID Variable'\n",
       "2. 'ID Variable'\n",
       "3. 'ID Variable'\n",
       "4. 'ID Variable'\n",
       "5. 'ID Variable'\n",
       "6. 'ID Variable'\n",
       "7. 'ID Variable'\n",
       "8. 'ID Variable'\n",
       "9. 'ID Variable'\n",
       "10. 'ID Variable'\n",
       "11. 'ID Variable'\n",
       "12. 'ID Variable'\n",
       "13. 'ID Variable'\n",
       "14. 'ID Variable'\n",
       "15. 'ID Variable'\n",
       "16. 'ID Variable'\n",
       "17. 'ID Variable'\n",
       "18. 'ID Variable'\n",
       "19. 'ID Variable'\n",
       "20. 'ID Variable'\n",
       "21. 'ID Variable'\n",
       "22. 'ID Variable'\n",
       "23. 'ID Variable'\n",
       "24. 'ID Variable'\n",
       "25. 'ID Variable'\n",
       "26. 'ID Variable'\n",
       "27. 'ID Variable'\n",
       "28. 'Electoral data'\n",
       "29. 'Electoral data'\n",
       "30. 'Electoral data'\n",
       "31. 'Electoral data'\n",
       "32. 'Electoral data'\n",
       "33. 'Electoral data'\n",
       "34. 'Intervention'\n",
       "35. 'Intervention'\n",
       "36. 'ID Variable'\n",
       "37. 'ID Variable'\n",
       "38. 'ID Variable'\n",
       "\n",
       "\n"
      ],
      "text/plain": [
       " [1] \"ID Variable\"    \"ID Variable\"    \"ID Variable\"    \"ID Variable\"   \n",
       " [5] \"ID Variable\"    \"ID Variable\"    \"ID Variable\"    \"ID Variable\"   \n",
       " [9] \"ID Variable\"    \"ID Variable\"    \"ID Variable\"    \"ID Variable\"   \n",
       "[13] \"ID Variable\"    \"ID Variable\"    \"ID Variable\"    \"ID Variable\"   \n",
       "[17] \"ID Variable\"    \"ID Variable\"    \"ID Variable\"    \"ID Variable\"   \n",
       "[21] \"ID Variable\"    \"ID Variable\"    \"ID Variable\"    \"ID Variable\"   \n",
       "[25] \"ID Variable\"    \"ID Variable\"    \"ID Variable\"    \"Electoral data\"\n",
       "[29] \"Electoral data\" \"Electoral data\" \"Electoral data\" \"Electoral data\"\n",
       "[33] \"Electoral data\" \"Intervention\"   \"Intervention\"   \"ID Variable\"   \n",
       "[37] \"ID Variable\"    \"ID Variable\"   "
      ]
     },
     "metadata": {},
     "output_type": "display_data"
    }
   ],
   "source": [
    "cols"
   ]
  },
  {
   "cell_type": "code",
   "execution_count": 76,
   "metadata": {
    "collapsed": true
   },
   "outputs": [],
   "source": [
    "names(cols) <- names(newData3)"
   ]
  },
  {
   "cell_type": "code",
   "execution_count": 77,
   "metadata": {
    "collapsed": false
   },
   "outputs": [
    {
     "data": {
      "text/html": [
       "<dl class=dl-horizontal>\n",
       "\t<dt>town_id171</dt>\n",
       "\t\t<dd>'ID Variable'</dd>\n",
       "\t<dt>town_id172</dt>\n",
       "\t\t<dd>'ID Variable'</dd>\n",
       "\t<dt>town_id173</dt>\n",
       "\t\t<dd>'ID Variable'</dd>\n",
       "\t<dt>town_id175</dt>\n",
       "\t\t<dd>'ID Variable'</dd>\n",
       "\t<dt>town_id176</dt>\n",
       "\t\t<dd>'ID Variable'</dd>\n",
       "\t<dt>town_id177</dt>\n",
       "\t\t<dd>'ID Variable'</dd>\n",
       "\t<dt>town_id190</dt>\n",
       "\t\t<dd>'ID Variable'</dd>\n",
       "\t<dt>town_id191</dt>\n",
       "\t\t<dd>'ID Variable'</dd>\n",
       "\t<dt>town_id192</dt>\n",
       "\t\t<dd>'ID Variable'</dd>\n",
       "\t<dt>town_id193</dt>\n",
       "\t\t<dd>'ID Variable'</dd>\n",
       "\t<dt>town_id195</dt>\n",
       "\t\t<dd>'ID Variable'</dd>\n",
       "\t<dt>town_id196</dt>\n",
       "\t\t<dd>'ID Variable'</dd>\n",
       "\t<dt>town_id197</dt>\n",
       "\t\t<dd>'ID Variable'</dd>\n",
       "\t<dt>town_id198</dt>\n",
       "\t\t<dd>'ID Variable'</dd>\n",
       "\t<dt>town_id199</dt>\n",
       "\t\t<dd>'ID Variable'</dd>\n",
       "\t<dt>town_id200</dt>\n",
       "\t\t<dd>'ID Variable'</dd>\n",
       "\t<dt>town_id201</dt>\n",
       "\t\t<dd>'ID Variable'</dd>\n",
       "\t<dt>town_id208</dt>\n",
       "\t\t<dd>'ID Variable'</dd>\n",
       "\t<dt>town_id210</dt>\n",
       "\t\t<dd>'ID Variable'</dd>\n",
       "\t<dt>town_id211</dt>\n",
       "\t\t<dd>'ID Variable'</dd>\n",
       "\t<dt>town_id212</dt>\n",
       "\t\t<dd>'ID Variable'</dd>\n",
       "\t<dt>town_id213</dt>\n",
       "\t\t<dd>'ID Variable'</dd>\n",
       "\t<dt>town_id235</dt>\n",
       "\t\t<dd>'ID Variable'</dd>\n",
       "\t<dt>town_id236</dt>\n",
       "\t\t<dd>'ID Variable'</dd>\n",
       "\t<dt>town_id237</dt>\n",
       "\t\t<dd>'ID Variable'</dd>\n",
       "\t<dt>town_id238</dt>\n",
       "\t\t<dd>'ID Variable'</dd>\n",
       "\t<dt>town_id239</dt>\n",
       "\t\t<dd>'ID Variable'</dd>\n",
       "\t<dt>turnout_total</dt>\n",
       "\t\t<dd>'Electoral data'</dd>\n",
       "\t<dt>turnout_male</dt>\n",
       "\t\t<dd>'Electoral data'</dd>\n",
       "\t<dt>turnout_female</dt>\n",
       "\t\t<dd>'Electoral data'</dd>\n",
       "\t<dt>registered_total</dt>\n",
       "\t\t<dd>'Electoral data'</dd>\n",
       "\t<dt>registered_male</dt>\n",
       "\t\t<dd>'Electoral data'</dd>\n",
       "\t<dt>registered_female</dt>\n",
       "\t\t<dd>'Electoral data'</dd>\n",
       "\t<dt>treatment</dt>\n",
       "\t\t<dd>'Intervention'</dd>\n",
       "\t<dt>treatment_phase</dt>\n",
       "\t\t<dd>'Intervention'</dd>\n",
       "\t<dt>town_name</dt>\n",
       "\t\t<dd>'ID Variable'</dd>\n",
       "\t<dt>districtCode</dt>\n",
       "\t\t<dd>'ID Variable'</dd>\n",
       "\t<dt>unique_id</dt>\n",
       "\t\t<dd>'ID Variable'</dd>\n",
       "</dl>\n"
      ],
      "text/latex": [
       "\\begin{description*}\n",
       "\\item[town\\textbackslash{}\\_id171] 'ID Variable'\n",
       "\\item[town\\textbackslash{}\\_id172] 'ID Variable'\n",
       "\\item[town\\textbackslash{}\\_id173] 'ID Variable'\n",
       "\\item[town\\textbackslash{}\\_id175] 'ID Variable'\n",
       "\\item[town\\textbackslash{}\\_id176] 'ID Variable'\n",
       "\\item[town\\textbackslash{}\\_id177] 'ID Variable'\n",
       "\\item[town\\textbackslash{}\\_id190] 'ID Variable'\n",
       "\\item[town\\textbackslash{}\\_id191] 'ID Variable'\n",
       "\\item[town\\textbackslash{}\\_id192] 'ID Variable'\n",
       "\\item[town\\textbackslash{}\\_id193] 'ID Variable'\n",
       "\\item[town\\textbackslash{}\\_id195] 'ID Variable'\n",
       "\\item[town\\textbackslash{}\\_id196] 'ID Variable'\n",
       "\\item[town\\textbackslash{}\\_id197] 'ID Variable'\n",
       "\\item[town\\textbackslash{}\\_id198] 'ID Variable'\n",
       "\\item[town\\textbackslash{}\\_id199] 'ID Variable'\n",
       "\\item[town\\textbackslash{}\\_id200] 'ID Variable'\n",
       "\\item[town\\textbackslash{}\\_id201] 'ID Variable'\n",
       "\\item[town\\textbackslash{}\\_id208] 'ID Variable'\n",
       "\\item[town\\textbackslash{}\\_id210] 'ID Variable'\n",
       "\\item[town\\textbackslash{}\\_id211] 'ID Variable'\n",
       "\\item[town\\textbackslash{}\\_id212] 'ID Variable'\n",
       "\\item[town\\textbackslash{}\\_id213] 'ID Variable'\n",
       "\\item[town\\textbackslash{}\\_id235] 'ID Variable'\n",
       "\\item[town\\textbackslash{}\\_id236] 'ID Variable'\n",
       "\\item[town\\textbackslash{}\\_id237] 'ID Variable'\n",
       "\\item[town\\textbackslash{}\\_id238] 'ID Variable'\n",
       "\\item[town\\textbackslash{}\\_id239] 'ID Variable'\n",
       "\\item[turnout\\textbackslash{}\\_total] 'Electoral data'\n",
       "\\item[turnout\\textbackslash{}\\_male] 'Electoral data'\n",
       "\\item[turnout\\textbackslash{}\\_female] 'Electoral data'\n",
       "\\item[registered\\textbackslash{}\\_total] 'Electoral data'\n",
       "\\item[registered\\textbackslash{}\\_male] 'Electoral data'\n",
       "\\item[registered\\textbackslash{}\\_female] 'Electoral data'\n",
       "\\item[treatment] 'Intervention'\n",
       "\\item[treatment\\textbackslash{}\\_phase] 'Intervention'\n",
       "\\item[town\\textbackslash{}\\_name] 'ID Variable'\n",
       "\\item[districtCode] 'ID Variable'\n",
       "\\item[unique\\textbackslash{}\\_id] 'ID Variable'\n",
       "\\end{description*}\n"
      ],
      "text/markdown": [
       "town_id171\n",
       ":   'ID Variable'town_id172\n",
       ":   'ID Variable'town_id173\n",
       ":   'ID Variable'town_id175\n",
       ":   'ID Variable'town_id176\n",
       ":   'ID Variable'town_id177\n",
       ":   'ID Variable'town_id190\n",
       ":   'ID Variable'town_id191\n",
       ":   'ID Variable'town_id192\n",
       ":   'ID Variable'town_id193\n",
       ":   'ID Variable'town_id195\n",
       ":   'ID Variable'town_id196\n",
       ":   'ID Variable'town_id197\n",
       ":   'ID Variable'town_id198\n",
       ":   'ID Variable'town_id199\n",
       ":   'ID Variable'town_id200\n",
       ":   'ID Variable'town_id201\n",
       ":   'ID Variable'town_id208\n",
       ":   'ID Variable'town_id210\n",
       ":   'ID Variable'town_id211\n",
       ":   'ID Variable'town_id212\n",
       ":   'ID Variable'town_id213\n",
       ":   'ID Variable'town_id235\n",
       ":   'ID Variable'town_id236\n",
       ":   'ID Variable'town_id237\n",
       ":   'ID Variable'town_id238\n",
       ":   'ID Variable'town_id239\n",
       ":   'ID Variable'turnout_total\n",
       ":   'Electoral data'turnout_male\n",
       ":   'Electoral data'turnout_female\n",
       ":   'Electoral data'registered_total\n",
       ":   'Electoral data'registered_male\n",
       ":   'Electoral data'registered_female\n",
       ":   'Electoral data'treatment\n",
       ":   'Intervention'treatment_phase\n",
       ":   'Intervention'town_name\n",
       ":   'ID Variable'districtCode\n",
       ":   'ID Variable'unique_id\n",
       ":   'ID Variable'\n",
       "\n"
      ],
      "text/plain": [
       "       town_id171        town_id172        town_id173        town_id175 \n",
       "    \"ID Variable\"     \"ID Variable\"     \"ID Variable\"     \"ID Variable\" \n",
       "       town_id176        town_id177        town_id190        town_id191 \n",
       "    \"ID Variable\"     \"ID Variable\"     \"ID Variable\"     \"ID Variable\" \n",
       "       town_id192        town_id193        town_id195        town_id196 \n",
       "    \"ID Variable\"     \"ID Variable\"     \"ID Variable\"     \"ID Variable\" \n",
       "       town_id197        town_id198        town_id199        town_id200 \n",
       "    \"ID Variable\"     \"ID Variable\"     \"ID Variable\"     \"ID Variable\" \n",
       "       town_id201        town_id208        town_id210        town_id211 \n",
       "    \"ID Variable\"     \"ID Variable\"     \"ID Variable\"     \"ID Variable\" \n",
       "       town_id212        town_id213        town_id235        town_id236 \n",
       "    \"ID Variable\"     \"ID Variable\"     \"ID Variable\"     \"ID Variable\" \n",
       "       town_id237        town_id238        town_id239     turnout_total \n",
       "    \"ID Variable\"     \"ID Variable\"     \"ID Variable\"  \"Electoral data\" \n",
       "     turnout_male    turnout_female  registered_total   registered_male \n",
       " \"Electoral data\"  \"Electoral data\"  \"Electoral data\"  \"Electoral data\" \n",
       "registered_female         treatment   treatment_phase         town_name \n",
       " \"Electoral data\"    \"Intervention\"    \"Intervention\"     \"ID Variable\" \n",
       "     districtCode         unique_id \n",
       "    \"ID Variable\"     \"ID Variable\" "
      ]
     },
     "metadata": {},
     "output_type": "display_data"
    }
   ],
   "source": [
    "cols"
   ]
  },
  {
   "cell_type": "code",
   "execution_count": 78,
   "metadata": {
    "collapsed": true
   },
   "outputs": [],
   "source": [
    "library(sjmisc)"
   ]
  },
  {
   "cell_type": "markdown",
   "metadata": {},
   "source": [
    "### Here I will set the variable labels to one of these 'ID Variable', 'Electoral Data', 'Intervention'. I have done this as per my understanding about the variables. "
   ]
  },
  {
   "cell_type": "code",
   "execution_count": 79,
   "metadata": {
    "collapsed": true
   },
   "outputs": [],
   "source": [
    "set_label(newData3) <- cols"
   ]
  },
  {
   "cell_type": "code",
   "execution_count": 80,
   "metadata": {
    "collapsed": false
   },
   "outputs": [
    {
     "data": {
      "text/html": [
       "<dl class=dl-horizontal>\n",
       "\t<dt>town_id171</dt>\n",
       "\t\t<dd>'ID Variable'</dd>\n",
       "\t<dt>town_id172</dt>\n",
       "\t\t<dd>'ID Variable'</dd>\n",
       "\t<dt>town_id173</dt>\n",
       "\t\t<dd>'ID Variable'</dd>\n",
       "\t<dt>town_id175</dt>\n",
       "\t\t<dd>'ID Variable'</dd>\n",
       "\t<dt>town_id176</dt>\n",
       "\t\t<dd>'ID Variable'</dd>\n",
       "\t<dt>town_id177</dt>\n",
       "\t\t<dd>'ID Variable'</dd>\n",
       "\t<dt>town_id190</dt>\n",
       "\t\t<dd>'ID Variable'</dd>\n",
       "\t<dt>town_id191</dt>\n",
       "\t\t<dd>'ID Variable'</dd>\n",
       "\t<dt>town_id192</dt>\n",
       "\t\t<dd>'ID Variable'</dd>\n",
       "\t<dt>town_id193</dt>\n",
       "\t\t<dd>'ID Variable'</dd>\n",
       "\t<dt>town_id195</dt>\n",
       "\t\t<dd>'ID Variable'</dd>\n",
       "\t<dt>town_id196</dt>\n",
       "\t\t<dd>'ID Variable'</dd>\n",
       "\t<dt>town_id197</dt>\n",
       "\t\t<dd>'ID Variable'</dd>\n",
       "\t<dt>town_id198</dt>\n",
       "\t\t<dd>'ID Variable'</dd>\n",
       "\t<dt>town_id199</dt>\n",
       "\t\t<dd>'ID Variable'</dd>\n",
       "\t<dt>town_id200</dt>\n",
       "\t\t<dd>'ID Variable'</dd>\n",
       "\t<dt>town_id201</dt>\n",
       "\t\t<dd>'ID Variable'</dd>\n",
       "\t<dt>town_id208</dt>\n",
       "\t\t<dd>'ID Variable'</dd>\n",
       "\t<dt>town_id210</dt>\n",
       "\t\t<dd>'ID Variable'</dd>\n",
       "\t<dt>town_id211</dt>\n",
       "\t\t<dd>'ID Variable'</dd>\n",
       "\t<dt>town_id212</dt>\n",
       "\t\t<dd>'ID Variable'</dd>\n",
       "\t<dt>town_id213</dt>\n",
       "\t\t<dd>'ID Variable'</dd>\n",
       "\t<dt>town_id235</dt>\n",
       "\t\t<dd>'ID Variable'</dd>\n",
       "\t<dt>town_id236</dt>\n",
       "\t\t<dd>'ID Variable'</dd>\n",
       "\t<dt>town_id237</dt>\n",
       "\t\t<dd>'ID Variable'</dd>\n",
       "\t<dt>town_id238</dt>\n",
       "\t\t<dd>'ID Variable'</dd>\n",
       "\t<dt>town_id239</dt>\n",
       "\t\t<dd>'ID Variable'</dd>\n",
       "\t<dt>turnout_total</dt>\n",
       "\t\t<dd>'Electoral data'</dd>\n",
       "\t<dt>turnout_male</dt>\n",
       "\t\t<dd>'Electoral data'</dd>\n",
       "\t<dt>turnout_female</dt>\n",
       "\t\t<dd>'Electoral data'</dd>\n",
       "\t<dt>registered_total</dt>\n",
       "\t\t<dd>'Electoral data'</dd>\n",
       "\t<dt>registered_male</dt>\n",
       "\t\t<dd>'Electoral data'</dd>\n",
       "\t<dt>registered_female</dt>\n",
       "\t\t<dd>'Electoral data'</dd>\n",
       "\t<dt>treatment</dt>\n",
       "\t\t<dd>'Intervention'</dd>\n",
       "\t<dt>treatment_phase</dt>\n",
       "\t\t<dd>'Intervention'</dd>\n",
       "\t<dt>town_name</dt>\n",
       "\t\t<dd>'ID Variable'</dd>\n",
       "\t<dt>districtCode</dt>\n",
       "\t\t<dd>'ID Variable'</dd>\n",
       "\t<dt>unique_id</dt>\n",
       "\t\t<dd>'ID Variable'</dd>\n",
       "</dl>\n"
      ],
      "text/latex": [
       "\\begin{description*}\n",
       "\\item[town\\textbackslash{}\\_id171] 'ID Variable'\n",
       "\\item[town\\textbackslash{}\\_id172] 'ID Variable'\n",
       "\\item[town\\textbackslash{}\\_id173] 'ID Variable'\n",
       "\\item[town\\textbackslash{}\\_id175] 'ID Variable'\n",
       "\\item[town\\textbackslash{}\\_id176] 'ID Variable'\n",
       "\\item[town\\textbackslash{}\\_id177] 'ID Variable'\n",
       "\\item[town\\textbackslash{}\\_id190] 'ID Variable'\n",
       "\\item[town\\textbackslash{}\\_id191] 'ID Variable'\n",
       "\\item[town\\textbackslash{}\\_id192] 'ID Variable'\n",
       "\\item[town\\textbackslash{}\\_id193] 'ID Variable'\n",
       "\\item[town\\textbackslash{}\\_id195] 'ID Variable'\n",
       "\\item[town\\textbackslash{}\\_id196] 'ID Variable'\n",
       "\\item[town\\textbackslash{}\\_id197] 'ID Variable'\n",
       "\\item[town\\textbackslash{}\\_id198] 'ID Variable'\n",
       "\\item[town\\textbackslash{}\\_id199] 'ID Variable'\n",
       "\\item[town\\textbackslash{}\\_id200] 'ID Variable'\n",
       "\\item[town\\textbackslash{}\\_id201] 'ID Variable'\n",
       "\\item[town\\textbackslash{}\\_id208] 'ID Variable'\n",
       "\\item[town\\textbackslash{}\\_id210] 'ID Variable'\n",
       "\\item[town\\textbackslash{}\\_id211] 'ID Variable'\n",
       "\\item[town\\textbackslash{}\\_id212] 'ID Variable'\n",
       "\\item[town\\textbackslash{}\\_id213] 'ID Variable'\n",
       "\\item[town\\textbackslash{}\\_id235] 'ID Variable'\n",
       "\\item[town\\textbackslash{}\\_id236] 'ID Variable'\n",
       "\\item[town\\textbackslash{}\\_id237] 'ID Variable'\n",
       "\\item[town\\textbackslash{}\\_id238] 'ID Variable'\n",
       "\\item[town\\textbackslash{}\\_id239] 'ID Variable'\n",
       "\\item[turnout\\textbackslash{}\\_total] 'Electoral data'\n",
       "\\item[turnout\\textbackslash{}\\_male] 'Electoral data'\n",
       "\\item[turnout\\textbackslash{}\\_female] 'Electoral data'\n",
       "\\item[registered\\textbackslash{}\\_total] 'Electoral data'\n",
       "\\item[registered\\textbackslash{}\\_male] 'Electoral data'\n",
       "\\item[registered\\textbackslash{}\\_female] 'Electoral data'\n",
       "\\item[treatment] 'Intervention'\n",
       "\\item[treatment\\textbackslash{}\\_phase] 'Intervention'\n",
       "\\item[town\\textbackslash{}\\_name] 'ID Variable'\n",
       "\\item[districtCode] 'ID Variable'\n",
       "\\item[unique\\textbackslash{}\\_id] 'ID Variable'\n",
       "\\end{description*}\n"
      ],
      "text/markdown": [
       "town_id171\n",
       ":   'ID Variable'town_id172\n",
       ":   'ID Variable'town_id173\n",
       ":   'ID Variable'town_id175\n",
       ":   'ID Variable'town_id176\n",
       ":   'ID Variable'town_id177\n",
       ":   'ID Variable'town_id190\n",
       ":   'ID Variable'town_id191\n",
       ":   'ID Variable'town_id192\n",
       ":   'ID Variable'town_id193\n",
       ":   'ID Variable'town_id195\n",
       ":   'ID Variable'town_id196\n",
       ":   'ID Variable'town_id197\n",
       ":   'ID Variable'town_id198\n",
       ":   'ID Variable'town_id199\n",
       ":   'ID Variable'town_id200\n",
       ":   'ID Variable'town_id201\n",
       ":   'ID Variable'town_id208\n",
       ":   'ID Variable'town_id210\n",
       ":   'ID Variable'town_id211\n",
       ":   'ID Variable'town_id212\n",
       ":   'ID Variable'town_id213\n",
       ":   'ID Variable'town_id235\n",
       ":   'ID Variable'town_id236\n",
       ":   'ID Variable'town_id237\n",
       ":   'ID Variable'town_id238\n",
       ":   'ID Variable'town_id239\n",
       ":   'ID Variable'turnout_total\n",
       ":   'Electoral data'turnout_male\n",
       ":   'Electoral data'turnout_female\n",
       ":   'Electoral data'registered_total\n",
       ":   'Electoral data'registered_male\n",
       ":   'Electoral data'registered_female\n",
       ":   'Electoral data'treatment\n",
       ":   'Intervention'treatment_phase\n",
       ":   'Intervention'town_name\n",
       ":   'ID Variable'districtCode\n",
       ":   'ID Variable'unique_id\n",
       ":   'ID Variable'\n",
       "\n"
      ],
      "text/plain": [
       "       town_id171        town_id172        town_id173        town_id175 \n",
       "    \"ID Variable\"     \"ID Variable\"     \"ID Variable\"     \"ID Variable\" \n",
       "       town_id176        town_id177        town_id190        town_id191 \n",
       "    \"ID Variable\"     \"ID Variable\"     \"ID Variable\"     \"ID Variable\" \n",
       "       town_id192        town_id193        town_id195        town_id196 \n",
       "    \"ID Variable\"     \"ID Variable\"     \"ID Variable\"     \"ID Variable\" \n",
       "       town_id197        town_id198        town_id199        town_id200 \n",
       "    \"ID Variable\"     \"ID Variable\"     \"ID Variable\"     \"ID Variable\" \n",
       "       town_id201        town_id208        town_id210        town_id211 \n",
       "    \"ID Variable\"     \"ID Variable\"     \"ID Variable\"     \"ID Variable\" \n",
       "       town_id212        town_id213        town_id235        town_id236 \n",
       "    \"ID Variable\"     \"ID Variable\"     \"ID Variable\"     \"ID Variable\" \n",
       "       town_id237        town_id238        town_id239     turnout_total \n",
       "    \"ID Variable\"     \"ID Variable\"     \"ID Variable\"  \"Electoral data\" \n",
       "     turnout_male    turnout_female  registered_total   registered_male \n",
       " \"Electoral data\"  \"Electoral data\"  \"Electoral data\"  \"Electoral data\" \n",
       "registered_female         treatment   treatment_phase         town_name \n",
       " \"Electoral data\"    \"Intervention\"    \"Intervention\"     \"ID Variable\" \n",
       "     districtCode         unique_id \n",
       "    \"ID Variable\"     \"ID Variable\" "
      ]
     },
     "metadata": {},
     "output_type": "display_data"
    }
   ],
   "source": [
    "get_label(newData3)"
   ]
  },
  {
   "cell_type": "code",
   "execution_count": 81,
   "metadata": {
    "collapsed": false
   },
   "outputs": [
    {
     "name": "stdout",
     "output_type": "stream",
     "text": [
      "'data.frame':\t6948 obs. of  38 variables:\n",
      " $ town_id171       : atomic  1 1 1 1 1 1 1 1 1 1 ...\n",
      "  ..- attr(*, \"label\")= Named chr \"ID Variable\"\n",
      "  .. ..- attr(*, \"names\")= chr \"town_id171\"\n",
      " $ town_id172       : atomic  0 0 0 0 0 0 0 0 0 0 ...\n",
      "  ..- attr(*, \"label\")= Named chr \"ID Variable\"\n",
      "  .. ..- attr(*, \"names\")= chr \"town_id172\"\n",
      " $ town_id173       : atomic  0 0 0 0 0 0 0 0 0 0 ...\n",
      "  ..- attr(*, \"label\")= Named chr \"ID Variable\"\n",
      "  .. ..- attr(*, \"names\")= chr \"town_id173\"\n",
      " $ town_id175       : atomic  0 0 0 0 0 0 0 0 0 0 ...\n",
      "  ..- attr(*, \"label\")= Named chr \"ID Variable\"\n",
      "  .. ..- attr(*, \"names\")= chr \"town_id175\"\n",
      " $ town_id176       : atomic  0 0 0 0 0 0 0 0 0 0 ...\n",
      "  ..- attr(*, \"label\")= Named chr \"ID Variable\"\n",
      "  .. ..- attr(*, \"names\")= chr \"town_id176\"\n",
      " $ town_id177       : atomic  0 0 0 0 0 0 0 0 0 0 ...\n",
      "  ..- attr(*, \"label\")= Named chr \"ID Variable\"\n",
      "  .. ..- attr(*, \"names\")= chr \"town_id177\"\n",
      " $ town_id190       : atomic  0 0 0 0 0 0 0 0 0 0 ...\n",
      "  ..- attr(*, \"label\")= Named chr \"ID Variable\"\n",
      "  .. ..- attr(*, \"names\")= chr \"town_id190\"\n",
      " $ town_id191       : atomic  0 0 0 0 0 0 0 0 0 0 ...\n",
      "  ..- attr(*, \"label\")= Named chr \"ID Variable\"\n",
      "  .. ..- attr(*, \"names\")= chr \"town_id191\"\n",
      " $ town_id192       : atomic  0 0 0 0 0 0 0 0 0 0 ...\n",
      "  ..- attr(*, \"label\")= Named chr \"ID Variable\"\n",
      "  .. ..- attr(*, \"names\")= chr \"town_id192\"\n",
      " $ town_id193       : atomic  0 0 0 0 0 0 0 0 0 0 ...\n",
      "  ..- attr(*, \"label\")= Named chr \"ID Variable\"\n",
      "  .. ..- attr(*, \"names\")= chr \"town_id193\"\n",
      " $ town_id195       : atomic  0 0 0 0 0 0 0 0 0 0 ...\n",
      "  ..- attr(*, \"label\")= Named chr \"ID Variable\"\n",
      "  .. ..- attr(*, \"names\")= chr \"town_id195\"\n",
      " $ town_id196       : atomic  0 0 0 0 0 0 0 0 0 0 ...\n",
      "  ..- attr(*, \"label\")= Named chr \"ID Variable\"\n",
      "  .. ..- attr(*, \"names\")= chr \"town_id196\"\n",
      " $ town_id197       : atomic  0 0 0 0 0 0 0 0 0 0 ...\n",
      "  ..- attr(*, \"label\")= Named chr \"ID Variable\"\n",
      "  .. ..- attr(*, \"names\")= chr \"town_id197\"\n",
      " $ town_id198       : atomic  0 0 0 0 0 0 0 0 0 0 ...\n",
      "  ..- attr(*, \"label\")= Named chr \"ID Variable\"\n",
      "  .. ..- attr(*, \"names\")= chr \"town_id198\"\n",
      " $ town_id199       : atomic  0 0 0 0 0 0 0 0 0 0 ...\n",
      "  ..- attr(*, \"label\")= Named chr \"ID Variable\"\n",
      "  .. ..- attr(*, \"names\")= chr \"town_id199\"\n",
      " $ town_id200       : atomic  0 0 0 0 0 0 0 0 0 0 ...\n",
      "  ..- attr(*, \"label\")= Named chr \"ID Variable\"\n",
      "  .. ..- attr(*, \"names\")= chr \"town_id200\"\n",
      " $ town_id201       : atomic  0 0 0 0 0 0 0 0 0 0 ...\n",
      "  ..- attr(*, \"label\")= Named chr \"ID Variable\"\n",
      "  .. ..- attr(*, \"names\")= chr \"town_id201\"\n",
      " $ town_id208       : atomic  0 0 0 0 0 0 0 0 0 0 ...\n",
      "  ..- attr(*, \"label\")= Named chr \"ID Variable\"\n",
      "  .. ..- attr(*, \"names\")= chr \"town_id208\"\n",
      " $ town_id210       : atomic  0 0 0 0 0 0 0 0 0 0 ...\n",
      "  ..- attr(*, \"label\")= Named chr \"ID Variable\"\n",
      "  .. ..- attr(*, \"names\")= chr \"town_id210\"\n",
      " $ town_id211       : atomic  0 0 0 0 0 0 0 0 0 0 ...\n",
      "  ..- attr(*, \"label\")= Named chr \"ID Variable\"\n",
      "  .. ..- attr(*, \"names\")= chr \"town_id211\"\n",
      " $ town_id212       : atomic  0 0 0 0 0 0 0 0 0 0 ...\n",
      "  ..- attr(*, \"label\")= Named chr \"ID Variable\"\n",
      "  .. ..- attr(*, \"names\")= chr \"town_id212\"\n",
      " $ town_id213       : atomic  0 0 0 0 0 0 0 0 0 0 ...\n",
      "  ..- attr(*, \"label\")= Named chr \"ID Variable\"\n",
      "  .. ..- attr(*, \"names\")= chr \"town_id213\"\n",
      " $ town_id235       : atomic  0 0 0 0 0 0 0 0 0 0 ...\n",
      "  ..- attr(*, \"label\")= Named chr \"ID Variable\"\n",
      "  .. ..- attr(*, \"names\")= chr \"town_id235\"\n",
      " $ town_id236       : atomic  0 0 0 0 0 0 0 0 0 0 ...\n",
      "  ..- attr(*, \"label\")= Named chr \"ID Variable\"\n",
      "  .. ..- attr(*, \"names\")= chr \"town_id236\"\n",
      " $ town_id237       : atomic  0 0 0 0 0 0 0 0 0 0 ...\n",
      "  ..- attr(*, \"label\")= Named chr \"ID Variable\"\n",
      "  .. ..- attr(*, \"names\")= chr \"town_id237\"\n",
      " $ town_id238       : atomic  0 0 0 0 0 0 0 0 0 0 ...\n",
      "  ..- attr(*, \"label\")= Named chr \"ID Variable\"\n",
      "  .. ..- attr(*, \"names\")= chr \"town_id238\"\n",
      " $ town_id239       : atomic  0 0 0 0 0 0 0 0 0 0 ...\n",
      "  ..- attr(*, \"label\")= Named chr \"ID Variable\"\n",
      "  .. ..- attr(*, \"names\")= chr \"town_id239\"\n",
      " $ turnout_total    : atomic  413 618 377 367 265 325 384 310 342 366 ...\n",
      "  ..- attr(*, \"label\")= Named chr \"Electoral data\"\n",
      "  .. ..- attr(*, \"names\")= chr \"turnout_total\"\n",
      " $ turnout_male     : atomic  208 337 215 200 128 185 216 180 183 205 ...\n",
      "  ..- attr(*, \"label\")= Named chr \"Electoral data\"\n",
      "  .. ..- attr(*, \"names\")= chr \"turnout_male\"\n",
      " $ turnout_female   : atomic  205 281 162 167 137 140 168 130 159 161 ...\n",
      "  ..- attr(*, \"label\")= Named chr \"Electoral data\"\n",
      "  .. ..- attr(*, \"names\")= chr \"turnout_female\"\n",
      " $ registered_total : atomic  1389 1544 1280 1551 1128 ...\n",
      "  ..- attr(*, \"label\")= Named chr \"Electoral data\"\n",
      "  .. ..- attr(*, \"names\")= chr \"registered_total\"\n",
      " $ registered_male  : atomic  769 859 695 850 609 556 477 512 604 225 ...\n",
      "  ..- attr(*, \"label\")= Named chr \"Electoral data\"\n",
      "  .. ..- attr(*, \"names\")= chr \"registered_male\"\n",
      " $ registered_female: atomic  620 685 585 701 519 442 342 436 469 176 ...\n",
      "  ..- attr(*, \"label\")= Named chr \"Electoral data\"\n",
      "  .. ..- attr(*, \"names\")= chr \"registered_female\"\n",
      " $ treatment        : atomic  1 0 0 0 1 0 0 1 1 1 ...\n",
      "  ..- attr(*, \"label\")= Named chr \"Intervention\"\n",
      "  .. ..- attr(*, \"names\")= chr \"treatment\"\n",
      " $ treatment_phase  : atomic  1 1 1 1 1 1 1 1 1 1 ...\n",
      "  ..- attr(*, \"label\")= Named chr \"Intervention\"\n",
      "  .. ..- attr(*, \"names\")= chr \"treatment_phase\"\n",
      " $ town_name        : atomic  Ara Ara Ara Ara ...\n",
      "  ..- attr(*, \"label\")= Named chr \"ID Variable\"\n",
      "  .. ..- attr(*, \"names\")= chr \"town_name\"\n",
      " $ districtCode     : atomic  5 5 5 5 5 5 5 5 5 5 ...\n",
      "  ..- attr(*, \"label\")= Named chr \"ID Variable\"\n",
      "  .. ..- attr(*, \"names\")= chr \"districtCode\"\n",
      " $ unique_id        : atomic  171A001 171A002 171A003 171A004 ...\n",
      "  ..- attr(*, \"label\")= Named chr \"ID Variable\"\n",
      "  .. ..- attr(*, \"names\")= chr \"unique_id\"\n"
     ]
    }
   ],
   "source": [
    "str(newData3)"
   ]
  },
  {
   "cell_type": "markdown",
   "metadata": {},
   "source": [
    "### Now I will label the values of the treatment variable."
   ]
  },
  {
   "cell_type": "code",
   "execution_count": 82,
   "metadata": {
    "collapsed": false
   },
   "outputs": [
    {
     "name": "stdout",
     "output_type": "stream",
     "text": [
      " atomic [1:6948] 1 0 0 0 1 0 0 1 1 1 ...\n",
      " - attr(*, \"label\")= Named chr \"Intervention\"\n",
      "  ..- attr(*, \"names\")= chr \"treatment\"\n"
     ]
    }
   ],
   "source": [
    "str(newData3$treatment)"
   ]
  },
  {
   "cell_type": "code",
   "execution_count": 83,
   "metadata": {
    "collapsed": false
   },
   "outputs": [
    {
     "data": {
      "text/plain": [
       "   Min. 1st Qu.  Median    Mean 3rd Qu.    Max. \n",
       " 0.0000  0.0000  0.0000  0.4973  1.0000  1.0000 "
      ]
     },
     "metadata": {},
     "output_type": "display_data"
    }
   ],
   "source": [
    "summary(newData3$treatment)"
   ]
  },
  {
   "cell_type": "code",
   "execution_count": 84,
   "metadata": {
    "collapsed": false
   },
   "outputs": [],
   "source": [
    "newData3$treatment <- set_labels(newData3$treatment, labels = c(\"Treatment\" = 1, \"No Treatment\" = 0))"
   ]
  },
  {
   "cell_type": "code",
   "execution_count": 85,
   "metadata": {
    "collapsed": false
   },
   "outputs": [
    {
     "data": {
      "text/html": [
       "<ol class=list-inline>\n",
       "\t<li>'No Treatment'</li>\n",
       "\t<li>'Treatment'</li>\n",
       "</ol>\n"
      ],
      "text/latex": [
       "\\begin{enumerate*}\n",
       "\\item 'No Treatment'\n",
       "\\item 'Treatment'\n",
       "\\end{enumerate*}\n"
      ],
      "text/markdown": [
       "1. 'No Treatment'\n",
       "2. 'Treatment'\n",
       "\n",
       "\n"
      ],
      "text/plain": [
       "[1] \"No Treatment\" \"Treatment\"   "
      ]
     },
     "metadata": {},
     "output_type": "display_data"
    }
   ],
   "source": [
    "get_labels(newData3$treatment)"
   ]
  },
  {
   "cell_type": "code",
   "execution_count": 86,
   "metadata": {
    "collapsed": false
   },
   "outputs": [
    {
     "name": "stdout",
     "output_type": "stream",
     "text": [
      " atomic [1:6948] 1 0 0 0 1 0 0 1 1 1 ...\n",
      " - attr(*, \"label\")= Named chr \"Intervention\"\n",
      "  ..- attr(*, \"names\")= chr \"treatment\"\n",
      " - attr(*, \"labels\")= Named num [1:2] 0 1\n",
      "  ..- attr(*, \"names\")= chr [1:2] \"No Treatment\" \"Treatment\"\n"
     ]
    }
   ],
   "source": [
    "str(newData3$treatment)"
   ]
  },
  {
   "cell_type": "markdown",
   "metadata": {},
   "source": [
    "## Section 1 is over. I will move to section 2."
   ]
  },
  {
   "cell_type": "markdown",
   "metadata": {},
   "source": [
    "# Section 2 : Descriptive Statistics"
   ]
  },
  {
   "cell_type": "code",
   "execution_count": 87,
   "metadata": {
    "collapsed": false
   },
   "outputs": [
    {
     "data": {
      "text/plain": [
       "   town_id171        town_id172        town_id173        town_id175     \n",
       " Min.   :0.00000   Min.   :0.00000   Min.   :0.00000   Min.   :0.00000  \n",
       " 1st Qu.:0.00000   1st Qu.:0.00000   1st Qu.:0.00000   1st Qu.:0.00000  \n",
       " Median :0.00000   Median :0.00000   Median :0.00000   Median :0.00000  \n",
       " Mean   :0.03886   Mean   :0.04591   Mean   :0.03613   Mean   :0.04116  \n",
       " 3rd Qu.:0.00000   3rd Qu.:0.00000   3rd Qu.:0.00000   3rd Qu.:0.00000  \n",
       " Max.   :1.00000   Max.   :1.00000   Max.   :1.00000   Max.   :1.00000  \n",
       "   town_id176        town_id177        town_id190        town_id191     \n",
       " Min.   :0.00000   Min.   :0.00000   Min.   :0.00000   Min.   :0.00000  \n",
       " 1st Qu.:0.00000   1st Qu.:0.00000   1st Qu.:0.00000   1st Qu.:0.00000  \n",
       " Median :0.00000   Median :0.00000   Median :0.00000   Median :0.00000  \n",
       " Mean   :0.03944   Mean   :0.03987   Mean   :0.03685   Mean   :0.04347  \n",
       " 3rd Qu.:0.00000   3rd Qu.:0.00000   3rd Qu.:0.00000   3rd Qu.:0.00000  \n",
       " Max.   :1.00000   Max.   :1.00000   Max.   :1.00000   Max.   :1.00000  \n",
       "   town_id192        town_id193        town_id195       town_id196     \n",
       " Min.   :0.00000   Min.   :0.00000   Min.   :0.0000   Min.   :0.00000  \n",
       " 1st Qu.:0.00000   1st Qu.:0.00000   1st Qu.:0.0000   1st Qu.:0.00000  \n",
       " Median :0.00000   Median :0.00000   Median :0.0000   Median :0.00000  \n",
       " Mean   :0.03138   Mean   :0.03267   Mean   :0.0321   Mean   :0.03569  \n",
       " 3rd Qu.:0.00000   3rd Qu.:0.00000   3rd Qu.:0.0000   3rd Qu.:0.00000  \n",
       " Max.   :1.00000   Max.   :1.00000   Max.   :1.0000   Max.   :1.00000  \n",
       "   town_id197        town_id198        town_id199        town_id200     \n",
       " Min.   :0.00000   Min.   :0.00000   Min.   :0.00000   Min.   :0.00000  \n",
       " 1st Qu.:0.00000   1st Qu.:0.00000   1st Qu.:0.00000   1st Qu.:0.00000  \n",
       " Median :0.00000   Median :0.00000   Median :0.00000   Median :0.00000  \n",
       " Mean   :0.03526   Mean   :0.03397   Mean   :0.03555   Mean   :0.03181  \n",
       " 3rd Qu.:0.00000   3rd Qu.:0.00000   3rd Qu.:0.00000   3rd Qu.:0.00000  \n",
       " Max.   :1.00000   Max.   :1.00000   Max.   :1.00000   Max.   :1.00000  \n",
       "   town_id201        town_id208        town_id210        town_id211     \n",
       " Min.   :0.00000   Min.   :0.00000   Min.   :0.00000   Min.   :0.00000  \n",
       " 1st Qu.:0.00000   1st Qu.:0.00000   1st Qu.:0.00000   1st Qu.:0.00000  \n",
       " Median :0.00000   Median :0.00000   Median :0.00000   Median :0.00000  \n",
       " Mean   :0.03469   Mean   :0.04231   Mean   :0.03613   Mean   :0.03411  \n",
       " 3rd Qu.:0.00000   3rd Qu.:0.00000   3rd Qu.:0.00000   3rd Qu.:0.00000  \n",
       " Max.   :1.00000   Max.   :1.00000   Max.   :1.00000   Max.   :1.00000  \n",
       "   town_id212        town_id213        town_id235        town_id236     \n",
       " Min.   :0.00000   Min.   :0.00000   Min.   :0.00000   Min.   :0.00000  \n",
       " 1st Qu.:0.00000   1st Qu.:0.00000   1st Qu.:0.00000   1st Qu.:0.00000  \n",
       " Median :0.00000   Median :0.00000   Median :0.00000   Median :0.00000  \n",
       " Mean   :0.03353   Mean   :0.04145   Mean   :0.03641   Mean   :0.04203  \n",
       " 3rd Qu.:0.00000   3rd Qu.:0.00000   3rd Qu.:0.00000   3rd Qu.:0.00000  \n",
       " Max.   :1.00000   Max.   :1.00000   Max.   :1.00000   Max.   :1.00000  \n",
       "   town_id237        town_id238        town_id239      turnout_total   \n",
       " Min.   :0.00000   Min.   :0.00000   Min.   :0.00000   Min.   :   0.0  \n",
       " 1st Qu.:0.00000   1st Qu.:0.00000   1st Qu.:0.00000   1st Qu.: 353.0  \n",
       " Median :0.00000   Median :0.00000   Median :0.00000   Median : 456.0  \n",
       " Mean   :0.03728   Mean   :0.03454   Mean   :0.03742   Mean   : 465.1  \n",
       " 3rd Qu.:0.00000   3rd Qu.:0.00000   3rd Qu.:0.00000   3rd Qu.: 564.0  \n",
       " Max.   :1.00000   Max.   :1.00000   Max.   :1.00000   Max.   :1045.0  \n",
       "  turnout_male   turnout_female  registered_total registered_male \n",
       " Min.   :  0.0   Min.   :  0.0   Min.   : 204.0   Min.   : 106.0  \n",
       " 1st Qu.:190.0   1st Qu.:161.0   1st Qu.: 593.0   1st Qu.: 322.0  \n",
       " Median :247.0   Median :207.0   Median : 873.5   Median : 481.0  \n",
       " Mean   :253.4   Mean   :211.7   Mean   : 980.1   Mean   : 536.8  \n",
       " 3rd Qu.:309.0   3rd Qu.:257.0   3rd Qu.:1333.2   3rd Qu.: 731.0  \n",
       " Max.   :597.0   Max.   :483.0   Max.   :1999.0   Max.   :1194.0  \n",
       " registered_female   treatment      treatment_phase  town_name        \n",
       " Min.   : 88.0     Min.   :0.0000   Min.   :1.000   Length:6948       \n",
       " 1st Qu.:269.0     1st Qu.:0.0000   1st Qu.:1.000   Class :character  \n",
       " Median :395.0     Median :0.0000   Median :1.000   Mode  :character  \n",
       " Mean   :443.3     Mean   :0.4973   Mean   :1.483                     \n",
       " 3rd Qu.:601.0     3rd Qu.:1.0000   3rd Qu.:2.000                     \n",
       " Max.   :991.0     Max.   :1.0000   Max.   :2.000                     \n",
       "  districtCode    unique_id        \n",
       " Min.   : 1.00   Length:6948       \n",
       " 1st Qu.: 7.00   Class :character  \n",
       " Median :13.00   Mode  :character  \n",
       " Mean   :12.84                     \n",
       " 3rd Qu.:19.00                     \n",
       " Max.   :25.00                     "
      ]
     },
     "metadata": {},
     "output_type": "display_data"
    }
   ],
   "source": [
    "summary(newData3)"
   ]
  },
  {
   "cell_type": "markdown",
   "metadata": {},
   "source": [
    "### The average total_turnout is 465.1. But I think the expection here is to find out average total turnout rate.  If I  understand that total turnout rate is the average turnout total per town, the below will be the answer. I will use the earlier newData2 for this purpose."
   ]
  },
  {
   "cell_type": "code",
   "execution_count": 88,
   "metadata": {
    "collapsed": false
   },
   "outputs": [
    {
     "data": {
      "text/plain": [
       "    town_id    turnout_total     turnout_male   turnout_female \n",
       " Min.   :171   Min.   :   0.0   Min.   :  0.0   Min.   :  0.0  \n",
       " 1st Qu.:190   1st Qu.: 353.0   1st Qu.:190.0   1st Qu.:161.0  \n",
       " Median :198   Median : 456.0   Median :247.0   Median :207.0  \n",
       " Mean   :201   Mean   : 465.1   Mean   :253.4   Mean   :211.7  \n",
       " 3rd Qu.:212   3rd Qu.: 564.0   3rd Qu.:309.0   3rd Qu.:257.0  \n",
       " Max.   :239   Max.   :1045.0   Max.   :597.0   Max.   :483.0  \n",
       " registered_total registered_male  registered_female   treatment     \n",
       " Min.   : 204.0   Min.   : 106.0   Min.   : 88.0     Min.   :0.0000  \n",
       " 1st Qu.: 593.0   1st Qu.: 322.0   1st Qu.:269.0     1st Qu.:0.0000  \n",
       " Median : 873.5   Median : 481.0   Median :395.0     Median :0.0000  \n",
       " Mean   : 980.1   Mean   : 536.8   Mean   :443.3     Mean   :0.4973  \n",
       " 3rd Qu.:1333.2   3rd Qu.: 731.0   3rd Qu.:601.0     3rd Qu.:1.0000  \n",
       " Max.   :1999.0   Max.   :1194.0   Max.   :991.0     Max.   :1.0000  \n",
       " treatment_phase  town_name          districtCode    unique_id        \n",
       " Min.   :1.000   Length:6948        Min.   : 1.00   Length:6948       \n",
       " 1st Qu.:1.000   Class :character   1st Qu.: 7.00   Class :character  \n",
       " Median :1.000   Mode  :character   Median :13.00   Mode  :character  \n",
       " Mean   :1.483                      Mean   :12.84                     \n",
       " 3rd Qu.:2.000                      3rd Qu.:19.00                     \n",
       " Max.   :2.000                      Max.   :25.00                     "
      ]
     },
     "metadata": {},
     "output_type": "display_data"
    }
   ],
   "source": [
    "summary(newData2)"
   ]
  },
  {
   "cell_type": "code",
   "execution_count": 89,
   "metadata": {
    "collapsed": false
   },
   "outputs": [
    {
     "name": "stderr",
     "output_type": "stream",
     "text": [
      "Warning message in newData2 %>% group_by(town_id) %>% summarise(turnoutTotalRate = mean(turnout_total), :\n",
      "\"bytecode version mismatch; using eval\""
     ]
    }
   ],
   "source": [
    "avgTurnoutTotalAnalysis <- newData2 %>% group_by(town_id) %>% summarise(turnoutTotalRate = mean(turnout_total), turnoutTotalSum = sum(turnout_total), count = n())"
   ]
  },
  {
   "cell_type": "code",
   "execution_count": 90,
   "metadata": {
    "collapsed": false
   },
   "outputs": [
    {
     "data": {
      "text/html": [
       "<table>\n",
       "<thead><tr><th scope=col>town_id</th><th scope=col>turnoutTotalRate</th><th scope=col>turnoutTotalSum</th><th scope=col>count</th></tr></thead>\n",
       "<tbody>\n",
       "\t<tr><td>171     </td><td>396.2111</td><td>106977  </td><td>270     </td></tr>\n",
       "\t<tr><td>172     </td><td>470.8056</td><td>150187  </td><td>319     </td></tr>\n",
       "\t<tr><td>173     </td><td>403.7131</td><td>101332  </td><td>251     </td></tr>\n",
       "\t<tr><td>175     </td><td>437.0944</td><td>125009  </td><td>286     </td></tr>\n",
       "\t<tr><td>176     </td><td>441.2336</td><td>120898  </td><td>274     </td></tr>\n",
       "\t<tr><td>177     </td><td>432.5884</td><td>119827  </td><td>277     </td></tr>\n",
       "\t<tr><td>190     </td><td>452.7227</td><td>115897  </td><td>256     </td></tr>\n",
       "\t<tr><td>191     </td><td>436.3278</td><td>131771  </td><td>302     </td></tr>\n",
       "\t<tr><td>192     </td><td>509.7339</td><td>111122  </td><td>218     </td></tr>\n",
       "\t<tr><td>193     </td><td>489.1894</td><td>111046  </td><td>227     </td></tr>\n",
       "\t<tr><td>195     </td><td>409.0897</td><td> 91227  </td><td>223     </td></tr>\n",
       "\t<tr><td>196     </td><td>515.2581</td><td>127784  </td><td>248     </td></tr>\n",
       "\t<tr><td>197     </td><td>531.6571</td><td>130256  </td><td>245     </td></tr>\n",
       "\t<tr><td>198     </td><td>470.3347</td><td>110999  </td><td>236     </td></tr>\n",
       "\t<tr><td>199     </td><td>509.8462</td><td>125932  </td><td>247     </td></tr>\n",
       "\t<tr><td>200     </td><td>576.0181</td><td>127300  </td><td>221     </td></tr>\n",
       "\t<tr><td>201     </td><td>516.8008</td><td>124549  </td><td>241     </td></tr>\n",
       "\t<tr><td>208     </td><td>490.7109</td><td>144269  </td><td>294     </td></tr>\n",
       "\t<tr><td>210     </td><td>478.9163</td><td>120208  </td><td>251     </td></tr>\n",
       "\t<tr><td>211     </td><td>488.2025</td><td>115704  </td><td>237     </td></tr>\n",
       "\t<tr><td>212     </td><td>530.2704</td><td>123553  </td><td>233     </td></tr>\n",
       "\t<tr><td>213     </td><td>440.1597</td><td>126766  </td><td>288     </td></tr>\n",
       "\t<tr><td>235     </td><td>425.7075</td><td>107704  </td><td>253     </td></tr>\n",
       "\t<tr><td>236     </td><td>421.7979</td><td>123165  </td><td>292     </td></tr>\n",
       "\t<tr><td>237     </td><td>456.9575</td><td>118352  </td><td>259     </td></tr>\n",
       "\t<tr><td>238     </td><td>412.7417</td><td> 99058  </td><td>240     </td></tr>\n",
       "\t<tr><td>239     </td><td>464.8308</td><td>120856  </td><td>260     </td></tr>\n",
       "</tbody>\n",
       "</table>\n"
      ],
      "text/latex": [
       "\\begin{tabular}{r|llll}\n",
       " town\\_id & turnoutTotalRate & turnoutTotalSum & count\\\\\n",
       "\\hline\n",
       "\t 171      & 396.2111 & 106977   & 270     \\\\\n",
       "\t 172      & 470.8056 & 150187   & 319     \\\\\n",
       "\t 173      & 403.7131 & 101332   & 251     \\\\\n",
       "\t 175      & 437.0944 & 125009   & 286     \\\\\n",
       "\t 176      & 441.2336 & 120898   & 274     \\\\\n",
       "\t 177      & 432.5884 & 119827   & 277     \\\\\n",
       "\t 190      & 452.7227 & 115897   & 256     \\\\\n",
       "\t 191      & 436.3278 & 131771   & 302     \\\\\n",
       "\t 192      & 509.7339 & 111122   & 218     \\\\\n",
       "\t 193      & 489.1894 & 111046   & 227     \\\\\n",
       "\t 195      & 409.0897 &  91227   & 223     \\\\\n",
       "\t 196      & 515.2581 & 127784   & 248     \\\\\n",
       "\t 197      & 531.6571 & 130256   & 245     \\\\\n",
       "\t 198      & 470.3347 & 110999   & 236     \\\\\n",
       "\t 199      & 509.8462 & 125932   & 247     \\\\\n",
       "\t 200      & 576.0181 & 127300   & 221     \\\\\n",
       "\t 201      & 516.8008 & 124549   & 241     \\\\\n",
       "\t 208      & 490.7109 & 144269   & 294     \\\\\n",
       "\t 210      & 478.9163 & 120208   & 251     \\\\\n",
       "\t 211      & 488.2025 & 115704   & 237     \\\\\n",
       "\t 212      & 530.2704 & 123553   & 233     \\\\\n",
       "\t 213      & 440.1597 & 126766   & 288     \\\\\n",
       "\t 235      & 425.7075 & 107704   & 253     \\\\\n",
       "\t 236      & 421.7979 & 123165   & 292     \\\\\n",
       "\t 237      & 456.9575 & 118352   & 259     \\\\\n",
       "\t 238      & 412.7417 &  99058   & 240     \\\\\n",
       "\t 239      & 464.8308 & 120856   & 260     \\\\\n",
       "\\end{tabular}\n"
      ],
      "text/markdown": [
       "\n",
       "town_id | turnoutTotalRate | turnoutTotalSum | count | \n",
       "|---|---|---|---|---|---|---|---|---|---|---|---|---|---|---|---|---|---|---|---|---|---|---|---|---|---|---|\n",
       "| 171      | 396.2111 | 106977   | 270      | \n",
       "| 172      | 470.8056 | 150187   | 319      | \n",
       "| 173      | 403.7131 | 101332   | 251      | \n",
       "| 175      | 437.0944 | 125009   | 286      | \n",
       "| 176      | 441.2336 | 120898   | 274      | \n",
       "| 177      | 432.5884 | 119827   | 277      | \n",
       "| 190      | 452.7227 | 115897   | 256      | \n",
       "| 191      | 436.3278 | 131771   | 302      | \n",
       "| 192      | 509.7339 | 111122   | 218      | \n",
       "| 193      | 489.1894 | 111046   | 227      | \n",
       "| 195      | 409.0897 |  91227   | 223      | \n",
       "| 196      | 515.2581 | 127784   | 248      | \n",
       "| 197      | 531.6571 | 130256   | 245      | \n",
       "| 198      | 470.3347 | 110999   | 236      | \n",
       "| 199      | 509.8462 | 125932   | 247      | \n",
       "| 200      | 576.0181 | 127300   | 221      | \n",
       "| 201      | 516.8008 | 124549   | 241      | \n",
       "| 208      | 490.7109 | 144269   | 294      | \n",
       "| 210      | 478.9163 | 120208   | 251      | \n",
       "| 211      | 488.2025 | 115704   | 237      | \n",
       "| 212      | 530.2704 | 123553   | 233      | \n",
       "| 213      | 440.1597 | 126766   | 288      | \n",
       "| 235      | 425.7075 | 107704   | 253      | \n",
       "| 236      | 421.7979 | 123165   | 292      | \n",
       "| 237      | 456.9575 | 118352   | 259      | \n",
       "| 238      | 412.7417 |  99058   | 240      | \n",
       "| 239      | 464.8308 | 120856   | 260      | \n",
       "\n",
       "\n"
      ],
      "text/plain": [
       "   town_id turnoutTotalRate turnoutTotalSum count\n",
       "1  171     396.2111         106977          270  \n",
       "2  172     470.8056         150187          319  \n",
       "3  173     403.7131         101332          251  \n",
       "4  175     437.0944         125009          286  \n",
       "5  176     441.2336         120898          274  \n",
       "6  177     432.5884         119827          277  \n",
       "7  190     452.7227         115897          256  \n",
       "8  191     436.3278         131771          302  \n",
       "9  192     509.7339         111122          218  \n",
       "10 193     489.1894         111046          227  \n",
       "11 195     409.0897          91227          223  \n",
       "12 196     515.2581         127784          248  \n",
       "13 197     531.6571         130256          245  \n",
       "14 198     470.3347         110999          236  \n",
       "15 199     509.8462         125932          247  \n",
       "16 200     576.0181         127300          221  \n",
       "17 201     516.8008         124549          241  \n",
       "18 208     490.7109         144269          294  \n",
       "19 210     478.9163         120208          251  \n",
       "20 211     488.2025         115704          237  \n",
       "21 212     530.2704         123553          233  \n",
       "22 213     440.1597         126766          288  \n",
       "23 235     425.7075         107704          253  \n",
       "24 236     421.7979         123165          292  \n",
       "25 237     456.9575         118352          259  \n",
       "26 238     412.7417          99058          240  \n",
       "27 239     464.8308         120856          260  "
      ]
     },
     "metadata": {},
     "output_type": "display_data"
    }
   ],
   "source": [
    "avgTurnoutTotalAnalysis"
   ]
  },
  {
   "cell_type": "code",
   "execution_count": 91,
   "metadata": {
    "collapsed": false
   },
   "outputs": [
    {
     "data": {
      "text/plain": [
       "    town_id      turnoutTotalRate turnoutTotalSum      count      \n",
       " Min.   :171.0   Min.   :396.2    Min.   : 91227   Min.   :218.0  \n",
       " 1st Qu.:190.5   1st Qu.:434.5    1st Qu.:111084   1st Qu.:238.5  \n",
       " Median :198.0   Median :464.8    Median :120856   Median :251.0  \n",
       " Mean   :201.3   Mean   :467.0    Mean   :119694   Mean   :257.3  \n",
       " 3rd Qu.:211.5   3rd Qu.:500.2    3rd Qu.:126349   3rd Qu.:275.5  \n",
       " Max.   :239.0   Max.   :576.0    Max.   :150187   Max.   :319.0  "
      ]
     },
     "metadata": {},
     "output_type": "display_data"
    }
   ],
   "source": [
    "summary(avgTurnoutTotalAnalysis)"
   ]
  },
  {
   "cell_type": "markdown",
   "metadata": {},
   "source": [
    "### AS per this the average total turnout rate is 467 which is not much different from my earlier figure also. The minimum and maximum total turnout rate per town is 396.2, 576."
   ]
  },
  {
   "cell_type": "markdown",
   "metadata": {},
   "source": [
    "### to get the count of polling booths recording the highest turnout rate, I will run a command on theabove table to select count for the max of turnoutTotalRate column. "
   ]
  },
  {
   "cell_type": "code",
   "execution_count": 92,
   "metadata": {
    "collapsed": false
   },
   "outputs": [
    {
     "data": {
      "text/html": [
       "221"
      ],
      "text/latex": [
       "221"
      ],
      "text/markdown": [
       "221"
      ],
      "text/plain": [
       "[1] 221"
      ]
     },
     "metadata": {},
     "output_type": "display_data"
    }
   ],
   "source": [
    "avgTurnoutTotalAnalysis$count[which(avgTurnoutTotalAnalysis$turnoutTotalRate == max(avgTurnoutTotalAnalysis$turnoutTotalRate))]"
   ]
  },
  {
   "cell_type": "markdown",
   "metadata": {},
   "source": [
    "### 221 polling booths recorded the highest turnout rate. "
   ]
  },
  {
   "cell_type": "markdown",
   "metadata": {},
   "source": [
    "### If I understand that total turnout rate is equal to turnout_total/registered_total, the below will be the answer."
   ]
  },
  {
   "cell_type": "code",
   "execution_count": 93,
   "metadata": {
    "collapsed": true
   },
   "outputs": [],
   "source": [
    "newData4 <- newData2"
   ]
  },
  {
   "cell_type": "code",
   "execution_count": 94,
   "metadata": {
    "collapsed": true
   },
   "outputs": [],
   "source": [
    "newData4$total_turnout_rate = newData4$turnout_total/newData4$registered_total"
   ]
  },
  {
   "cell_type": "code",
   "execution_count": 95,
   "metadata": {
    "collapsed": false
   },
   "outputs": [
    {
     "data": {
      "text/plain": [
       "    town_id    turnout_total     turnout_male   turnout_female \n",
       " Min.   :171   Min.   :   0.0   Min.   :  0.0   Min.   :  0.0  \n",
       " 1st Qu.:190   1st Qu.: 353.0   1st Qu.:190.0   1st Qu.:161.0  \n",
       " Median :198   Median : 456.0   Median :247.0   Median :207.0  \n",
       " Mean   :201   Mean   : 465.1   Mean   :253.4   Mean   :211.7  \n",
       " 3rd Qu.:212   3rd Qu.: 564.0   3rd Qu.:309.0   3rd Qu.:257.0  \n",
       " Max.   :239   Max.   :1045.0   Max.   :597.0   Max.   :483.0  \n",
       " registered_total registered_male  registered_female   treatment     \n",
       " Min.   : 204.0   Min.   : 106.0   Min.   : 88.0     Min.   :0.0000  \n",
       " 1st Qu.: 593.0   1st Qu.: 322.0   1st Qu.:269.0     1st Qu.:0.0000  \n",
       " Median : 873.5   Median : 481.0   Median :395.0     Median :0.0000  \n",
       " Mean   : 980.1   Mean   : 536.8   Mean   :443.3     Mean   :0.4973  \n",
       " 3rd Qu.:1333.2   3rd Qu.: 731.0   3rd Qu.:601.0     3rd Qu.:1.0000  \n",
       " Max.   :1999.0   Max.   :1194.0   Max.   :991.0     Max.   :1.0000  \n",
       " treatment_phase  town_name          districtCode    unique_id        \n",
       " Min.   :1.000   Length:6948        Min.   : 1.00   Length:6948       \n",
       " 1st Qu.:1.000   Class :character   1st Qu.: 7.00   Class :character  \n",
       " Median :1.000   Mode  :character   Median :13.00   Mode  :character  \n",
       " Mean   :1.483                      Mean   :12.84                     \n",
       " 3rd Qu.:2.000                      3rd Qu.:19.00                     \n",
       " Max.   :2.000                      Max.   :25.00                     \n",
       " total_turnout_rate\n",
       " Min.   :0.0000    \n",
       " 1st Qu.:0.3365    \n",
       " Median :0.4767    \n",
       " Mean   :0.5738    \n",
       " 3rd Qu.:0.9178    \n",
       " Max.   :1.0000    "
      ]
     },
     "metadata": {},
     "output_type": "display_data"
    }
   ],
   "source": [
    "summary(newData4)"
   ]
  },
  {
   "cell_type": "markdown",
   "metadata": {},
   "source": [
    "### As per this the average total_turnout_rate is 0.5738. The highest and lowest turnout rates are 0, 1. Let me find out the booths who recorded the highest turn out rate."
   ]
  },
  {
   "cell_type": "code",
   "execution_count": 96,
   "metadata": {
    "collapsed": false
   },
   "outputs": [
    {
     "data": {
      "text/html": [
       "<table>\n",
       "<thead><tr><th scope=col>town_id</th><th scope=col>turnout_total</th><th scope=col>turnout_male</th><th scope=col>turnout_female</th><th scope=col>registered_total</th><th scope=col>registered_male</th><th scope=col>registered_female</th><th scope=col>treatment</th><th scope=col>treatment_phase</th><th scope=col>town_name</th><th scope=col>districtCode</th><th scope=col>unique_id</th><th scope=col>total_turnout_rate</th></tr></thead>\n",
       "<tbody>\n",
       "\t<tr><td>171       </td><td>379       </td><td>205       </td><td>174       </td><td>379       </td><td>205       </td><td>174       </td><td>1         </td><td>1         </td><td>Ara       </td><td> 5        </td><td>171A207   </td><td>1         </td></tr>\n",
       "\t<tr><td>172       </td><td>469       </td><td>280       </td><td>189       </td><td>469       </td><td>280       </td><td>189       </td><td>0         </td><td>2         </td><td>Buxar     </td><td> 6        </td><td>172A216   </td><td>1         </td></tr>\n",
       "\t<tr><td>172       </td><td>370       </td><td>201       </td><td>169       </td><td>370       </td><td>201       </td><td>169       </td><td>0         </td><td>2         </td><td>Buxar     </td><td> 6        </td><td>172A266   </td><td>1         </td></tr>\n",
       "\t<tr><td>175       </td><td>356       </td><td>183       </td><td>173       </td><td>356       </td><td>183       </td><td>173       </td><td>0         </td><td>1         </td><td>Bodh Gaya </td><td> 9        </td><td>175A095   </td><td>1         </td></tr>\n",
       "\t<tr><td>175       </td><td>430       </td><td>252       </td><td>178       </td><td>430       </td><td>252       </td><td>178       </td><td>0         </td><td>1         </td><td>Bodh Gaya </td><td> 9        </td><td>175A189   </td><td>1         </td></tr>\n",
       "\t<tr><td>190       </td><td>546       </td><td>283       </td><td>263       </td><td>546       </td><td>283       </td><td>263       </td><td>0         </td><td>2         </td><td>Nawada    </td><td>16        </td><td>190A016   </td><td>1         </td></tr>\n",
       "\t<tr><td>192       </td><td>557       </td><td>299       </td><td>258       </td><td>557       </td><td>299       </td><td>258       </td><td>1         </td><td>1         </td><td>Aurangabad</td><td> 2        </td><td>192A197   </td><td>1         </td></tr>\n",
       "\t<tr><td>196       </td><td>569       </td><td>339       </td><td>230       </td><td>569       </td><td>339       </td><td>230       </td><td>0         </td><td>1         </td><td>Begusarai </td><td> 3        </td><td>196A169   </td><td>1         </td></tr>\n",
       "\t<tr><td>198       </td><td>618       </td><td>317       </td><td>301       </td><td>618       </td><td>317       </td><td>301       </td><td>1         </td><td>1         </td><td>Siwan     </td><td>23        </td><td>198A007   </td><td>1         </td></tr>\n",
       "\t<tr><td>198       </td><td>402       </td><td>202       </td><td>200       </td><td>402       </td><td>202       </td><td>200       </td><td>0         </td><td>2         </td><td>Siwan     </td><td>23        </td><td>198A082   </td><td>1         </td></tr>\n",
       "\t<tr><td>199       </td><td>577       </td><td>335       </td><td>242       </td><td>577       </td><td>335       </td><td>242       </td><td>0         </td><td>2         </td><td>Sitamarhi </td><td>22        </td><td>199A054   </td><td>1         </td></tr>\n",
       "\t<tr><td>201       </td><td>597       </td><td>341       </td><td>256       </td><td>597       </td><td>341       </td><td>256       </td><td>0         </td><td>1         </td><td>Motihari  </td><td> 8        </td><td>201A194   </td><td>1         </td></tr>\n",
       "\t<tr><td>201       </td><td>408       </td><td>234       </td><td>174       </td><td>408       </td><td>234       </td><td>174       </td><td>0         </td><td>1         </td><td>Motihari  </td><td> 8        </td><td>201A240   </td><td>1         </td></tr>\n",
       "\t<tr><td>208       </td><td>563       </td><td>309       </td><td>254       </td><td>563       </td><td>309       </td><td>254       </td><td>1         </td><td>1         </td><td>Bettiah   </td><td>25        </td><td>208A205   </td><td>1         </td></tr>\n",
       "\t<tr><td>213       </td><td>743       </td><td>417       </td><td>326       </td><td>743       </td><td>417       </td><td>326       </td><td>0         </td><td>2         </td><td>Kishanganj</td><td>11        </td><td>213A005   </td><td>1         </td></tr>\n",
       "\t<tr><td>213       </td><td>286       </td><td>155       </td><td>131       </td><td>286       </td><td>155       </td><td>131       </td><td>1         </td><td>1         </td><td>Kishanganj</td><td>11        </td><td>213A217   </td><td>1         </td></tr>\n",
       "\t<tr><td>213       </td><td>579       </td><td>313       </td><td>266       </td><td>579       </td><td>313       </td><td>266       </td><td>1         </td><td>2         </td><td>Kishanganj</td><td>11        </td><td>213A259   </td><td>1         </td></tr>\n",
       "\t<tr><td>213       </td><td>633       </td><td>347       </td><td>286       </td><td>633       </td><td>347       </td><td>286       </td><td>0         </td><td>2         </td><td>Kishanganj</td><td>11        </td><td>213A280   </td><td>1         </td></tr>\n",
       "\t<tr><td>235       </td><td>460       </td><td>240       </td><td>220       </td><td>460       </td><td>240       </td><td>220       </td><td>0         </td><td>1         </td><td>Katihar   </td><td>10        </td><td>235A161   </td><td>1         </td></tr>\n",
       "\t<tr><td>236       </td><td>480       </td><td>271       </td><td>209       </td><td>480       </td><td>271       </td><td>209       </td><td>0         </td><td>1         </td><td>Manihari  </td><td>10        </td><td>236A034   </td><td>1         </td></tr>\n",
       "</tbody>\n",
       "</table>\n"
      ],
      "text/latex": [
       "\\begin{tabular}{r|lllllllllllll}\n",
       " town\\_id & turnout\\_total & turnout\\_male & turnout\\_female & registered\\_total & registered\\_male & registered\\_female & treatment & treatment\\_phase & town\\_name & districtCode & unique\\_id & total\\_turnout\\_rate\\\\\n",
       "\\hline\n",
       "\t 171        & 379        & 205        & 174        & 379        & 205        & 174        & 1          & 1          & Ara        &  5         & 171A207    & 1         \\\\\n",
       "\t 172        & 469        & 280        & 189        & 469        & 280        & 189        & 0          & 2          & Buxar      &  6         & 172A216    & 1         \\\\\n",
       "\t 172        & 370        & 201        & 169        & 370        & 201        & 169        & 0          & 2          & Buxar      &  6         & 172A266    & 1         \\\\\n",
       "\t 175        & 356        & 183        & 173        & 356        & 183        & 173        & 0          & 1          & Bodh Gaya  &  9         & 175A095    & 1         \\\\\n",
       "\t 175        & 430        & 252        & 178        & 430        & 252        & 178        & 0          & 1          & Bodh Gaya  &  9         & 175A189    & 1         \\\\\n",
       "\t 190        & 546        & 283        & 263        & 546        & 283        & 263        & 0          & 2          & Nawada     & 16         & 190A016    & 1         \\\\\n",
       "\t 192        & 557        & 299        & 258        & 557        & 299        & 258        & 1          & 1          & Aurangabad &  2         & 192A197    & 1         \\\\\n",
       "\t 196        & 569        & 339        & 230        & 569        & 339        & 230        & 0          & 1          & Begusarai  &  3         & 196A169    & 1         \\\\\n",
       "\t 198        & 618        & 317        & 301        & 618        & 317        & 301        & 1          & 1          & Siwan      & 23         & 198A007    & 1         \\\\\n",
       "\t 198        & 402        & 202        & 200        & 402        & 202        & 200        & 0          & 2          & Siwan      & 23         & 198A082    & 1         \\\\\n",
       "\t 199        & 577        & 335        & 242        & 577        & 335        & 242        & 0          & 2          & Sitamarhi  & 22         & 199A054    & 1         \\\\\n",
       "\t 201        & 597        & 341        & 256        & 597        & 341        & 256        & 0          & 1          & Motihari   &  8         & 201A194    & 1         \\\\\n",
       "\t 201        & 408        & 234        & 174        & 408        & 234        & 174        & 0          & 1          & Motihari   &  8         & 201A240    & 1         \\\\\n",
       "\t 208        & 563        & 309        & 254        & 563        & 309        & 254        & 1          & 1          & Bettiah    & 25         & 208A205    & 1         \\\\\n",
       "\t 213        & 743        & 417        & 326        & 743        & 417        & 326        & 0          & 2          & Kishanganj & 11         & 213A005    & 1         \\\\\n",
       "\t 213        & 286        & 155        & 131        & 286        & 155        & 131        & 1          & 1          & Kishanganj & 11         & 213A217    & 1         \\\\\n",
       "\t 213        & 579        & 313        & 266        & 579        & 313        & 266        & 1          & 2          & Kishanganj & 11         & 213A259    & 1         \\\\\n",
       "\t 213        & 633        & 347        & 286        & 633        & 347        & 286        & 0          & 2          & Kishanganj & 11         & 213A280    & 1         \\\\\n",
       "\t 235        & 460        & 240        & 220        & 460        & 240        & 220        & 0          & 1          & Katihar    & 10         & 235A161    & 1         \\\\\n",
       "\t 236        & 480        & 271        & 209        & 480        & 271        & 209        & 0          & 1          & Manihari   & 10         & 236A034    & 1         \\\\\n",
       "\\end{tabular}\n"
      ],
      "text/markdown": [
       "\n",
       "town_id | turnout_total | turnout_male | turnout_female | registered_total | registered_male | registered_female | treatment | treatment_phase | town_name | districtCode | unique_id | total_turnout_rate | \n",
       "|---|---|---|---|---|---|---|---|---|---|---|---|---|---|---|---|---|---|---|---|\n",
       "| 171        | 379        | 205        | 174        | 379        | 205        | 174        | 1          | 1          | Ara        |  5         | 171A207    | 1          | \n",
       "| 172        | 469        | 280        | 189        | 469        | 280        | 189        | 0          | 2          | Buxar      |  6         | 172A216    | 1          | \n",
       "| 172        | 370        | 201        | 169        | 370        | 201        | 169        | 0          | 2          | Buxar      |  6         | 172A266    | 1          | \n",
       "| 175        | 356        | 183        | 173        | 356        | 183        | 173        | 0          | 1          | Bodh Gaya  |  9         | 175A095    | 1          | \n",
       "| 175        | 430        | 252        | 178        | 430        | 252        | 178        | 0          | 1          | Bodh Gaya  |  9         | 175A189    | 1          | \n",
       "| 190        | 546        | 283        | 263        | 546        | 283        | 263        | 0          | 2          | Nawada     | 16         | 190A016    | 1          | \n",
       "| 192        | 557        | 299        | 258        | 557        | 299        | 258        | 1          | 1          | Aurangabad |  2         | 192A197    | 1          | \n",
       "| 196        | 569        | 339        | 230        | 569        | 339        | 230        | 0          | 1          | Begusarai  |  3         | 196A169    | 1          | \n",
       "| 198        | 618        | 317        | 301        | 618        | 317        | 301        | 1          | 1          | Siwan      | 23         | 198A007    | 1          | \n",
       "| 198        | 402        | 202        | 200        | 402        | 202        | 200        | 0          | 2          | Siwan      | 23         | 198A082    | 1          | \n",
       "| 199        | 577        | 335        | 242        | 577        | 335        | 242        | 0          | 2          | Sitamarhi  | 22         | 199A054    | 1          | \n",
       "| 201        | 597        | 341        | 256        | 597        | 341        | 256        | 0          | 1          | Motihari   |  8         | 201A194    | 1          | \n",
       "| 201        | 408        | 234        | 174        | 408        | 234        | 174        | 0          | 1          | Motihari   |  8         | 201A240    | 1          | \n",
       "| 208        | 563        | 309        | 254        | 563        | 309        | 254        | 1          | 1          | Bettiah    | 25         | 208A205    | 1          | \n",
       "| 213        | 743        | 417        | 326        | 743        | 417        | 326        | 0          | 2          | Kishanganj | 11         | 213A005    | 1          | \n",
       "| 213        | 286        | 155        | 131        | 286        | 155        | 131        | 1          | 1          | Kishanganj | 11         | 213A217    | 1          | \n",
       "| 213        | 579        | 313        | 266        | 579        | 313        | 266        | 1          | 2          | Kishanganj | 11         | 213A259    | 1          | \n",
       "| 213        | 633        | 347        | 286        | 633        | 347        | 286        | 0          | 2          | Kishanganj | 11         | 213A280    | 1          | \n",
       "| 235        | 460        | 240        | 220        | 460        | 240        | 220        | 0          | 1          | Katihar    | 10         | 235A161    | 1          | \n",
       "| 236        | 480        | 271        | 209        | 480        | 271        | 209        | 0          | 1          | Manihari   | 10         | 236A034    | 1          | \n",
       "\n",
       "\n"
      ],
      "text/plain": [
       "   town_id turnout_total turnout_male turnout_female registered_total\n",
       "1  171     379           205          174            379             \n",
       "2  172     469           280          189            469             \n",
       "3  172     370           201          169            370             \n",
       "4  175     356           183          173            356             \n",
       "5  175     430           252          178            430             \n",
       "6  190     546           283          263            546             \n",
       "7  192     557           299          258            557             \n",
       "8  196     569           339          230            569             \n",
       "9  198     618           317          301            618             \n",
       "10 198     402           202          200            402             \n",
       "11 199     577           335          242            577             \n",
       "12 201     597           341          256            597             \n",
       "13 201     408           234          174            408             \n",
       "14 208     563           309          254            563             \n",
       "15 213     743           417          326            743             \n",
       "16 213     286           155          131            286             \n",
       "17 213     579           313          266            579             \n",
       "18 213     633           347          286            633             \n",
       "19 235     460           240          220            460             \n",
       "20 236     480           271          209            480             \n",
       "   registered_male registered_female treatment treatment_phase town_name \n",
       "1  205             174               1         1               Ara       \n",
       "2  280             189               0         2               Buxar     \n",
       "3  201             169               0         2               Buxar     \n",
       "4  183             173               0         1               Bodh Gaya \n",
       "5  252             178               0         1               Bodh Gaya \n",
       "6  283             263               0         2               Nawada    \n",
       "7  299             258               1         1               Aurangabad\n",
       "8  339             230               0         1               Begusarai \n",
       "9  317             301               1         1               Siwan     \n",
       "10 202             200               0         2               Siwan     \n",
       "11 335             242               0         2               Sitamarhi \n",
       "12 341             256               0         1               Motihari  \n",
       "13 234             174               0         1               Motihari  \n",
       "14 309             254               1         1               Bettiah   \n",
       "15 417             326               0         2               Kishanganj\n",
       "16 155             131               1         1               Kishanganj\n",
       "17 313             266               1         2               Kishanganj\n",
       "18 347             286               0         2               Kishanganj\n",
       "19 240             220               0         1               Katihar   \n",
       "20 271             209               0         1               Manihari  \n",
       "   districtCode unique_id total_turnout_rate\n",
       "1   5           171A207   1                 \n",
       "2   6           172A216   1                 \n",
       "3   6           172A266   1                 \n",
       "4   9           175A095   1                 \n",
       "5   9           175A189   1                 \n",
       "6  16           190A016   1                 \n",
       "7   2           192A197   1                 \n",
       "8   3           196A169   1                 \n",
       "9  23           198A007   1                 \n",
       "10 23           198A082   1                 \n",
       "11 22           199A054   1                 \n",
       "12  8           201A194   1                 \n",
       "13  8           201A240   1                 \n",
       "14 25           208A205   1                 \n",
       "15 11           213A005   1                 \n",
       "16 11           213A217   1                 \n",
       "17 11           213A259   1                 \n",
       "18 11           213A280   1                 \n",
       "19 10           235A161   1                 \n",
       "20 10           236A034   1                 "
      ]
     },
     "metadata": {},
     "output_type": "display_data"
    }
   ],
   "source": [
    "highTurnoutData = subset(newData4, total_turnout_rate == 1)\n",
    "highTurnoutData"
   ]
  },
  {
   "cell_type": "code",
   "execution_count": 97,
   "metadata": {
    "collapsed": false
   },
   "outputs": [
    {
     "data": {
      "text/html": [
       "20"
      ],
      "text/latex": [
       "20"
      ],
      "text/markdown": [
       "20"
      ],
      "text/plain": [
       "[1] 20"
      ]
     },
     "metadata": {},
     "output_type": "display_data"
    }
   ],
   "source": [
    "nrow(highTurnoutData)"
   ]
  },
  {
   "cell_type": "markdown",
   "metadata": {},
   "source": [
    "### There are 20 booths which recorded highest turnout rate as per this analysis."
   ]
  },
  {
   "cell_type": "markdown",
   "metadata": {},
   "source": [
    "## Please discard the earlier analysis, if this is the required one."
   ]
  },
  {
   "cell_type": "markdown",
   "metadata": {},
   "source": [
    "### Now I will tabulate the number of booths in phase 1 and phase 2 by treatment."
   ]
  },
  {
   "cell_type": "code",
   "execution_count": 98,
   "metadata": {
    "collapsed": false
   },
   "outputs": [
    {
     "data": {
      "text/plain": [
       "   \n",
       "       1    2\n",
       "  0 1752 1741\n",
       "  1 1839 1616"
      ]
     },
     "metadata": {},
     "output_type": "display_data"
    }
   ],
   "source": [
    "table(newData2$treatment, newData2$treatment_phase)"
   ]
  },
  {
   "cell_type": "markdown",
   "metadata": {},
   "source": [
    "### For treatment 0, we have 1752 booths in phase 1 and 1741 in phase 2. For treatment 1, we have 1839 booths in phase 1 and 1616 in phase 2."
   ]
  },
  {
   "cell_type": "markdown",
   "metadata": {},
   "source": [
    "### Now I will tabulate female turnout rate by district. I will group the data by district to find out for which districts the total turnout rate is more than 75%."
   ]
  },
  {
   "cell_type": "code",
   "execution_count": 99,
   "metadata": {
    "collapsed": false
   },
   "outputs": [],
   "source": [
    "newData5 <- newData2 %>% group_by(districtCode) %>% summarise(turnout_total=sum(turnout_total),turnout_male=sum(turnout_male), turnout_female=sum(turnout_female),registered_total=sum(registered_total),registered_male=sum(registered_male),registered_female=sum(registered_female)    )"
   ]
  },
  {
   "cell_type": "code",
   "execution_count": 100,
   "metadata": {
    "collapsed": false
   },
   "outputs": [
    {
     "data": {
      "text/html": [
       "<table>\n",
       "<thead><tr><th scope=col>districtCode</th><th scope=col>turnout_total</th><th scope=col>turnout_male</th><th scope=col>turnout_female</th><th scope=col>registered_total</th><th scope=col>registered_male</th><th scope=col>registered_female</th></tr></thead>\n",
       "<tbody>\n",
       "\t<tr><td> 1    </td><td>118352</td><td> 64659</td><td> 53693</td><td>252919</td><td>138382</td><td>114537</td></tr>\n",
       "\t<tr><td> 2    </td><td>111122</td><td> 60400</td><td> 50722</td><td>217922</td><td>119303</td><td> 98619</td></tr>\n",
       "\t<tr><td> 3    </td><td>127784</td><td> 69850</td><td> 57934</td><td>254321</td><td>139932</td><td>114389</td></tr>\n",
       "\t<tr><td> 4    </td><td>130256</td><td> 71310</td><td> 58946</td><td>253614</td><td>139426</td><td>114188</td></tr>\n",
       "\t<tr><td> 5    </td><td>106977</td><td> 58019</td><td> 48958</td><td>254769</td><td>139571</td><td>115198</td></tr>\n",
       "\t<tr><td> 6    </td><td>150187</td><td> 81789</td><td> 68398</td><td>307453</td><td>167945</td><td>139508</td></tr>\n",
       "\t<tr><td> 7    </td><td>120208</td><td> 65327</td><td> 54881</td><td>245414</td><td>133946</td><td>111468</td></tr>\n",
       "\t<tr><td> 8    </td><td>124549</td><td> 67923</td><td> 56626</td><td>254450</td><td>140104</td><td>114346</td></tr>\n",
       "\t<tr><td> 9    </td><td>125009</td><td> 68345</td><td> 56664</td><td>276415</td><td>151704</td><td>124711</td></tr>\n",
       "\t<tr><td>10    </td><td>230869</td><td>125468</td><td>105401</td><td>503817</td><td>276161</td><td>227656</td></tr>\n",
       "\t<tr><td>11    </td><td>126766</td><td> 68662</td><td> 58104</td><td>270153</td><td>147429</td><td>122724</td></tr>\n",
       "\t<tr><td>12    </td><td> 99058</td><td> 54202</td><td> 44856</td><td>237294</td><td>129798</td><td>107496</td></tr>\n",
       "\t<tr><td>13    </td><td>202273</td><td>110218</td><td> 92055</td><td>429361</td><td>235418</td><td>193943</td></tr>\n",
       "\t<tr><td>14    </td><td>119827</td><td> 65596</td><td> 54231</td><td>270805</td><td>148414</td><td>122391</td></tr>\n",
       "\t<tr><td>15    </td><td>131771</td><td> 71841</td><td> 59930</td><td>303022</td><td>166187</td><td>136835</td></tr>\n",
       "\t<tr><td>16    </td><td>115897</td><td> 62854</td><td> 53043</td><td>253423</td><td>138967</td><td>114456</td></tr>\n",
       "\t<tr><td>17    </td><td>123553</td><td> 67154</td><td> 56399</td><td>240111</td><td>131302</td><td>108809</td></tr>\n",
       "\t<tr><td>18    </td><td>101332</td><td> 55106</td><td> 46226</td><td>246711</td><td>134809</td><td>111902</td></tr>\n",
       "\t<tr><td>19    </td><td>115704</td><td> 62853</td><td> 52851</td><td>241015</td><td>131957</td><td>109058</td></tr>\n",
       "\t<tr><td>20    </td><td>120856</td><td> 65893</td><td> 54963</td><td>248580</td><td>136400</td><td>112180</td></tr>\n",
       "\t<tr><td>21    </td><td>120898</td><td> 65769</td><td> 55129</td><td>271002</td><td>147661</td><td>123341</td></tr>\n",
       "\t<tr><td>22    </td><td>125932</td><td> 68757</td><td> 57175</td><td>243308</td><td>133207</td><td>110101</td></tr>\n",
       "\t<tr><td>23    </td><td>110999</td><td> 60366</td><td> 50633</td><td>225492</td><td>123079</td><td>102413</td></tr>\n",
       "\t<tr><td>24    </td><td>127300</td><td> 69387</td><td> 57913</td><td>223175</td><td>122374</td><td>100801</td></tr>\n",
       "\t<tr><td>25    </td><td>144269</td><td> 79022</td><td> 65247</td><td>284882</td><td>156055</td><td>128827</td></tr>\n",
       "</tbody>\n",
       "</table>\n"
      ],
      "text/latex": [
       "\\begin{tabular}{r|lllllll}\n",
       " districtCode & turnout\\_total & turnout\\_male & turnout\\_female & registered\\_total & registered\\_male & registered\\_female\\\\\n",
       "\\hline\n",
       "\t  1     & 118352 &  64659 &  53693 & 252919 & 138382 & 114537\\\\\n",
       "\t  2     & 111122 &  60400 &  50722 & 217922 & 119303 &  98619\\\\\n",
       "\t  3     & 127784 &  69850 &  57934 & 254321 & 139932 & 114389\\\\\n",
       "\t  4     & 130256 &  71310 &  58946 & 253614 & 139426 & 114188\\\\\n",
       "\t  5     & 106977 &  58019 &  48958 & 254769 & 139571 & 115198\\\\\n",
       "\t  6     & 150187 &  81789 &  68398 & 307453 & 167945 & 139508\\\\\n",
       "\t  7     & 120208 &  65327 &  54881 & 245414 & 133946 & 111468\\\\\n",
       "\t  8     & 124549 &  67923 &  56626 & 254450 & 140104 & 114346\\\\\n",
       "\t  9     & 125009 &  68345 &  56664 & 276415 & 151704 & 124711\\\\\n",
       "\t 10     & 230869 & 125468 & 105401 & 503817 & 276161 & 227656\\\\\n",
       "\t 11     & 126766 &  68662 &  58104 & 270153 & 147429 & 122724\\\\\n",
       "\t 12     &  99058 &  54202 &  44856 & 237294 & 129798 & 107496\\\\\n",
       "\t 13     & 202273 & 110218 &  92055 & 429361 & 235418 & 193943\\\\\n",
       "\t 14     & 119827 &  65596 &  54231 & 270805 & 148414 & 122391\\\\\n",
       "\t 15     & 131771 &  71841 &  59930 & 303022 & 166187 & 136835\\\\\n",
       "\t 16     & 115897 &  62854 &  53043 & 253423 & 138967 & 114456\\\\\n",
       "\t 17     & 123553 &  67154 &  56399 & 240111 & 131302 & 108809\\\\\n",
       "\t 18     & 101332 &  55106 &  46226 & 246711 & 134809 & 111902\\\\\n",
       "\t 19     & 115704 &  62853 &  52851 & 241015 & 131957 & 109058\\\\\n",
       "\t 20     & 120856 &  65893 &  54963 & 248580 & 136400 & 112180\\\\\n",
       "\t 21     & 120898 &  65769 &  55129 & 271002 & 147661 & 123341\\\\\n",
       "\t 22     & 125932 &  68757 &  57175 & 243308 & 133207 & 110101\\\\\n",
       "\t 23     & 110999 &  60366 &  50633 & 225492 & 123079 & 102413\\\\\n",
       "\t 24     & 127300 &  69387 &  57913 & 223175 & 122374 & 100801\\\\\n",
       "\t 25     & 144269 &  79022 &  65247 & 284882 & 156055 & 128827\\\\\n",
       "\\end{tabular}\n"
      ],
      "text/markdown": [
       "\n",
       "districtCode | turnout_total | turnout_male | turnout_female | registered_total | registered_male | registered_female | \n",
       "|---|---|---|---|---|---|---|---|---|---|---|---|---|---|---|---|---|---|---|---|---|---|---|---|---|\n",
       "|  1     | 118352 |  64659 |  53693 | 252919 | 138382 | 114537 | \n",
       "|  2     | 111122 |  60400 |  50722 | 217922 | 119303 |  98619 | \n",
       "|  3     | 127784 |  69850 |  57934 | 254321 | 139932 | 114389 | \n",
       "|  4     | 130256 |  71310 |  58946 | 253614 | 139426 | 114188 | \n",
       "|  5     | 106977 |  58019 |  48958 | 254769 | 139571 | 115198 | \n",
       "|  6     | 150187 |  81789 |  68398 | 307453 | 167945 | 139508 | \n",
       "|  7     | 120208 |  65327 |  54881 | 245414 | 133946 | 111468 | \n",
       "|  8     | 124549 |  67923 |  56626 | 254450 | 140104 | 114346 | \n",
       "|  9     | 125009 |  68345 |  56664 | 276415 | 151704 | 124711 | \n",
       "| 10     | 230869 | 125468 | 105401 | 503817 | 276161 | 227656 | \n",
       "| 11     | 126766 |  68662 |  58104 | 270153 | 147429 | 122724 | \n",
       "| 12     |  99058 |  54202 |  44856 | 237294 | 129798 | 107496 | \n",
       "| 13     | 202273 | 110218 |  92055 | 429361 | 235418 | 193943 | \n",
       "| 14     | 119827 |  65596 |  54231 | 270805 | 148414 | 122391 | \n",
       "| 15     | 131771 |  71841 |  59930 | 303022 | 166187 | 136835 | \n",
       "| 16     | 115897 |  62854 |  53043 | 253423 | 138967 | 114456 | \n",
       "| 17     | 123553 |  67154 |  56399 | 240111 | 131302 | 108809 | \n",
       "| 18     | 101332 |  55106 |  46226 | 246711 | 134809 | 111902 | \n",
       "| 19     | 115704 |  62853 |  52851 | 241015 | 131957 | 109058 | \n",
       "| 20     | 120856 |  65893 |  54963 | 248580 | 136400 | 112180 | \n",
       "| 21     | 120898 |  65769 |  55129 | 271002 | 147661 | 123341 | \n",
       "| 22     | 125932 |  68757 |  57175 | 243308 | 133207 | 110101 | \n",
       "| 23     | 110999 |  60366 |  50633 | 225492 | 123079 | 102413 | \n",
       "| 24     | 127300 |  69387 |  57913 | 223175 | 122374 | 100801 | \n",
       "| 25     | 144269 |  79022 |  65247 | 284882 | 156055 | 128827 | \n",
       "\n",
       "\n"
      ],
      "text/plain": [
       "   districtCode turnout_total turnout_male turnout_female registered_total\n",
       "1   1           118352         64659        53693         252919          \n",
       "2   2           111122         60400        50722         217922          \n",
       "3   3           127784         69850        57934         254321          \n",
       "4   4           130256         71310        58946         253614          \n",
       "5   5           106977         58019        48958         254769          \n",
       "6   6           150187         81789        68398         307453          \n",
       "7   7           120208         65327        54881         245414          \n",
       "8   8           124549         67923        56626         254450          \n",
       "9   9           125009         68345        56664         276415          \n",
       "10 10           230869        125468       105401         503817          \n",
       "11 11           126766         68662        58104         270153          \n",
       "12 12            99058         54202        44856         237294          \n",
       "13 13           202273        110218        92055         429361          \n",
       "14 14           119827         65596        54231         270805          \n",
       "15 15           131771         71841        59930         303022          \n",
       "16 16           115897         62854        53043         253423          \n",
       "17 17           123553         67154        56399         240111          \n",
       "18 18           101332         55106        46226         246711          \n",
       "19 19           115704         62853        52851         241015          \n",
       "20 20           120856         65893        54963         248580          \n",
       "21 21           120898         65769        55129         271002          \n",
       "22 22           125932         68757        57175         243308          \n",
       "23 23           110999         60366        50633         225492          \n",
       "24 24           127300         69387        57913         223175          \n",
       "25 25           144269         79022        65247         284882          \n",
       "   registered_male registered_female\n",
       "1  138382          114537           \n",
       "2  119303           98619           \n",
       "3  139932          114389           \n",
       "4  139426          114188           \n",
       "5  139571          115198           \n",
       "6  167945          139508           \n",
       "7  133946          111468           \n",
       "8  140104          114346           \n",
       "9  151704          124711           \n",
       "10 276161          227656           \n",
       "11 147429          122724           \n",
       "12 129798          107496           \n",
       "13 235418          193943           \n",
       "14 148414          122391           \n",
       "15 166187          136835           \n",
       "16 138967          114456           \n",
       "17 131302          108809           \n",
       "18 134809          111902           \n",
       "19 131957          109058           \n",
       "20 136400          112180           \n",
       "21 147661          123341           \n",
       "22 133207          110101           \n",
       "23 123079          102413           \n",
       "24 122374          100801           \n",
       "25 156055          128827           "
      ]
     },
     "metadata": {},
     "output_type": "display_data"
    }
   ],
   "source": [
    "newData5"
   ]
  },
  {
   "cell_type": "code",
   "execution_count": 101,
   "metadata": {
    "collapsed": false
   },
   "outputs": [],
   "source": [
    "newData5$totalTurnoutRate <- newData5$turnout_total/newData5$registered_total"
   ]
  },
  {
   "cell_type": "code",
   "execution_count": 102,
   "metadata": {
    "collapsed": false
   },
   "outputs": [
    {
     "data": {
      "text/html": [
       "<table>\n",
       "<thead><tr><th scope=col>districtCode</th><th scope=col>turnout_total</th><th scope=col>turnout_male</th><th scope=col>turnout_female</th><th scope=col>registered_total</th><th scope=col>registered_male</th><th scope=col>registered_female</th><th scope=col>totalTurnoutRate</th></tr></thead>\n",
       "<tbody>\n",
       "\t<tr><td> 1       </td><td>118352   </td><td> 64659   </td><td> 53693   </td><td>252919   </td><td>138382   </td><td>114537   </td><td>0.4679443</td></tr>\n",
       "\t<tr><td> 2       </td><td>111122   </td><td> 60400   </td><td> 50722   </td><td>217922   </td><td>119303   </td><td> 98619   </td><td>0.5099164</td></tr>\n",
       "\t<tr><td> 3       </td><td>127784   </td><td> 69850   </td><td> 57934   </td><td>254321   </td><td>139932   </td><td>114389   </td><td>0.5024516</td></tr>\n",
       "\t<tr><td> 4       </td><td>130256   </td><td> 71310   </td><td> 58946   </td><td>253614   </td><td>139426   </td><td>114188   </td><td>0.5135994</td></tr>\n",
       "\t<tr><td> 5       </td><td>106977   </td><td> 58019   </td><td> 48958   </td><td>254769   </td><td>139571   </td><td>115198   </td><td>0.4198980</td></tr>\n",
       "\t<tr><td> 6       </td><td>150187   </td><td> 81789   </td><td> 68398   </td><td>307453   </td><td>167945   </td><td>139508   </td><td>0.4884877</td></tr>\n",
       "\t<tr><td> 7       </td><td>120208   </td><td> 65327   </td><td> 54881   </td><td>245414   </td><td>133946   </td><td>111468   </td><td>0.4898172</td></tr>\n",
       "\t<tr><td> 8       </td><td>124549   </td><td> 67923   </td><td> 56626   </td><td>254450   </td><td>140104   </td><td>114346   </td><td>0.4894832</td></tr>\n",
       "\t<tr><td> 9       </td><td>125009   </td><td> 68345   </td><td> 56664   </td><td>276415   </td><td>151704   </td><td>124711   </td><td>0.4522511</td></tr>\n",
       "\t<tr><td>10       </td><td>230869   </td><td>125468   </td><td>105401   </td><td>503817   </td><td>276161   </td><td>227656   </td><td>0.4582398</td></tr>\n",
       "\t<tr><td>11       </td><td>126766   </td><td> 68662   </td><td> 58104   </td><td>270153   </td><td>147429   </td><td>122724   </td><td>0.4692378</td></tr>\n",
       "\t<tr><td>12       </td><td> 99058   </td><td> 54202   </td><td> 44856   </td><td>237294   </td><td>129798   </td><td>107496   </td><td>0.4174484</td></tr>\n",
       "\t<tr><td>13       </td><td>202273   </td><td>110218   </td><td> 92055   </td><td>429361   </td><td>235418   </td><td>193943   </td><td>0.4711024</td></tr>\n",
       "\t<tr><td>14       </td><td>119827   </td><td> 65596   </td><td> 54231   </td><td>270805   </td><td>148414   </td><td>122391   </td><td>0.4424844</td></tr>\n",
       "\t<tr><td>15       </td><td>131771   </td><td> 71841   </td><td> 59930   </td><td>303022   </td><td>166187   </td><td>136835   </td><td>0.4348562</td></tr>\n",
       "\t<tr><td>16       </td><td>115897   </td><td> 62854   </td><td> 53043   </td><td>253423   </td><td>138967   </td><td>114456   </td><td>0.4573263</td></tr>\n",
       "\t<tr><td>17       </td><td>123553   </td><td> 67154   </td><td> 56399   </td><td>240111   </td><td>131302   </td><td>108809   </td><td>0.5145662</td></tr>\n",
       "\t<tr><td>18       </td><td>101332   </td><td> 55106   </td><td> 46226   </td><td>246711   </td><td>134809   </td><td>111902   </td><td>0.4107316</td></tr>\n",
       "\t<tr><td>19       </td><td>115704   </td><td> 62853   </td><td> 52851   </td><td>241015   </td><td>131957   </td><td>109058   </td><td>0.4800697</td></tr>\n",
       "\t<tr><td>20       </td><td>120856   </td><td> 65893   </td><td> 54963   </td><td>248580   </td><td>136400   </td><td>112180   </td><td>0.4861855</td></tr>\n",
       "\t<tr><td>21       </td><td>120898   </td><td> 65769   </td><td> 55129   </td><td>271002   </td><td>147661   </td><td>123341   </td><td>0.4461148</td></tr>\n",
       "\t<tr><td>22       </td><td>125932   </td><td> 68757   </td><td> 57175   </td><td>243308   </td><td>133207   </td><td>110101   </td><td>0.5175827</td></tr>\n",
       "\t<tr><td>23       </td><td>110999   </td><td> 60366   </td><td> 50633   </td><td>225492   </td><td>123079   </td><td>102413   </td><td>0.4922525</td></tr>\n",
       "\t<tr><td>24       </td><td>127300   </td><td> 69387   </td><td> 57913   </td><td>223175   </td><td>122374   </td><td>100801   </td><td>0.5704044</td></tr>\n",
       "\t<tr><td>25       </td><td>144269   </td><td> 79022   </td><td> 65247   </td><td>284882   </td><td>156055   </td><td>128827   </td><td>0.5064167</td></tr>\n",
       "</tbody>\n",
       "</table>\n"
      ],
      "text/latex": [
       "\\begin{tabular}{r|llllllll}\n",
       " districtCode & turnout\\_total & turnout\\_male & turnout\\_female & registered\\_total & registered\\_male & registered\\_female & totalTurnoutRate\\\\\n",
       "\\hline\n",
       "\t  1        & 118352    &  64659    &  53693    & 252919    & 138382    & 114537    & 0.4679443\\\\\n",
       "\t  2        & 111122    &  60400    &  50722    & 217922    & 119303    &  98619    & 0.5099164\\\\\n",
       "\t  3        & 127784    &  69850    &  57934    & 254321    & 139932    & 114389    & 0.5024516\\\\\n",
       "\t  4        & 130256    &  71310    &  58946    & 253614    & 139426    & 114188    & 0.5135994\\\\\n",
       "\t  5        & 106977    &  58019    &  48958    & 254769    & 139571    & 115198    & 0.4198980\\\\\n",
       "\t  6        & 150187    &  81789    &  68398    & 307453    & 167945    & 139508    & 0.4884877\\\\\n",
       "\t  7        & 120208    &  65327    &  54881    & 245414    & 133946    & 111468    & 0.4898172\\\\\n",
       "\t  8        & 124549    &  67923    &  56626    & 254450    & 140104    & 114346    & 0.4894832\\\\\n",
       "\t  9        & 125009    &  68345    &  56664    & 276415    & 151704    & 124711    & 0.4522511\\\\\n",
       "\t 10        & 230869    & 125468    & 105401    & 503817    & 276161    & 227656    & 0.4582398\\\\\n",
       "\t 11        & 126766    &  68662    &  58104    & 270153    & 147429    & 122724    & 0.4692378\\\\\n",
       "\t 12        &  99058    &  54202    &  44856    & 237294    & 129798    & 107496    & 0.4174484\\\\\n",
       "\t 13        & 202273    & 110218    &  92055    & 429361    & 235418    & 193943    & 0.4711024\\\\\n",
       "\t 14        & 119827    &  65596    &  54231    & 270805    & 148414    & 122391    & 0.4424844\\\\\n",
       "\t 15        & 131771    &  71841    &  59930    & 303022    & 166187    & 136835    & 0.4348562\\\\\n",
       "\t 16        & 115897    &  62854    &  53043    & 253423    & 138967    & 114456    & 0.4573263\\\\\n",
       "\t 17        & 123553    &  67154    &  56399    & 240111    & 131302    & 108809    & 0.5145662\\\\\n",
       "\t 18        & 101332    &  55106    &  46226    & 246711    & 134809    & 111902    & 0.4107316\\\\\n",
       "\t 19        & 115704    &  62853    &  52851    & 241015    & 131957    & 109058    & 0.4800697\\\\\n",
       "\t 20        & 120856    &  65893    &  54963    & 248580    & 136400    & 112180    & 0.4861855\\\\\n",
       "\t 21        & 120898    &  65769    &  55129    & 271002    & 147661    & 123341    & 0.4461148\\\\\n",
       "\t 22        & 125932    &  68757    &  57175    & 243308    & 133207    & 110101    & 0.5175827\\\\\n",
       "\t 23        & 110999    &  60366    &  50633    & 225492    & 123079    & 102413    & 0.4922525\\\\\n",
       "\t 24        & 127300    &  69387    &  57913    & 223175    & 122374    & 100801    & 0.5704044\\\\\n",
       "\t 25        & 144269    &  79022    &  65247    & 284882    & 156055    & 128827    & 0.5064167\\\\\n",
       "\\end{tabular}\n"
      ],
      "text/markdown": [
       "\n",
       "districtCode | turnout_total | turnout_male | turnout_female | registered_total | registered_male | registered_female | totalTurnoutRate | \n",
       "|---|---|---|---|---|---|---|---|---|---|---|---|---|---|---|---|---|---|---|---|---|---|---|---|---|\n",
       "|  1        | 118352    |  64659    |  53693    | 252919    | 138382    | 114537    | 0.4679443 | \n",
       "|  2        | 111122    |  60400    |  50722    | 217922    | 119303    |  98619    | 0.5099164 | \n",
       "|  3        | 127784    |  69850    |  57934    | 254321    | 139932    | 114389    | 0.5024516 | \n",
       "|  4        | 130256    |  71310    |  58946    | 253614    | 139426    | 114188    | 0.5135994 | \n",
       "|  5        | 106977    |  58019    |  48958    | 254769    | 139571    | 115198    | 0.4198980 | \n",
       "|  6        | 150187    |  81789    |  68398    | 307453    | 167945    | 139508    | 0.4884877 | \n",
       "|  7        | 120208    |  65327    |  54881    | 245414    | 133946    | 111468    | 0.4898172 | \n",
       "|  8        | 124549    |  67923    |  56626    | 254450    | 140104    | 114346    | 0.4894832 | \n",
       "|  9        | 125009    |  68345    |  56664    | 276415    | 151704    | 124711    | 0.4522511 | \n",
       "| 10        | 230869    | 125468    | 105401    | 503817    | 276161    | 227656    | 0.4582398 | \n",
       "| 11        | 126766    |  68662    |  58104    | 270153    | 147429    | 122724    | 0.4692378 | \n",
       "| 12        |  99058    |  54202    |  44856    | 237294    | 129798    | 107496    | 0.4174484 | \n",
       "| 13        | 202273    | 110218    |  92055    | 429361    | 235418    | 193943    | 0.4711024 | \n",
       "| 14        | 119827    |  65596    |  54231    | 270805    | 148414    | 122391    | 0.4424844 | \n",
       "| 15        | 131771    |  71841    |  59930    | 303022    | 166187    | 136835    | 0.4348562 | \n",
       "| 16        | 115897    |  62854    |  53043    | 253423    | 138967    | 114456    | 0.4573263 | \n",
       "| 17        | 123553    |  67154    |  56399    | 240111    | 131302    | 108809    | 0.5145662 | \n",
       "| 18        | 101332    |  55106    |  46226    | 246711    | 134809    | 111902    | 0.4107316 | \n",
       "| 19        | 115704    |  62853    |  52851    | 241015    | 131957    | 109058    | 0.4800697 | \n",
       "| 20        | 120856    |  65893    |  54963    | 248580    | 136400    | 112180    | 0.4861855 | \n",
       "| 21        | 120898    |  65769    |  55129    | 271002    | 147661    | 123341    | 0.4461148 | \n",
       "| 22        | 125932    |  68757    |  57175    | 243308    | 133207    | 110101    | 0.5175827 | \n",
       "| 23        | 110999    |  60366    |  50633    | 225492    | 123079    | 102413    | 0.4922525 | \n",
       "| 24        | 127300    |  69387    |  57913    | 223175    | 122374    | 100801    | 0.5704044 | \n",
       "| 25        | 144269    |  79022    |  65247    | 284882    | 156055    | 128827    | 0.5064167 | \n",
       "\n",
       "\n"
      ],
      "text/plain": [
       "   districtCode turnout_total turnout_male turnout_female registered_total\n",
       "1   1           118352         64659        53693         252919          \n",
       "2   2           111122         60400        50722         217922          \n",
       "3   3           127784         69850        57934         254321          \n",
       "4   4           130256         71310        58946         253614          \n",
       "5   5           106977         58019        48958         254769          \n",
       "6   6           150187         81789        68398         307453          \n",
       "7   7           120208         65327        54881         245414          \n",
       "8   8           124549         67923        56626         254450          \n",
       "9   9           125009         68345        56664         276415          \n",
       "10 10           230869        125468       105401         503817          \n",
       "11 11           126766         68662        58104         270153          \n",
       "12 12            99058         54202        44856         237294          \n",
       "13 13           202273        110218        92055         429361          \n",
       "14 14           119827         65596        54231         270805          \n",
       "15 15           131771         71841        59930         303022          \n",
       "16 16           115897         62854        53043         253423          \n",
       "17 17           123553         67154        56399         240111          \n",
       "18 18           101332         55106        46226         246711          \n",
       "19 19           115704         62853        52851         241015          \n",
       "20 20           120856         65893        54963         248580          \n",
       "21 21           120898         65769        55129         271002          \n",
       "22 22           125932         68757        57175         243308          \n",
       "23 23           110999         60366        50633         225492          \n",
       "24 24           127300         69387        57913         223175          \n",
       "25 25           144269         79022        65247         284882          \n",
       "   registered_male registered_female totalTurnoutRate\n",
       "1  138382          114537            0.4679443       \n",
       "2  119303           98619            0.5099164       \n",
       "3  139932          114389            0.5024516       \n",
       "4  139426          114188            0.5135994       \n",
       "5  139571          115198            0.4198980       \n",
       "6  167945          139508            0.4884877       \n",
       "7  133946          111468            0.4898172       \n",
       "8  140104          114346            0.4894832       \n",
       "9  151704          124711            0.4522511       \n",
       "10 276161          227656            0.4582398       \n",
       "11 147429          122724            0.4692378       \n",
       "12 129798          107496            0.4174484       \n",
       "13 235418          193943            0.4711024       \n",
       "14 148414          122391            0.4424844       \n",
       "15 166187          136835            0.4348562       \n",
       "16 138967          114456            0.4573263       \n",
       "17 131302          108809            0.5145662       \n",
       "18 134809          111902            0.4107316       \n",
       "19 131957          109058            0.4800697       \n",
       "20 136400          112180            0.4861855       \n",
       "21 147661          123341            0.4461148       \n",
       "22 133207          110101            0.5175827       \n",
       "23 123079          102413            0.4922525       \n",
       "24 122374          100801            0.5704044       \n",
       "25 156055          128827            0.5064167       "
      ]
     },
     "metadata": {},
     "output_type": "display_data"
    }
   ],
   "source": [
    "newData5"
   ]
  },
  {
   "cell_type": "markdown",
   "metadata": {},
   "source": [
    "### If we groupby and calculate total turnout rate per District, we do not get any data for which it is more than 75%. If I have to answer the question, I may choose all the rows from original data fro which total turnout rate > 0.75 and then group_by district and find the female turnout rate. I will do the same now."
   ]
  },
  {
   "cell_type": "code",
   "execution_count": 103,
   "metadata": {
    "collapsed": false
   },
   "outputs": [],
   "source": [
    "newData6 <- subset(newData4,total_turnout_rate >= 0.75)"
   ]
  },
  {
   "cell_type": "code",
   "execution_count": 104,
   "metadata": {
    "collapsed": false
   },
   "outputs": [
    {
     "name": "stdout",
     "output_type": "stream",
     "text": [
      "Classes 'tbl_df', 'tbl' and 'data.frame':\t2392 obs. of  13 variables:\n",
      " $ town_id           : num  171 171 171 171 171 171 171 171 171 171 ...\n",
      " $ turnout_total     : num  366 369 713 583 377 597 523 395 599 496 ...\n",
      " $ turnout_male      : num  205 197 370 328 189 329 310 213 323 262 ...\n",
      " $ turnout_female    : num  161 172 343 255 188 268 213 182 276 234 ...\n",
      " $ registered_total  : num  401 395 737 620 400 630 575 433 779 530 ...\n",
      " $ registered_male   : num  225 212 383 347 201 348 338 235 429 282 ...\n",
      " $ registered_female : num  176 183 354 273 199 282 237 198 350 248 ...\n",
      " $ treatment         : num  1 1 0 1 1 0 0 1 0 0 ...\n",
      " $ treatment_phase   : num  1 1 1 1 1 1 1 1 1 1 ...\n",
      " $ town_name         : chr  \"Ara\" \"Ara\" \"Ara\" \"Ara\" ...\n",
      " $ districtCode      : int  5 5 5 5 5 5 5 5 5 5 ...\n",
      " $ unique_id         : chr  \"171A010\" \"171A014\" \"171A015\" \"171A019\" ...\n",
      " $ total_turnout_rate: num  0.913 0.934 0.967 0.94 0.942 ...\n"
     ]
    }
   ],
   "source": [
    "str(newData6)"
   ]
  },
  {
   "cell_type": "code",
   "execution_count": 105,
   "metadata": {
    "collapsed": false
   },
   "outputs": [],
   "source": [
    "avgFemaleTurnoutData <- newData6 %>% group_by(districtCode) %>% \n",
    "summarise(turnout_female= sum(turnout_female),registered_female = sum(registered_female))"
   ]
  },
  {
   "cell_type": "code",
   "execution_count": 106,
   "metadata": {
    "collapsed": false
   },
   "outputs": [],
   "source": [
    "avgFemaleTurnoutData$turnout_rate = avgFemaleTurnoutData$turnout_female/avgFemaleTurnoutData$registered_female"
   ]
  },
  {
   "cell_type": "code",
   "execution_count": 107,
   "metadata": {
    "collapsed": false
   },
   "outputs": [
    {
     "data": {
      "text/html": [
       "<table>\n",
       "<thead><tr><th scope=col>districtCode</th><th scope=col>turnout_female</th><th scope=col>registered_female</th><th scope=col>turnout_rate</th></tr></thead>\n",
       "<tbody>\n",
       "\t<tr><td> 1       </td><td>23211    </td><td>25106    </td><td>0.9245200</td></tr>\n",
       "\t<tr><td> 2       </td><td>20974    </td><td>22734    </td><td>0.9225829</td></tr>\n",
       "\t<tr><td> 3       </td><td>22712    </td><td>24105    </td><td>0.9422112</td></tr>\n",
       "\t<tr><td> 4       </td><td>24031    </td><td>25370    </td><td>0.9472211</td></tr>\n",
       "\t<tr><td> 5       </td><td>16471    </td><td>17873    </td><td>0.9215577</td></tr>\n",
       "\t<tr><td> 6       </td><td>29378    </td><td>31385    </td><td>0.9360523</td></tr>\n",
       "\t<tr><td> 7       </td><td>23193    </td><td>24965    </td><td>0.9290206</td></tr>\n",
       "\t<tr><td> 8       </td><td>22015    </td><td>23608    </td><td>0.9325229</td></tr>\n",
       "\t<tr><td> 9       </td><td>17184    </td><td>18485    </td><td>0.9296186</td></tr>\n",
       "\t<tr><td>10       </td><td>42168    </td><td>45782    </td><td>0.9210607</td></tr>\n",
       "\t<tr><td>11       </td><td>22246    </td><td>23878    </td><td>0.9316526</td></tr>\n",
       "\t<tr><td>12       </td><td>15193    </td><td>16584    </td><td>0.9161240</td></tr>\n",
       "\t<tr><td>13       </td><td>37945    </td><td>40953    </td><td>0.9265499</td></tr>\n",
       "\t<tr><td>14       </td><td>18402    </td><td>19953    </td><td>0.9222673</td></tr>\n",
       "\t<tr><td>15       </td><td>19940    </td><td>21435    </td><td>0.9302543</td></tr>\n",
       "\t<tr><td>16       </td><td>19049    </td><td>20234    </td><td>0.9414352</td></tr>\n",
       "\t<tr><td>17       </td><td>21173    </td><td>22480    </td><td>0.9418594</td></tr>\n",
       "\t<tr><td>18       </td><td>15220    </td><td>16563    </td><td>0.9189157</td></tr>\n",
       "\t<tr><td>19       </td><td>17714    </td><td>18982    </td><td>0.9331999</td></tr>\n",
       "\t<tr><td>20       </td><td>23753    </td><td>25382    </td><td>0.9358207</td></tr>\n",
       "\t<tr><td>21       </td><td>20604    </td><td>22020    </td><td>0.9356948</td></tr>\n",
       "\t<tr><td>22       </td><td>26981    </td><td>28832    </td><td>0.9358005</td></tr>\n",
       "\t<tr><td>23       </td><td>23798    </td><td>25349    </td><td>0.9388142</td></tr>\n",
       "\t<tr><td>24       </td><td>25184    </td><td>26650    </td><td>0.9449906</td></tr>\n",
       "\t<tr><td>25       </td><td>27521    </td><td>29502    </td><td>0.9328520</td></tr>\n",
       "</tbody>\n",
       "</table>\n"
      ],
      "text/latex": [
       "\\begin{tabular}{r|llll}\n",
       " districtCode & turnout\\_female & registered\\_female & turnout\\_rate\\\\\n",
       "\\hline\n",
       "\t  1        & 23211     & 25106     & 0.9245200\\\\\n",
       "\t  2        & 20974     & 22734     & 0.9225829\\\\\n",
       "\t  3        & 22712     & 24105     & 0.9422112\\\\\n",
       "\t  4        & 24031     & 25370     & 0.9472211\\\\\n",
       "\t  5        & 16471     & 17873     & 0.9215577\\\\\n",
       "\t  6        & 29378     & 31385     & 0.9360523\\\\\n",
       "\t  7        & 23193     & 24965     & 0.9290206\\\\\n",
       "\t  8        & 22015     & 23608     & 0.9325229\\\\\n",
       "\t  9        & 17184     & 18485     & 0.9296186\\\\\n",
       "\t 10        & 42168     & 45782     & 0.9210607\\\\\n",
       "\t 11        & 22246     & 23878     & 0.9316526\\\\\n",
       "\t 12        & 15193     & 16584     & 0.9161240\\\\\n",
       "\t 13        & 37945     & 40953     & 0.9265499\\\\\n",
       "\t 14        & 18402     & 19953     & 0.9222673\\\\\n",
       "\t 15        & 19940     & 21435     & 0.9302543\\\\\n",
       "\t 16        & 19049     & 20234     & 0.9414352\\\\\n",
       "\t 17        & 21173     & 22480     & 0.9418594\\\\\n",
       "\t 18        & 15220     & 16563     & 0.9189157\\\\\n",
       "\t 19        & 17714     & 18982     & 0.9331999\\\\\n",
       "\t 20        & 23753     & 25382     & 0.9358207\\\\\n",
       "\t 21        & 20604     & 22020     & 0.9356948\\\\\n",
       "\t 22        & 26981     & 28832     & 0.9358005\\\\\n",
       "\t 23        & 23798     & 25349     & 0.9388142\\\\\n",
       "\t 24        & 25184     & 26650     & 0.9449906\\\\\n",
       "\t 25        & 27521     & 29502     & 0.9328520\\\\\n",
       "\\end{tabular}\n"
      ],
      "text/markdown": [
       "\n",
       "districtCode | turnout_female | registered_female | turnout_rate | \n",
       "|---|---|---|---|---|---|---|---|---|---|---|---|---|---|---|---|---|---|---|---|---|---|---|---|---|\n",
       "|  1        | 23211     | 25106     | 0.9245200 | \n",
       "|  2        | 20974     | 22734     | 0.9225829 | \n",
       "|  3        | 22712     | 24105     | 0.9422112 | \n",
       "|  4        | 24031     | 25370     | 0.9472211 | \n",
       "|  5        | 16471     | 17873     | 0.9215577 | \n",
       "|  6        | 29378     | 31385     | 0.9360523 | \n",
       "|  7        | 23193     | 24965     | 0.9290206 | \n",
       "|  8        | 22015     | 23608     | 0.9325229 | \n",
       "|  9        | 17184     | 18485     | 0.9296186 | \n",
       "| 10        | 42168     | 45782     | 0.9210607 | \n",
       "| 11        | 22246     | 23878     | 0.9316526 | \n",
       "| 12        | 15193     | 16584     | 0.9161240 | \n",
       "| 13        | 37945     | 40953     | 0.9265499 | \n",
       "| 14        | 18402     | 19953     | 0.9222673 | \n",
       "| 15        | 19940     | 21435     | 0.9302543 | \n",
       "| 16        | 19049     | 20234     | 0.9414352 | \n",
       "| 17        | 21173     | 22480     | 0.9418594 | \n",
       "| 18        | 15220     | 16563     | 0.9189157 | \n",
       "| 19        | 17714     | 18982     | 0.9331999 | \n",
       "| 20        | 23753     | 25382     | 0.9358207 | \n",
       "| 21        | 20604     | 22020     | 0.9356948 | \n",
       "| 22        | 26981     | 28832     | 0.9358005 | \n",
       "| 23        | 23798     | 25349     | 0.9388142 | \n",
       "| 24        | 25184     | 26650     | 0.9449906 | \n",
       "| 25        | 27521     | 29502     | 0.9328520 | \n",
       "\n",
       "\n"
      ],
      "text/plain": [
       "   districtCode turnout_female registered_female turnout_rate\n",
       "1   1           23211          25106             0.9245200   \n",
       "2   2           20974          22734             0.9225829   \n",
       "3   3           22712          24105             0.9422112   \n",
       "4   4           24031          25370             0.9472211   \n",
       "5   5           16471          17873             0.9215577   \n",
       "6   6           29378          31385             0.9360523   \n",
       "7   7           23193          24965             0.9290206   \n",
       "8   8           22015          23608             0.9325229   \n",
       "9   9           17184          18485             0.9296186   \n",
       "10 10           42168          45782             0.9210607   \n",
       "11 11           22246          23878             0.9316526   \n",
       "12 12           15193          16584             0.9161240   \n",
       "13 13           37945          40953             0.9265499   \n",
       "14 14           18402          19953             0.9222673   \n",
       "15 15           19940          21435             0.9302543   \n",
       "16 16           19049          20234             0.9414352   \n",
       "17 17           21173          22480             0.9418594   \n",
       "18 18           15220          16563             0.9189157   \n",
       "19 19           17714          18982             0.9331999   \n",
       "20 20           23753          25382             0.9358207   \n",
       "21 21           20604          22020             0.9356948   \n",
       "22 22           26981          28832             0.9358005   \n",
       "23 23           23798          25349             0.9388142   \n",
       "24 24           25184          26650             0.9449906   \n",
       "25 25           27521          29502             0.9328520   "
      ]
     },
     "metadata": {},
     "output_type": "display_data"
    }
   ],
   "source": [
    "avgFemaleTurnoutData"
   ]
  },
  {
   "cell_type": "markdown",
   "metadata": {},
   "source": [
    "### Now I will try to find out if the average turnout rate for females notably higher in treatment polling booths than control. Now I will create two Dataframes. One for treatment and one for control from newData4."
   ]
  },
  {
   "cell_type": "code",
   "execution_count": 108,
   "metadata": {
    "collapsed": true
   },
   "outputs": [],
   "source": [
    "newData7 <- newData4\n",
    "newData7$female_turnout_rate <- newData7$turnout_female/newData7$registered_female\n",
    "treatmentData <- subset(newData7, treatment == 1)\n",
    "controlData <- subset(newData7,treatment == 0)"
   ]
  },
  {
   "cell_type": "code",
   "execution_count": 109,
   "metadata": {
    "collapsed": false
   },
   "outputs": [
    {
     "data": {
      "text/plain": [
       "    town_id    turnout_total   turnout_male   turnout_female  registered_total\n",
       " Min.   :171   Min.   :   1   Min.   :  0.0   Min.   :  1.0   Min.   : 204.0  \n",
       " 1st Qu.:190   1st Qu.: 354   1st Qu.:189.0   1st Qu.:163.5   1st Qu.: 596.0  \n",
       " Median :198   Median : 460   Median :248.0   Median :211.0   Median : 864.0  \n",
       " Mean   :201   Mean   : 469   Mean   :253.2   Mean   :215.8   Mean   : 973.8  \n",
       " 3rd Qu.:212   3rd Qu.: 569   3rd Qu.:308.0   3rd Qu.:261.0   3rd Qu.:1314.0  \n",
       " Max.   :239   Max.   :1045   Max.   :591.0   Max.   :483.0   Max.   :1999.0  \n",
       " registered_male  registered_female   treatment treatment_phase\n",
       " Min.   : 106.0   Min.   : 88.0     Min.   :1   Min.   :1.000  \n",
       " 1st Qu.: 320.0   1st Qu.:273.0     1st Qu.:1   1st Qu.:1.000  \n",
       " Median : 474.0   Median :393.0     Median :1   Median :1.000  \n",
       " Mean   : 531.3   Mean   :442.6     Mean   :1   Mean   :1.468  \n",
       " 3rd Qu.: 717.0   3rd Qu.:597.0     3rd Qu.:1   3rd Qu.:2.000  \n",
       " Max.   :1179.0   Max.   :981.0     Max.   :1   Max.   :2.000  \n",
       "  town_name          districtCode    unique_id         total_turnout_rate \n",
       " Length:3455        Min.   : 1.00   Length:3455        Min.   :0.0005714  \n",
       " Class :character   1st Qu.: 7.00   Class :character   1st Qu.:0.3414206  \n",
       " Mode  :character   Median :13.00   Mode  :character   Median :0.4837758  \n",
       "                    Mean   :12.85                      Mean   :0.5786997  \n",
       "                    3rd Qu.:19.00                      3rd Qu.:0.9193989  \n",
       "                    Max.   :25.00                      Max.   :1.0000000  \n",
       " female_turnout_rate\n",
       " Min.   :0.001155   \n",
       " 1st Qu.:0.344894   \n",
       " Median :0.493976   \n",
       " Mean   :0.583174   \n",
       " 3rd Qu.:0.920617   \n",
       " Max.   :1.000000   "
      ]
     },
     "metadata": {},
     "output_type": "display_data"
    }
   ],
   "source": [
    "summary(treatmentData)"
   ]
  },
  {
   "cell_type": "code",
   "execution_count": 110,
   "metadata": {
    "collapsed": false
   },
   "outputs": [
    {
     "data": {
      "text/plain": [
       "    town_id      turnout_total     turnout_male   turnout_female \n",
       " Min.   :171.0   Min.   :   0.0   Min.   :  0.0   Min.   :  0.0  \n",
       " 1st Qu.:190.0   1st Qu.: 352.0   1st Qu.:192.0   1st Qu.:158.0  \n",
       " Median :198.0   Median : 452.0   Median :247.0   Median :203.0  \n",
       " Mean   :200.9   Mean   : 461.3   Mean   :253.6   Mean   :207.7  \n",
       " 3rd Qu.:212.0   3rd Qu.: 559.0   3rd Qu.:309.0   3rd Qu.:251.0  \n",
       " Max.   :239.0   Max.   :1005.0   Max.   :597.0   Max.   :482.0  \n",
       " registered_total registered_male  registered_female   treatment\n",
       " Min.   : 211.0   Min.   : 116.0   Min.   : 88       Min.   :0  \n",
       " 1st Qu.: 592.0   1st Qu.: 323.0   1st Qu.:266       1st Qu.:0  \n",
       " Median : 882.0   Median : 486.0   Median :396       Median :0  \n",
       " Mean   : 986.2   Mean   : 542.2   Mean   :444       Mean   :0  \n",
       " 3rd Qu.:1353.0   3rd Qu.: 744.0   3rd Qu.:606       3rd Qu.:0  \n",
       " Max.   :1999.0   Max.   :1194.0   Max.   :991       Max.   :0  \n",
       " treatment_phase  town_name          districtCode    unique_id        \n",
       " Min.   :1.000   Length:3493        Min.   : 1.00   Length:3493       \n",
       " 1st Qu.:1.000   Class :character   1st Qu.: 7.00   Class :character  \n",
       " Median :1.000   Mode  :character   Median :13.00   Mode  :character  \n",
       " Mean   :1.498                      Mean   :12.84                     \n",
       " 3rd Qu.:2.000                      3rd Qu.:19.00                     \n",
       " Max.   :2.000                      Max.   :25.00                     \n",
       " total_turnout_rate female_turnout_rate\n",
       " Min.   :0.0000     Min.   :0.0000     \n",
       " 1st Qu.:0.3328     1st Qu.:0.3309     \n",
       " Median :0.4698     Median :0.4710     \n",
       " Mean   :0.5689     Mean   :0.5693     \n",
       " 3rd Qu.:0.9170     3rd Qu.:0.9158     \n",
       " Max.   :1.0000     Max.   :1.0000     "
      ]
     },
     "metadata": {},
     "output_type": "display_data"
    }
   ],
   "source": [
    "summary(controlData)"
   ]
  },
  {
   "cell_type": "code",
   "execution_count": 111,
   "metadata": {
    "collapsed": false
   },
   "outputs": [
    {
     "data": {
      "text/html": [
       "3455"
      ],
      "text/latex": [
       "3455"
      ],
      "text/markdown": [
       "3455"
      ],
      "text/plain": [
       "[1] 3455"
      ]
     },
     "metadata": {},
     "output_type": "display_data"
    }
   ],
   "source": [
    "nTreat = nrow(treatmentData)\n",
    "nTreat"
   ]
  },
  {
   "cell_type": "code",
   "execution_count": 112,
   "metadata": {
    "collapsed": false
   },
   "outputs": [
    {
     "data": {
      "text/html": [
       "3493"
      ],
      "text/latex": [
       "3493"
      ],
      "text/markdown": [
       "3493"
      ],
      "text/plain": [
       "[1] 3493"
      ]
     },
     "metadata": {},
     "output_type": "display_data"
    }
   ],
   "source": [
    "nControl = nrow(controlData)\n",
    "nControl"
   ]
  },
  {
   "cell_type": "code",
   "execution_count": 113,
   "metadata": {
    "collapsed": false
   },
   "outputs": [
    {
     "data": {
      "text/html": [
       "0.0766643231670006"
      ],
      "text/latex": [
       "0.0766643231670006"
      ],
      "text/markdown": [
       "0.0766643231670006"
      ],
      "text/plain": [
       "[1] 0.07666432"
      ]
     },
     "metadata": {},
     "output_type": "display_data"
    }
   ],
   "source": [
    "varTreat = var(treatmentData$female_turnout_rate)\n",
    "varTreat"
   ]
  },
  {
   "cell_type": "code",
   "execution_count": 114,
   "metadata": {
    "collapsed": false
   },
   "outputs": [
    {
     "data": {
      "text/html": [
       "0.080100736620814"
      ],
      "text/latex": [
       "0.080100736620814"
      ],
      "text/markdown": [
       "0.080100736620814"
      ],
      "text/plain": [
       "[1] 0.08010074"
      ]
     },
     "metadata": {},
     "output_type": "display_data"
    }
   ],
   "source": [
    "varControl = var(controlData$female_turnout_rate)\n",
    "varControl"
   ]
  },
  {
   "cell_type": "markdown",
   "metadata": {},
   "source": [
    "### I will conduct a un-paired two sample z-test to find out whether the difference between mean of female_turnout_rate is significant or not.  The null hypothese will be there will be no difference. Based on that we will do the testing."
   ]
  },
  {
   "cell_type": "markdown",
   "metadata": {},
   "source": [
    "#### In the next cell, I will calculate the standard error of the average of the group. That is equal to square root of sum of (individual variances divided by sample sizes). "
   ]
  },
  {
   "cell_type": "code",
   "execution_count": 115,
   "metadata": {
    "collapsed": false
   },
   "outputs": [
    {
     "data": {
      "text/html": [
       "0.00671722954381257"
      ],
      "text/latex": [
       "0.00671722954381257"
      ],
      "text/markdown": [
       "0.00671722954381257"
      ],
      "text/plain": [
       "[1] 0.00671723"
      ]
     },
     "metadata": {},
     "output_type": "display_data"
    }
   ],
   "source": [
    "SE = sqrt(varTreat/nTreat + varControl/nControl)\n",
    "SE"
   ]
  },
  {
   "cell_type": "markdown",
   "metadata": {},
   "source": [
    "### The Z-statistic will be equal to the (differnce between the sample means)/(standard error)"
   ]
  },
  {
   "cell_type": "code",
   "execution_count": 116,
   "metadata": {
    "collapsed": false
   },
   "outputs": [
    {
     "data": {
      "text/html": [
       "0.0139117013293295"
      ],
      "text/latex": [
       "0.0139117013293295"
      ],
      "text/markdown": [
       "0.0139117013293295"
      ],
      "text/plain": [
       "[1] 0.0139117"
      ]
     },
     "metadata": {},
     "output_type": "display_data"
    }
   ],
   "source": [
    "diff = mean(treatmentData$female_turnout_rate) - mean(controlData$female_turnout_rate)\n",
    "diff"
   ]
  },
  {
   "cell_type": "code",
   "execution_count": 117,
   "metadata": {
    "collapsed": false
   },
   "outputs": [
    {
     "data": {
      "text/html": [
       "2.07104748149391"
      ],
      "text/latex": [
       "2.07104748149391"
      ],
      "text/markdown": [
       "2.07104748149391"
      ],
      "text/plain": [
       "[1] 2.071047"
      ]
     },
     "metadata": {},
     "output_type": "display_data"
    }
   ],
   "source": [
    "Z_stat = diff/SE\n",
    "Z_stat"
   ]
  },
  {
   "cell_type": "markdown",
   "metadata": {},
   "source": [
    "### Let me find out 97.5% z-value(Value of normal data with mean zero and standard Deviation 1)"
   ]
  },
  {
   "cell_type": "code",
   "execution_count": 118,
   "metadata": {
    "collapsed": false
   },
   "outputs": [
    {
     "data": {
      "text/html": [
       "1.95996398454005"
      ],
      "text/latex": [
       "1.95996398454005"
      ],
      "text/markdown": [
       "1.95996398454005"
      ],
      "text/plain": [
       "[1] 1.959964"
      ]
     },
     "metadata": {},
     "output_type": "display_data"
    }
   ],
   "source": [
    "qnorm(0.975)"
   ]
  },
  {
   "cell_type": "markdown",
   "metadata": {},
   "source": [
    "### 2.071 is greater than the critical value of 1.96. Hence considering this as a one-sided test, I reject the null hypotheses at 2.5% significant level. Hence I accept that based on the data we can conclude that there is a significant difference."
   ]
  },
  {
   "cell_type": "markdown",
   "metadata": {},
   "source": [
    "### Now I will plot Bar graph to show the difference in turnout between treatment and control polling booths by gender as well as total turnout. I will use R library ggplot2 for that."
   ]
  },
  {
   "cell_type": "code",
   "execution_count": 119,
   "metadata": {
    "collapsed": false
   },
   "outputs": [
    {
     "name": "stderr",
     "output_type": "stream",
     "text": [
      "Warning message:\n",
      "\"package 'ggplot2' was built under R version 3.4.0\""
     ]
    }
   ],
   "source": [
    "library(ggplot2)"
   ]
  },
  {
   "cell_type": "markdown",
   "metadata": {},
   "source": [
    "### Let me reformat the data to get the counts of turnout counts by gender and total counts by gender for visulaization purpose."
   ]
  },
  {
   "cell_type": "code",
   "execution_count": 120,
   "metadata": {
    "collapsed": false
   },
   "outputs": [
    {
     "name": "stdout",
     "output_type": "stream",
     "text": [
      "Classes 'tbl_df', 'tbl' and 'data.frame':\t6948 obs. of  12 variables:\n",
      " $ town_id          : num  171 171 171 171 171 171 171 171 171 171 ...\n",
      " $ turnout_total    : num  413 618 377 367 265 325 384 310 342 366 ...\n",
      " $ turnout_male     : num  208 337 215 200 128 185 216 180 183 205 ...\n",
      " $ turnout_female   : num  205 281 162 167 137 140 168 130 159 161 ...\n",
      " $ registered_total : num  1389 1544 1280 1551 1128 ...\n",
      " $ registered_male  : num  769 859 695 850 609 556 477 512 604 225 ...\n",
      " $ registered_female: num  620 685 585 701 519 442 342 436 469 176 ...\n",
      " $ treatment        : num  1 0 0 0 1 0 0 1 1 1 ...\n",
      " $ treatment_phase  : num  1 1 1 1 1 1 1 1 1 1 ...\n",
      " $ town_name        : chr  \"Ara\" \"Ara\" \"Ara\" \"Ara\" ...\n",
      " $ districtCode     : int  5 5 5 5 5 5 5 5 5 5 ...\n",
      " $ unique_id        : chr  \"171A001\" \"171A002\" \"171A003\" \"171A004\" ...\n"
     ]
    }
   ],
   "source": [
    "str(newData2)"
   ]
  },
  {
   "cell_type": "code",
   "execution_count": 121,
   "metadata": {
    "collapsed": false
   },
   "outputs": [],
   "source": [
    "visData <- newData2 %>% group_by(treatment) %>%\n",
    "            summarise(count_turnout_male = sum(turnout_male),\n",
    "             count_turnout_female = sum(turnout_female),\n",
    "             count_turnout_total = sum(turnout_total))"
   ]
  },
  {
   "cell_type": "code",
   "execution_count": 122,
   "metadata": {
    "collapsed": false
   },
   "outputs": [
    {
     "data": {
      "text/html": [
       "<table>\n",
       "<thead><tr><th scope=col>treatment</th><th scope=col>count_turnout_male</th><th scope=col>count_turnout_female</th><th scope=col>count_turnout_total</th></tr></thead>\n",
       "<tbody>\n",
       "\t<tr><td>0      </td><td>885856 </td><td>725400 </td><td>1611256</td></tr>\n",
       "\t<tr><td>1      </td><td>874914 </td><td>745578 </td><td>1620492</td></tr>\n",
       "</tbody>\n",
       "</table>\n"
      ],
      "text/latex": [
       "\\begin{tabular}{r|llll}\n",
       " treatment & count\\_turnout\\_male & count\\_turnout\\_female & count\\_turnout\\_total\\\\\n",
       "\\hline\n",
       "\t 0       & 885856  & 725400  & 1611256\\\\\n",
       "\t 1       & 874914  & 745578  & 1620492\\\\\n",
       "\\end{tabular}\n"
      ],
      "text/markdown": [
       "\n",
       "treatment | count_turnout_male | count_turnout_female | count_turnout_total | \n",
       "|---|---|\n",
       "| 0       | 885856  | 725400  | 1611256 | \n",
       "| 1       | 874914  | 745578  | 1620492 | \n",
       "\n",
       "\n"
      ],
      "text/plain": [
       "  treatment count_turnout_male count_turnout_female count_turnout_total\n",
       "1 0         885856             725400               1611256            \n",
       "2 1         874914             745578               1620492            "
      ]
     },
     "metadata": {},
     "output_type": "display_data"
    }
   ],
   "source": [
    "visData"
   ]
  },
  {
   "cell_type": "code",
   "execution_count": 123,
   "metadata": {
    "collapsed": false
   },
   "outputs": [
    {
     "data": {},
     "metadata": {},
     "output_type": "display_data"
    },
    {
     "data": {
      "image/png": "[encoded data removed]",
      "text/plain": [
       "plot without title"
      ]
     },
     "metadata": {},
     "output_type": "display_data"
    }
   ],
   "source": [
    "ggplot(visData, aes(factor(treatment),count_turnout_male)) + geom_col()"
   ]
  },
  {
   "cell_type": "code",
   "execution_count": 124,
   "metadata": {
    "collapsed": false
   },
   "outputs": [
    {
     "data": {},
     "metadata": {},
     "output_type": "display_data"
    },
    {
     "data": {
      "image/png": "[encoded data removed]",
      "text/plain": [
       "plot without title"
      ]
     },
     "metadata": {},
     "output_type": "display_data"
    }
   ],
   "source": [
    "ggplot(visData, aes(factor(treatment),count_turnout_female)) + geom_col()"
   ]
  },
  {
   "cell_type": "code",
   "execution_count": 125,
   "metadata": {
    "collapsed": false
   },
   "outputs": [
    {
     "data": {},
     "metadata": {},
     "output_type": "display_data"
    },
    {
     "data": {
      "image/png": "[encoded data removed]",
      "text/plain": [
       "plot without title"
      ]
     },
     "metadata": {},
     "output_type": "display_data"
    }
   ],
   "source": [
    "ggplot(visData, aes(factor(treatment),count_turnout_total)) + geom_col()"
   ]
  },
  {
   "cell_type": "markdown",
   "metadata": {},
   "source": [
    "### Section 2 is over."
   ]
  },
  {
   "cell_type": "markdown",
   "metadata": {},
   "source": [
    "# Now I will move to Section 3 - Regression"
   ]
  },
  {
   "cell_type": "code",
   "execution_count": 126,
   "metadata": {
    "collapsed": false
   },
   "outputs": [
    {
     "data": {
      "text/plain": [
       "   town_id171        town_id172        town_id173        town_id175     \n",
       " Min.   :0.00000   Min.   :0.00000   Min.   :0.00000   Min.   :0.00000  \n",
       " 1st Qu.:0.00000   1st Qu.:0.00000   1st Qu.:0.00000   1st Qu.:0.00000  \n",
       " Median :0.00000   Median :0.00000   Median :0.00000   Median :0.00000  \n",
       " Mean   :0.03886   Mean   :0.04591   Mean   :0.03613   Mean   :0.04116  \n",
       " 3rd Qu.:0.00000   3rd Qu.:0.00000   3rd Qu.:0.00000   3rd Qu.:0.00000  \n",
       " Max.   :1.00000   Max.   :1.00000   Max.   :1.00000   Max.   :1.00000  \n",
       "   town_id176        town_id177        town_id190        town_id191     \n",
       " Min.   :0.00000   Min.   :0.00000   Min.   :0.00000   Min.   :0.00000  \n",
       " 1st Qu.:0.00000   1st Qu.:0.00000   1st Qu.:0.00000   1st Qu.:0.00000  \n",
       " Median :0.00000   Median :0.00000   Median :0.00000   Median :0.00000  \n",
       " Mean   :0.03944   Mean   :0.03987   Mean   :0.03685   Mean   :0.04347  \n",
       " 3rd Qu.:0.00000   3rd Qu.:0.00000   3rd Qu.:0.00000   3rd Qu.:0.00000  \n",
       " Max.   :1.00000   Max.   :1.00000   Max.   :1.00000   Max.   :1.00000  \n",
       "   town_id192        town_id193        town_id195       town_id196     \n",
       " Min.   :0.00000   Min.   :0.00000   Min.   :0.0000   Min.   :0.00000  \n",
       " 1st Qu.:0.00000   1st Qu.:0.00000   1st Qu.:0.0000   1st Qu.:0.00000  \n",
       " Median :0.00000   Median :0.00000   Median :0.0000   Median :0.00000  \n",
       " Mean   :0.03138   Mean   :0.03267   Mean   :0.0321   Mean   :0.03569  \n",
       " 3rd Qu.:0.00000   3rd Qu.:0.00000   3rd Qu.:0.0000   3rd Qu.:0.00000  \n",
       " Max.   :1.00000   Max.   :1.00000   Max.   :1.0000   Max.   :1.00000  \n",
       "   town_id197        town_id198        town_id199        town_id200     \n",
       " Min.   :0.00000   Min.   :0.00000   Min.   :0.00000   Min.   :0.00000  \n",
       " 1st Qu.:0.00000   1st Qu.:0.00000   1st Qu.:0.00000   1st Qu.:0.00000  \n",
       " Median :0.00000   Median :0.00000   Median :0.00000   Median :0.00000  \n",
       " Mean   :0.03526   Mean   :0.03397   Mean   :0.03555   Mean   :0.03181  \n",
       " 3rd Qu.:0.00000   3rd Qu.:0.00000   3rd Qu.:0.00000   3rd Qu.:0.00000  \n",
       " Max.   :1.00000   Max.   :1.00000   Max.   :1.00000   Max.   :1.00000  \n",
       "   town_id201        town_id208        town_id210        town_id211     \n",
       " Min.   :0.00000   Min.   :0.00000   Min.   :0.00000   Min.   :0.00000  \n",
       " 1st Qu.:0.00000   1st Qu.:0.00000   1st Qu.:0.00000   1st Qu.:0.00000  \n",
       " Median :0.00000   Median :0.00000   Median :0.00000   Median :0.00000  \n",
       " Mean   :0.03469   Mean   :0.04231   Mean   :0.03613   Mean   :0.03411  \n",
       " 3rd Qu.:0.00000   3rd Qu.:0.00000   3rd Qu.:0.00000   3rd Qu.:0.00000  \n",
       " Max.   :1.00000   Max.   :1.00000   Max.   :1.00000   Max.   :1.00000  \n",
       "   town_id212        town_id213        town_id235        town_id236     \n",
       " Min.   :0.00000   Min.   :0.00000   Min.   :0.00000   Min.   :0.00000  \n",
       " 1st Qu.:0.00000   1st Qu.:0.00000   1st Qu.:0.00000   1st Qu.:0.00000  \n",
       " Median :0.00000   Median :0.00000   Median :0.00000   Median :0.00000  \n",
       " Mean   :0.03353   Mean   :0.04145   Mean   :0.03641   Mean   :0.04203  \n",
       " 3rd Qu.:0.00000   3rd Qu.:0.00000   3rd Qu.:0.00000   3rd Qu.:0.00000  \n",
       " Max.   :1.00000   Max.   :1.00000   Max.   :1.00000   Max.   :1.00000  \n",
       "   town_id237        town_id238        town_id239      turnout_total   \n",
       " Min.   :0.00000   Min.   :0.00000   Min.   :0.00000   Min.   :   0.0  \n",
       " 1st Qu.:0.00000   1st Qu.:0.00000   1st Qu.:0.00000   1st Qu.: 353.0  \n",
       " Median :0.00000   Median :0.00000   Median :0.00000   Median : 456.0  \n",
       " Mean   :0.03728   Mean   :0.03454   Mean   :0.03742   Mean   : 465.1  \n",
       " 3rd Qu.:0.00000   3rd Qu.:0.00000   3rd Qu.:0.00000   3rd Qu.: 564.0  \n",
       " Max.   :1.00000   Max.   :1.00000   Max.   :1.00000   Max.   :1045.0  \n",
       "  turnout_male   turnout_female  registered_total registered_male \n",
       " Min.   :  0.0   Min.   :  0.0   Min.   : 204.0   Min.   : 106.0  \n",
       " 1st Qu.:190.0   1st Qu.:161.0   1st Qu.: 593.0   1st Qu.: 322.0  \n",
       " Median :247.0   Median :207.0   Median : 873.5   Median : 481.0  \n",
       " Mean   :253.4   Mean   :211.7   Mean   : 980.1   Mean   : 536.8  \n",
       " 3rd Qu.:309.0   3rd Qu.:257.0   3rd Qu.:1333.2   3rd Qu.: 731.0  \n",
       " Max.   :597.0   Max.   :483.0   Max.   :1999.0   Max.   :1194.0  \n",
       " registered_female   treatment      treatment_phase  town_name        \n",
       " Min.   : 88.0     Min.   :0.0000   Min.   :1.000   Length:6948       \n",
       " 1st Qu.:269.0     1st Qu.:0.0000   1st Qu.:1.000   Class :character  \n",
       " Median :395.0     Median :0.0000   Median :1.000   Mode  :character  \n",
       " Mean   :443.3     Mean   :0.4973   Mean   :1.483                     \n",
       " 3rd Qu.:601.0     3rd Qu.:1.0000   3rd Qu.:2.000                     \n",
       " Max.   :991.0     Max.   :1.0000   Max.   :2.000                     \n",
       "  districtCode    unique_id        \n",
       " Min.   : 1.00   Length:6948       \n",
       " 1st Qu.: 7.00   Class :character  \n",
       " Median :13.00   Mode  :character  \n",
       " Mean   :12.84                     \n",
       " 3rd Qu.:19.00                     \n",
       " Max.   :25.00                     "
      ]
     },
     "metadata": {},
     "output_type": "display_data"
    }
   ],
   "source": [
    "summary(newData3)"
   ]
  },
  {
   "cell_type": "code",
   "execution_count": 127,
   "metadata": {
    "collapsed": true
   },
   "outputs": [],
   "source": [
    "data4Regression <- newData3"
   ]
  },
  {
   "cell_type": "code",
   "execution_count": 128,
   "metadata": {
    "collapsed": true
   },
   "outputs": [],
   "source": [
    "data4Regression$turnout_male = NULL\n",
    "data4Regression$turnout_female = NULL\n",
    "data4Regression$town_name = NULL\n",
    "data4Regression$districtCode = NULL"
   ]
  },
  {
   "cell_type": "code",
   "execution_count": 129,
   "metadata": {
    "collapsed": false
   },
   "outputs": [
    {
     "data": {
      "text/plain": [
       "   town_id171        town_id172        town_id173        town_id175     \n",
       " Min.   :0.00000   Min.   :0.00000   Min.   :0.00000   Min.   :0.00000  \n",
       " 1st Qu.:0.00000   1st Qu.:0.00000   1st Qu.:0.00000   1st Qu.:0.00000  \n",
       " Median :0.00000   Median :0.00000   Median :0.00000   Median :0.00000  \n",
       " Mean   :0.03886   Mean   :0.04591   Mean   :0.03613   Mean   :0.04116  \n",
       " 3rd Qu.:0.00000   3rd Qu.:0.00000   3rd Qu.:0.00000   3rd Qu.:0.00000  \n",
       " Max.   :1.00000   Max.   :1.00000   Max.   :1.00000   Max.   :1.00000  \n",
       "   town_id176        town_id177        town_id190        town_id191     \n",
       " Min.   :0.00000   Min.   :0.00000   Min.   :0.00000   Min.   :0.00000  \n",
       " 1st Qu.:0.00000   1st Qu.:0.00000   1st Qu.:0.00000   1st Qu.:0.00000  \n",
       " Median :0.00000   Median :0.00000   Median :0.00000   Median :0.00000  \n",
       " Mean   :0.03944   Mean   :0.03987   Mean   :0.03685   Mean   :0.04347  \n",
       " 3rd Qu.:0.00000   3rd Qu.:0.00000   3rd Qu.:0.00000   3rd Qu.:0.00000  \n",
       " Max.   :1.00000   Max.   :1.00000   Max.   :1.00000   Max.   :1.00000  \n",
       "   town_id192        town_id193        town_id195       town_id196     \n",
       " Min.   :0.00000   Min.   :0.00000   Min.   :0.0000   Min.   :0.00000  \n",
       " 1st Qu.:0.00000   1st Qu.:0.00000   1st Qu.:0.0000   1st Qu.:0.00000  \n",
       " Median :0.00000   Median :0.00000   Median :0.0000   Median :0.00000  \n",
       " Mean   :0.03138   Mean   :0.03267   Mean   :0.0321   Mean   :0.03569  \n",
       " 3rd Qu.:0.00000   3rd Qu.:0.00000   3rd Qu.:0.0000   3rd Qu.:0.00000  \n",
       " Max.   :1.00000   Max.   :1.00000   Max.   :1.0000   Max.   :1.00000  \n",
       "   town_id197        town_id198        town_id199        town_id200     \n",
       " Min.   :0.00000   Min.   :0.00000   Min.   :0.00000   Min.   :0.00000  \n",
       " 1st Qu.:0.00000   1st Qu.:0.00000   1st Qu.:0.00000   1st Qu.:0.00000  \n",
       " Median :0.00000   Median :0.00000   Median :0.00000   Median :0.00000  \n",
       " Mean   :0.03526   Mean   :0.03397   Mean   :0.03555   Mean   :0.03181  \n",
       " 3rd Qu.:0.00000   3rd Qu.:0.00000   3rd Qu.:0.00000   3rd Qu.:0.00000  \n",
       " Max.   :1.00000   Max.   :1.00000   Max.   :1.00000   Max.   :1.00000  \n",
       "   town_id201        town_id208        town_id210        town_id211     \n",
       " Min.   :0.00000   Min.   :0.00000   Min.   :0.00000   Min.   :0.00000  \n",
       " 1st Qu.:0.00000   1st Qu.:0.00000   1st Qu.:0.00000   1st Qu.:0.00000  \n",
       " Median :0.00000   Median :0.00000   Median :0.00000   Median :0.00000  \n",
       " Mean   :0.03469   Mean   :0.04231   Mean   :0.03613   Mean   :0.03411  \n",
       " 3rd Qu.:0.00000   3rd Qu.:0.00000   3rd Qu.:0.00000   3rd Qu.:0.00000  \n",
       " Max.   :1.00000   Max.   :1.00000   Max.   :1.00000   Max.   :1.00000  \n",
       "   town_id212        town_id213        town_id235        town_id236     \n",
       " Min.   :0.00000   Min.   :0.00000   Min.   :0.00000   Min.   :0.00000  \n",
       " 1st Qu.:0.00000   1st Qu.:0.00000   1st Qu.:0.00000   1st Qu.:0.00000  \n",
       " Median :0.00000   Median :0.00000   Median :0.00000   Median :0.00000  \n",
       " Mean   :0.03353   Mean   :0.04145   Mean   :0.03641   Mean   :0.04203  \n",
       " 3rd Qu.:0.00000   3rd Qu.:0.00000   3rd Qu.:0.00000   3rd Qu.:0.00000  \n",
       " Max.   :1.00000   Max.   :1.00000   Max.   :1.00000   Max.   :1.00000  \n",
       "   town_id237        town_id238        town_id239      turnout_total   \n",
       " Min.   :0.00000   Min.   :0.00000   Min.   :0.00000   Min.   :   0.0  \n",
       " 1st Qu.:0.00000   1st Qu.:0.00000   1st Qu.:0.00000   1st Qu.: 353.0  \n",
       " Median :0.00000   Median :0.00000   Median :0.00000   Median : 456.0  \n",
       " Mean   :0.03728   Mean   :0.03454   Mean   :0.03742   Mean   : 465.1  \n",
       " 3rd Qu.:0.00000   3rd Qu.:0.00000   3rd Qu.:0.00000   3rd Qu.: 564.0  \n",
       " Max.   :1.00000   Max.   :1.00000   Max.   :1.00000   Max.   :1045.0  \n",
       " registered_total registered_male  registered_female   treatment     \n",
       " Min.   : 204.0   Min.   : 106.0   Min.   : 88.0     Min.   :0.0000  \n",
       " 1st Qu.: 593.0   1st Qu.: 322.0   1st Qu.:269.0     1st Qu.:0.0000  \n",
       " Median : 873.5   Median : 481.0   Median :395.0     Median :0.0000  \n",
       " Mean   : 980.1   Mean   : 536.8   Mean   :443.3     Mean   :0.4973  \n",
       " 3rd Qu.:1333.2   3rd Qu.: 731.0   3rd Qu.:601.0     3rd Qu.:1.0000  \n",
       " Max.   :1999.0   Max.   :1194.0   Max.   :991.0     Max.   :1.0000  \n",
       " treatment_phase  unique_id        \n",
       " Min.   :1.000   Length:6948       \n",
       " 1st Qu.:1.000   Class :character  \n",
       " Median :1.000   Mode  :character  \n",
       " Mean   :1.483                     \n",
       " 3rd Qu.:2.000                     \n",
       " Max.   :2.000                     "
      ]
     },
     "metadata": {},
     "output_type": "display_data"
    }
   ],
   "source": [
    "summary(data4Regression)"
   ]
  },
  {
   "cell_type": "code",
   "execution_count": 130,
   "metadata": {
    "collapsed": true
   },
   "outputs": [],
   "source": [
    "model1 <- lm(turnout_total ~ . -registered_male -registered_female -treatment_phase -unique_id, data=data4Regression)"
   ]
  },
  {
   "cell_type": "code",
   "execution_count": 131,
   "metadata": {
    "collapsed": false
   },
   "outputs": [
    {
     "data": {
      "text/plain": [
       "\n",
       "Call:\n",
       "lm(formula = turnout_total ~ . - registered_male - registered_female - \n",
       "    treatment_phase - unique_id, data = data4Regression)\n",
       "\n",
       "Residuals:\n",
       "    Min      1Q  Median      3Q     Max \n",
       "-526.66 -104.62   -7.43   95.22  534.18 \n",
       "\n",
       "Coefficients: (1 not defined because of singularities)\n",
       "                   Estimate Std. Error t value Pr(>|t|)    \n",
       "(Intercept)      405.504591   9.887939  41.010  < 2e-16 ***\n",
       "town_id171       -67.868505  12.624399  -5.376 7.87e-08 ***\n",
       "town_id172         5.568930  12.139392   0.459 0.646429    \n",
       "town_id173       -62.614706  12.856988  -4.870 1.14e-06 ***\n",
       "town_id175       -28.336535  12.449928  -2.276 0.022874 *  \n",
       "town_id176       -25.468192  12.579653  -2.025 0.042951 *  \n",
       "town_id177       -33.439857  12.546090  -2.665 0.007708 ** \n",
       "town_id190       -14.027419  12.793183  -1.096 0.272909    \n",
       "town_id191       -31.202794  12.293149  -2.538 0.011163 *  \n",
       "town_id192        42.391272  13.343534   3.177 0.001495 ** \n",
       "town_id193        23.649741  13.197957   1.792 0.073189 .  \n",
       "town_id195       -54.718228  13.261053  -4.126 3.73e-05 ***\n",
       "town_id196        46.459043  12.898804   3.602 0.000318 ***\n",
       "town_id197        62.318050  12.939962   4.816 1.50e-06 ***\n",
       "town_id198         5.538707  13.062796   0.424 0.671574    \n",
       "town_id199        43.395708  12.909913   3.361 0.000780 ***\n",
       "town_id200       108.106350  13.294735   8.132 4.98e-16 ***\n",
       "town_id201        46.237091  12.997168   3.557 0.000377 ***\n",
       "town_id208        25.135776  12.369040   2.032 0.042176 *  \n",
       "town_id210        12.852952  12.856832   1.000 0.317492    \n",
       "town_id211        19.844719  13.050422   1.521 0.128401    \n",
       "town_id212        61.165416  13.109896   4.666 3.14e-06 ***\n",
       "town_id213       -23.659731  12.429459  -1.904 0.057014 .  \n",
       "town_id235       -37.336987  12.831218  -2.910 0.003627 ** \n",
       "town_id236       -41.074639  12.389473  -3.315 0.000920 ***\n",
       "town_id237        -9.068244  12.755379  -0.711 0.477149    \n",
       "town_id238       -53.936535  13.006215  -4.147 3.41e-05 ***\n",
       "town_id239               NA         NA      NA       NA    \n",
       "registered_total   0.057658   0.003824  15.076  < 2e-16 ***\n",
       "treatment          8.400644   3.486515   2.409 0.016002 *  \n",
       "---\n",
       "Signif. codes:  0 '***' 0.001 '**' 0.01 '*' 0.05 '.' 0.1 ' ' 1\n",
       "\n",
       "Residual standard error: 145.3 on 6919 degrees of freedom\n",
       "Multiple R-squared:  0.1102,\tAdjusted R-squared:  0.1066 \n",
       "F-statistic: 30.61 on 28 and 6919 DF,  p-value: < 2.2e-16\n"
      ]
     },
     "metadata": {},
     "output_type": "display_data"
    }
   ],
   "source": [
    "summary(model1)"
   ]
  },
  {
   "cell_type": "markdown",
   "metadata": {},
   "source": [
    "### The output of the regression model clearly states that the p-value for registered_total and treatment are significantly less that 0.05. Hence they are significant and there is no chance of their coefficients having a value of zero."
   ]
  },
  {
   "cell_type": "code",
   "execution_count": 132,
   "metadata": {
    "collapsed": true
   },
   "outputs": [],
   "source": [
    "control <- subset(data4Regression, treatment == 0)\n",
    "treat <- subset(data4Regression, treatment == 1)"
   ]
  },
  {
   "cell_type": "code",
   "execution_count": 133,
   "metadata": {
    "collapsed": false
   },
   "outputs": [
    {
     "data": {
      "text/plain": [
       "   Min. 1st Qu.  Median    Mean 3rd Qu.    Max. \n",
       "    0.0   352.0   452.0   461.3   559.0  1005.0 "
      ]
     },
     "metadata": {},
     "output_type": "display_data"
    }
   ],
   "source": [
    "summary(control$turnout_total)"
   ]
  },
  {
   "cell_type": "code",
   "execution_count": 134,
   "metadata": {
    "collapsed": false
   },
   "outputs": [
    {
     "data": {
      "text/plain": [
       "   Min. 1st Qu.  Median    Mean 3rd Qu.    Max. \n",
       "      1     354     460     469     569    1045 "
      ]
     },
     "metadata": {},
     "output_type": "display_data"
    }
   ],
   "source": [
    "summary(treat$turnout_total)"
   ]
  },
  {
   "cell_type": "markdown",
   "metadata": {},
   "source": [
    "### The mean turnout for the control group is 461.3. "
   ]
  },
  {
   "cell_type": "markdown",
   "metadata": {},
   "source": [
    "### The mean has changes from 461.3 to 469 after the intervention."
   ]
  },
  {
   "cell_type": "markdown",
   "metadata": {},
   "source": [
    "### The turnout is statistically significant. If we look at the p-value of the F-statistic of the regression model it is much less than the significant level of 0.05. Hence the overall model says that some of the variability of the dependent variable can be explained by the model(that is by the effect or treatment)."
   ]
  },
  {
   "cell_type": "code",
   "execution_count": null,
   "metadata": {
    "collapsed": true
   },
   "outputs": [],
   "source": []
  }
 ],
 "metadata": {
  "anaconda-cloud": {},
  "kernelspec": {
   "display_name": "R",
   "language": "R",
   "name": "ir"
  },
  "language_info": {
   "codemirror_mode": "r",
   "file_extension": ".r",
   "mimetype": "text/x-r-source",
   "name": "R",
   "pygments_lexer": "r",
   "version": "3.3.2"
  }
 },
 "nbformat": 4,
 "nbformat_minor": 1
}
